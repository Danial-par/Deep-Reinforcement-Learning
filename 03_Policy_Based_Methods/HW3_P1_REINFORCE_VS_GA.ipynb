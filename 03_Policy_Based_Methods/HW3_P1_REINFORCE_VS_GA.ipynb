{
  "cells": [
    {
      "cell_type": "markdown",
      "metadata": {
        "id": "-qm_04eLVkW2"
      },
      "source": [
        "# Run this Notebook\n",
        "\n",
        "[![Open In Colab](https://colab.research.google.com/assets/colab-badge.svg)](https://colab.research.google.com/github/DeepRLCourse/Homework-3-Questions/blob/main/HW3_P1_REINFORCE_VS_GA.ipynb)  \n",
        "[![Open in Kaggle](https://kaggle.com/static/images/open-in-kaggle.svg)](https://kaggle.com/kernels/welcome?src=https://github.com/DeepRLCourse/Homework-3-Questions/blob/main/HW3_P1_REINFORCE_VS_GA.ipynb)\n",
        "\n",
        "# HW3: REINFORCE Vs. GA\n",
        "> - Full Name: **Danial Parnian**\n",
        "> - Student ID: **401110307**\n",
        "\n",
        "\n",
        "This notebook implements a Grid World environment where an agent learns to navigate from a start position to a goal while avoiding penalties. It compares two learning approaches:\n",
        "\n",
        "1. REINFORCE Algorithm (Policy Gradient)\n",
        "2. Genetic Algorithm\n",
        "\n",
        "Follow the instructions in each section to complete the homework.\n",
        "\n",
        "**Grading Breakdown:**\n",
        "\n",
        "- Practical Implementation: 60 points\n",
        "- Conceptual Understanding: 40 points"
      ]
    },
    {
      "cell_type": "markdown",
      "metadata": {
        "id": "UIV1aBVOVkW3"
      },
      "source": [
        "# Setup"
      ]
    },
    {
      "cell_type": "markdown",
      "metadata": {
        "id": "R3E7ds6pVkW3"
      },
      "source": [
        "All required packages are pre-installed if using Google Colab."
      ]
    },
    {
      "cell_type": "markdown",
      "metadata": {
        "id": "1zIoHwp7VkW3"
      },
      "source": [
        "Import the following libraries."
      ]
    },
    {
      "cell_type": "code",
      "execution_count": 1,
      "metadata": {
        "colab": {
          "base_uri": "https://localhost:8080/"
        },
        "id": "lPTr6YAZVkW3",
        "outputId": "63b3bfab-2844-4393-a284-ab87c52f6720"
      },
      "outputs": [
        {
          "output_type": "stream",
          "name": "stdout",
          "text": [
            "Using device: cuda\n"
          ]
        }
      ],
      "source": [
        "import numpy as np\n",
        "import random\n",
        "import torch\n",
        "import torch.nn as nn\n",
        "import torch.optim as optim\n",
        "import matplotlib.pyplot as plt\n",
        "\n",
        "device = 'cuda' if torch.cuda.is_available() else 'cpu'\n",
        "print(f\"Using device: {device}\")"
      ]
    },
    {
      "cell_type": "markdown",
      "metadata": {
        "id": "npDihcn-VkW4"
      },
      "source": [
        "# Environment (10 Points)"
      ]
    },
    {
      "cell_type": "markdown",
      "metadata": {
        "id": "4VIbPrUNVkW4"
      },
      "source": [
        "### GridWorld Class Definition (10 Points)"
      ]
    },
    {
      "cell_type": "code",
      "execution_count": 2,
      "metadata": {
        "id": "gzZ21DR3VkW4"
      },
      "outputs": [],
      "source": [
        "# Grid World Parameters\n",
        "GRID_SIZE = 7\n",
        "\n",
        "# Specify the penalty locations on the Grid World. The number of penalty locations must be 8. {(x_1, y_1): penalty_reward, .... , (x_8, y_8): penalty_reward}\n",
        "\n",
        "PENALTIES = {(2, 2): -1, (2, 3): -1, (1, 3): -1, (1, 6): -1, (4, 1): -1, (4, 4): -1, (5, 2): -1, (5, 5): -1}\n",
        "\n",
        "# Specify the goal location.\n",
        "GOAL = (6, 6)\n",
        "\n",
        "# Properly assign values to the following rewards.\n",
        "GOAL_REWARD = 10\n",
        "STEP_PENALTY = - 0.1\n",
        "BOUNDARY_PENALTY = -1\n",
        "\n",
        "ACTIONS = ['up', 'down', 'left', 'right']\n",
        "ACTION_IDX = {a: i for i, a in enumerate(ACTIONS)}"
      ]
    },
    {
      "cell_type": "markdown",
      "metadata": {
        "id": "PdM2t2xbVkW4"
      },
      "source": [
        "### GridWorld Environmnet Definition"
      ]
    },
    {
      "cell_type": "code",
      "execution_count": 3,
      "metadata": {
        "id": "jQCWrZErVkW4"
      },
      "outputs": [],
      "source": [
        "class GridWorld:\n",
        "    def step(self, state, action):\n",
        "        x, y = state\n",
        "        new_x, new_y = x, y\n",
        "\n",
        "        if action == 'right':\n",
        "            new_x = min(x + 1, GRID_SIZE - 1)\n",
        "        elif action == 'left':\n",
        "            new_x = max(x - 1, 0)\n",
        "        elif action == 'up':\n",
        "            new_y = min(y + 1, GRID_SIZE - 1)\n",
        "        elif action == 'down':\n",
        "            new_y = max(y - 1, 0)\n",
        "\n",
        "        reward = STEP_PENALTY\n",
        "        if (new_x, new_y) == (x, y):\n",
        "            reward += BOUNDARY_PENALTY\n",
        "        if (new_x, new_y) in PENALTIES:\n",
        "            reward += PENALTIES[(new_x, new_y)]\n",
        "        if (new_x, new_y) == GOAL:\n",
        "            reward += GOAL_REWARD\n",
        "\n",
        "        return (new_x, new_y), reward"
      ]
    },
    {
      "cell_type": "markdown",
      "metadata": {
        "id": "nurQzzl_VkW5"
      },
      "source": [
        "### Initialize the Grid World"
      ]
    },
    {
      "cell_type": "code",
      "execution_count": 4,
      "metadata": {
        "id": "fU3GAx06VkW5"
      },
      "outputs": [],
      "source": [
        "grid_world = GridWorld()"
      ]
    },
    {
      "cell_type": "markdown",
      "metadata": {
        "id": "Djg0CI67VkW5"
      },
      "source": [
        "### Plot Empty Grid World"
      ]
    },
    {
      "cell_type": "code",
      "execution_count": 5,
      "metadata": {
        "colab": {
          "base_uri": "https://localhost:8080/",
          "height": 468
        },
        "id": "TxqhAyerVkW5",
        "outputId": "740e18ae-7aa2-41ce-8ec3-fc2ba9798f34"
      },
      "outputs": [
        {
          "output_type": "display_data",
          "data": {
            "text/plain": [
              "<Figure size 500x500 with 1 Axes>"
            ],
            "image/png": "[encoded data removed]"
          },
          "metadata": {}
        }
      ],
      "source": [
        "plt.figure(figsize=(5, 5))\n",
        "plt.scatter(0, 0, c='green', marker='s', label='Start')\n",
        "plt.scatter(GOAL[0], GOAL[1], c='red', marker='X', label='Goal')\n",
        "for i, (px, py) in enumerate(PENALTIES):\n",
        "    if i == 0:\n",
        "        plt.scatter(px, py, c='orange', marker='D', label='Penalty')\n",
        "    else:\n",
        "        plt.scatter(px, py, c='orange', marker='D')\n",
        "plt.xticks(range(GRID_SIZE))\n",
        "plt.yticks(range(GRID_SIZE))\n",
        "plt.title(\"Grid World\")\n",
        "plt.legend()\n",
        "plt.grid(True)\n",
        "plt.show()"
      ]
    },
    {
      "cell_type": "markdown",
      "metadata": {
        "id": "fLm0Q_NUVkW5"
      },
      "source": [
        "# REINFORCE Algorithm (30 Points)"
      ]
    },
    {
      "cell_type": "markdown",
      "metadata": {
        "id": "gC1g8VL_VkW5"
      },
      "source": [
        "The REINFORCE algorithm updates policy parameters by using the log-probability of actions multiplied by the discounted return.\n",
        "\n",
        "This algorithm optimizes a **stochastic policy** $( \\pi_{\\theta}(a_t \\mid s_t) )$ by updating its parameters in the direction that increases expected rewards. The update rule is based on the **policy gradient theorem**:  \n",
        "\n",
        "$$[\n",
        "\\theta \\leftarrow \\theta + \\alpha \\sum_{t=0}^{T} \\nabla_{\\theta} \\log \\pi_{\\theta}(a_t \\mid s_t) G_t\n",
        "]$$\n",
        "\n",
        "where:  \n",
        "\n",
        "- $( \\theta )$ are the policy parameters (weights of the neural network).  \n",
        "- $( \\alpha )$ is the learning rate.  \n",
        "- $( G_t )$ is the **discounted return** from timestep $( t )$:  \n",
        "\n",
        "$$[\n",
        "G_t = \\sum_{k=0}^{T-t} \\gamma^k R_{t+k}\n",
        "]$$\n",
        "\n",
        "- $( \\nabla_{\\theta} \\log \\pi_{\\theta}(a_t \\mid s_t) )$ is the gradient of the log-probability of the selected action, used to adjust the policy in the correct direction."
      ]
    },
    {
      "cell_type": "markdown",
      "metadata": {
        "id": "mpvODJhGVkW5"
      },
      "source": [
        "### Policy Network Definition (10 points)"
      ]
    },
    {
      "cell_type": "code",
      "execution_count": 6,
      "metadata": {
        "id": "NDniXDH8VkW5"
      },
      "outputs": [],
      "source": [
        "class PolicyNetwork(nn.Module):\n",
        "    def __init__(self, input_dim, output_dim, hidden_dim):\n",
        "        super().__init__()\n",
        "        self.fc1 = nn.Linear(input_dim, hidden_dim)\n",
        "        self.fc2 = nn.Linear(hidden_dim, output_dim)\n",
        "\n",
        "    def forward(self, state):\n",
        "        x = torch.relu(self.fc1(state))\n",
        "        return torch.log_softmax(self.fc2(x), dim=-1)\n"
      ]
    },
    {
      "cell_type": "markdown",
      "metadata": {
        "id": "z3s9oBcxVkW5"
      },
      "source": [
        "### REINFORCE Agent Implementation (20 Points)"
      ]
    },
    {
      "cell_type": "code",
      "execution_count": 7,
      "metadata": {
        "id": "SFgBI88IVkW6"
      },
      "outputs": [],
      "source": [
        "class ReinforceAgent:\n",
        "    def __init__(self, lr=0.005, gamma=0.99):\n",
        "\n",
        "        self.input_dim = 2 # (x, y) coordinates\n",
        "        self.output_dim = 4 # number of actions\n",
        "        self.hidden_dim = 128\n",
        "        self.policy_net = PolicyNetwork(self.input_dim, self.output_dim, self.hidden_dim)\n",
        "        self.optimizer = optim.Adam(self.policy_net.parameters(), lr=lr)\n",
        "        self.gamma = gamma\n",
        "\n",
        "    def train(self, episodes=6000, epsilon=1.0, epsilon_decay=0.9995, min_epsilon=0.01):\n",
        "        for episode in range(episodes):\n",
        "            state = (0, 0)\n",
        "            trajectory, rewards = [], []\n",
        "\n",
        "            while state != GOAL:\n",
        "                state_tensor = torch.tensor(state, dtype=torch.float32)\n",
        "                log_action_probs = self.policy_net(state_tensor).detach().numpy()\n",
        "                action_probs = np.exp(log_action_probs)\n",
        "\n",
        "                random_value = np.random.rand()  # Generate a random number between 0 and 1.\n",
        "\n",
        "                # Using an epsilon-greedy strategy to balance exploration & exploitation:\n",
        "                if random_value < epsilon:\n",
        "                    # Choose a random action (exploration) -> random choice from ACTIONS.\n",
        "                    action = np.random.choice(ACTIONS)\n",
        "                else:\n",
        "                    # Choose the action with the highest probability (exploitation).\n",
        "                    best_action_index = np.argmax(action_probs)\n",
        "                    action = ACTIONS[best_action_index]\n",
        "\n",
        "                # Take a step in the Grid World based on the chosen action.\n",
        "                new_state, reward = grid_world.step(state, action)\n",
        "\n",
        "                # Store the current state, action taken, and received reward in the trajectory.\n",
        "                trajectory.append((state, action, reward))\n",
        "\n",
        "                # Record the reward to calculate returns later.\n",
        "                rewards.append(reward)\n",
        "\n",
        "                # Update the state to the new position for the next step.\n",
        "                state = new_state\n",
        "\n",
        "            returns, G = [], 0\n",
        "            for r in reversed(rewards):\n",
        "                G = r + self.gamma * G\n",
        "                returns.insert(0, G)\n",
        "\n",
        "            returns = torch.tensor(returns, dtype=torch.float32)\n",
        "            baseline = returns.mean()\n",
        "            returns -= baseline\n",
        "\n",
        "            loss = 0\n",
        "            for (state, action, _), G in zip(trajectory, returns):\n",
        "                state_tensor = torch.tensor(state, dtype=torch.float32)\n",
        "                log_action_probs = self.policy_net(state_tensor)\n",
        "                loss -= log_action_probs[ACTION_IDX[action]] * G\n",
        "\n",
        "            self.optimizer.zero_grad()\n",
        "            loss.backward()\n",
        "            self.optimizer.step()\n",
        "            epsilon = max(min_epsilon, epsilon * epsilon_decay)\n",
        "\n",
        "            if episode % 50 == 0:\n",
        "                print(f\"Episode {episode}: Total Reward = {sum(rewards)}, Epsilon = {epsilon:.4f}\")\n",
        "\n",
        "    def get_optimal_trajectory(self):\n",
        "        state = (0, 0)\n",
        "        trajectory = [state]\n",
        "        rewards = 0\n",
        "        while state != GOAL:\n",
        "            state_tensor = torch.tensor(state, dtype=torch.float32)\n",
        "            log_action_probs = self.policy_net(state_tensor).detach().numpy()\n",
        "            action_probs = np.exp(log_action_probs)\n",
        "            action = np.random.choice(ACTIONS, p=action_probs / action_probs.sum())\n",
        "            state, reward = grid_world.step(state, action)\n",
        "            rewards += reward\n",
        "            trajectory.append(state)\n",
        "        return trajectory, rewards"
      ]
    },
    {
      "cell_type": "markdown",
      "metadata": {
        "id": "Kq55_sVbVkW6"
      },
      "source": [
        "# Genetic Algorithm"
      ]
    },
    {
      "cell_type": "markdown",
      "metadata": {
        "id": "3_TK-j01VkW6"
      },
      "source": [
        "\n",
        "Genetic Algorithms (GAs) are optimization algorithms inspired by **natural selection**. They evolve a population of candidate solutions over multiple generations to find an optimal or near-optimal solution.\n",
        "\n",
        "#### **1. Population ($P$)**\n",
        "A **population** consists of multiple candidate solutions (individuals). Each individual represents a **policy or solution** encoded as a chromosome.\n",
        "\n",
        "$$[\n",
        "P_t = \\{ X_1^t, X_2^t, ..., X_N^t \\}\n",
        "]$$\n",
        "\n",
        "where:\n",
        "- $( P_t )$ is the population at generation $( t )$,\n",
        "- $( X_i^t )$ is the $( i )$-th individual in the population,\n",
        "- $( N )$ is the population size.\n",
        "\n",
        "#### **2. Fitness Function ($F$)**\n",
        "Each individual is evaluated using a **fitness function**, which measures how good a solution is.\n",
        "\n",
        "$$[\n",
        "F(X_i) = \\text{reward or performance score of } X_i\n",
        "]$$\n",
        "\n",
        "#### **3. Selection**\n",
        "The best individuals are selected based on their fitness scores to produce the next generation. Common methods include:\n",
        "- **Roulette Wheel Selection** (Probability proportional to fitness)\n",
        "- **Tournament Selection** (Select the best out of a subset)\n",
        "\n",
        "#### **4. Crossover (Recombination)**\n",
        "Two parents **combine genetic information** to create offspring. A common method is **single-point crossover**, where a random crossover point is chosen.\n",
        "\n",
        "$$\n",
        "\\begin{aligned}\n",
        "\\text{Parent 1} &= (A_1, A_2, | A_3, A_4, A_5) \\\\\n",
        "\\text{Parent 2} &= (B_1, B_2, | B_3, B_4, B_5) \\\\\n",
        "\\text{Offspring 1} &= (A_1, A_2, | B_3, B_4, B_5) \\\\\n",
        "\\text{Offspring 2} &= (B_1, B_2, | A_3, A_4, A_5)\n",
        "\\end{aligned}\n",
        "$$\n",
        "\n",
        "#### **5. Mutation**\n",
        "Mutation introduces small **random changes** in individuals to maintain diversity and avoid local optima. If $( X_i )$ is an individual, a mutation function $( M )$ alters some genes:\n",
        "\n",
        "$$[\n",
        "X_i' = M(X_i)\n",
        "]$$\n",
        "\n",
        "For example, if an individual’s policy is `['up', 'right', 'down']`, mutation might randomly change `right` to `left`.\n",
        "\n",
        "#### **6. Generations & Evolution**\n",
        "The new population is formed after selection, crossover, and mutation. The process repeats for **multiple generations** until a stopping criterion is met (e.g., max generations or convergence).\n",
        "\n",
        "$$[\n",
        "P_{t+1} = \\text{next\\_generation}(P_t)\n",
        "]$$\n",
        "\n"
      ]
    },
    {
      "cell_type": "markdown",
      "metadata": {
        "id": "BhuDXH6gVkW6"
      },
      "source": [
        "### Genetic Algorithm Implementation"
      ]
    },
    {
      "cell_type": "code",
      "execution_count": 8,
      "metadata": {
        "id": "dTb0hWMKVkW6"
      },
      "outputs": [],
      "source": [
        "class GeneticAlgorithm:\n",
        "    def __init__(self, population_size, mutation_rate, crossover_rate, policy_network, generations=100, device='cpu'):\n",
        "        self.device = device\n",
        "        self.population_size = population_size\n",
        "        self.mutation_rate = mutation_rate\n",
        "        self.crossover_rate = crossover_rate\n",
        "        self.generations = generations\n",
        "        self.policy_network = policy_network.to(self.device)  # Move the model to GPU\n",
        "        self.population = [self._initialize_individual() for _ in range(population_size)]\n",
        "\n",
        "    def _initialize_individual(self):\n",
        "        # Initialize an individual by setting random weights for the policy network\n",
        "        individual = {}\n",
        "        for name, param in self.policy_network.named_parameters():\n",
        "            individual[name] = torch.randn_like(param).to(self.device)  # Move individual weights to GPU\n",
        "        return individual\n",
        "\n",
        "    def _evaluate_individual(self, individual):\n",
        "        # Simulate the evaluation (for example, run a few episodes in GridWorld environment)\n",
        "        self._apply_individual_weights(individual)\n",
        "        state = (0, 0)\n",
        "        STOP = 0\n",
        "        trajectory, rewards = [], []\n",
        "        while state != GOAL and STOP <= 150:\n",
        "            state_tensor = torch.tensor(state, dtype=torch.float32).to(self.device)  # Move state to GPU\n",
        "            log_action_probs = self.policy_network(state_tensor)\n",
        "            action_probs = torch.exp(log_action_probs)\n",
        "            action_idx = torch.argmax(action_probs).item()  # Get action with highest probability\n",
        "            action = ACTIONS[action_idx]  # Map action index back to action\n",
        "            new_state, reward = grid_world.step(state, action)\n",
        "            trajectory.append((state, action, reward))\n",
        "            rewards.append(reward)\n",
        "            state = new_state\n",
        "            STOP += 1\n",
        "        return sum(rewards)\n",
        "\n",
        "    def _apply_individual_weights(self, individual):\n",
        "        # Apply the weights of an individual to the policy network\n",
        "        for name, param in individual.items():\n",
        "            self.policy_network.state_dict()[name].copy_(param)\n",
        "\n",
        "    def _select_parents(self):\n",
        "        # Select two individuals based on fitness (higher reward is better)\n",
        "        scores = [(ind, self._evaluate_individual(ind)) for ind in self.population]\n",
        "        sorted_scores = sorted(scores, key=lambda x: x[1], reverse=True)\n",
        "        parent1 = sorted_scores[0][0]\n",
        "        parent2 = sorted_scores[1][0]\n",
        "        return parent1, parent2\n",
        "\n",
        "    def _crossover(self, parent1, parent2):\n",
        "        # Perform crossover to combine the genetic material of two parents\n",
        "        child = {}\n",
        "        for name in parent1.keys():\n",
        "            if random.random() < self.crossover_rate:\n",
        "                child[name] = parent1[name]\n",
        "            else:\n",
        "                child[name] = parent2[name]\n",
        "        return child\n",
        "\n",
        "    def _mutate(self, individual):\n",
        "        # Perform mutation (randomly modify the weights)\n",
        "        for name, param in individual.items():\n",
        "            if random.random() < self.mutation_rate:\n",
        "                individual[name] = torch.randn_like(param).to(self.device)  # Ensure mutated weight is on GPU\n",
        "        return individual\n",
        "\n",
        "    def run(self):\n",
        "        for generation in range(self.generations):\n",
        "            new_population = []\n",
        "            for _ in range(self.population_size // 2):\n",
        "                parent1, parent2 = self._select_parents()\n",
        "                child1 = self._crossover(parent1, parent2)\n",
        "                child2 = self._crossover(parent2, parent1)\n",
        "                new_population.append(self._mutate(child1))\n",
        "                new_population.append(self._mutate(child2))\n",
        "            self.population = new_population\n",
        "            print(f\"Generation {generation + 1} completed\")\n",
        "\n",
        "    def get_optimal_trajectory(self):\n",
        "        state = (0, 0)\n",
        "        trajectory = [state]\n",
        "        rewards = 0\n",
        "        STOP = 0\n",
        "        while state != GOAL and STOP <= 150:\n",
        "            state_tensor = torch.tensor(state, dtype=torch.float32).to(self.device)  # Move state to GPU\n",
        "            log_action_probs = self.policy_network(state_tensor)\n",
        "            action_probs = torch.exp(log_action_probs)\n",
        "            action_idx = torch.argmax(action_probs).item()  # Get action with highest probability\n",
        "            action = ACTIONS[action_idx]  # Map action index back to action\n",
        "            state, reward = grid_world.step(state, action)\n",
        "            rewards += reward\n",
        "            trajectory.append(state)\n",
        "            STOP += 1\n",
        "        return trajectory, rewards"
      ]
    },
    {
      "cell_type": "markdown",
      "metadata": {
        "id": "y2_rrmBCVkW6"
      },
      "source": [
        "# Running & Comparing Agents (20 Points)"
      ]
    },
    {
      "cell_type": "code",
      "execution_count": 9,
      "metadata": {
        "colab": {
          "base_uri": "https://localhost:8080/"
        },
        "id": "ISBNYDieVkW6",
        "outputId": "e8feaf78-4322-4ef8-e767-e89ff18dd167"
      },
      "outputs": [
        {
          "output_type": "stream",
          "name": "stdout",
          "text": [
            "Episode 0: Total Reward = -16.30000000000002, Epsilon = 0.9995\n",
            "Episode 50: Total Reward = -34.600000000000094, Epsilon = 0.9748\n",
            "Episode 100: Total Reward = -6.999999999999991, Epsilon = 0.9507\n",
            "Episode 150: Total Reward = -29.800000000000075, Epsilon = 0.9273\n",
            "Episode 200: Total Reward = -38.7000000000001, Epsilon = 0.9044\n",
            "Episode 250: Total Reward = -61.400000000000055, Epsilon = 0.8820\n",
            "Episode 300: Total Reward = -45.10000000000016, Epsilon = 0.8602\n",
            "Episode 350: Total Reward = -48.40000000000013, Epsilon = 0.8390\n",
            "Episode 400: Total Reward = -62.800000000000104, Epsilon = 0.8183\n",
            "Episode 450: Total Reward = -2.1999999999999957, Epsilon = 0.7981\n",
            "Episode 500: Total Reward = -1.399999999999995, Epsilon = 0.7784\n",
            "Episode 550: Total Reward = -101.99999999999959, Epsilon = 0.7591\n",
            "Episode 600: Total Reward = -100.69999999999966, Epsilon = 0.7404\n",
            "Episode 650: Total Reward = -57.400000000000084, Epsilon = 0.7221\n",
            "Episode 700: Total Reward = -162.4999999999991, Epsilon = 0.7043\n",
            "Episode 750: Total Reward = -43.00000000000008, Epsilon = 0.6869\n",
            "Episode 800: Total Reward = -57.00000000000008, Epsilon = 0.6699\n",
            "Episode 850: Total Reward = -8.299999999999995, Epsilon = 0.6534\n",
            "Episode 900: Total Reward = -31.90000000000007, Epsilon = 0.6372\n",
            "Episode 950: Total Reward = -30.800000000000068, Epsilon = 0.6215\n",
            "Episode 1000: Total Reward = -71.89999999999985, Epsilon = 0.6062\n",
            "Episode 1050: Total Reward = -56.300000000000075, Epsilon = 0.5912\n",
            "Episode 1100: Total Reward = -81.59999999999995, Epsilon = 0.5766\n",
            "Episode 1150: Total Reward = -115.9999999999994, Epsilon = 0.5623\n",
            "Episode 1200: Total Reward = -21.20000000000004, Epsilon = 0.5485\n",
            "Episode 1250: Total Reward = -163.49999999999918, Epsilon = 0.5349\n",
            "Episode 1300: Total Reward = -16.30000000000002, Epsilon = 0.5217\n",
            "Episode 1350: Total Reward = -228.99999999999852, Epsilon = 0.5088\n",
            "Episode 1400: Total Reward = -111.49999999999966, Epsilon = 0.4963\n",
            "Episode 1450: Total Reward = -90.09999999999977, Epsilon = 0.4840\n",
            "Episode 1500: Total Reward = -6.700000000000001, Epsilon = 0.4720\n",
            "Episode 1550: Total Reward = -15.60000000000001, Epsilon = 0.4604\n",
            "Episode 1600: Total Reward = -110.1999999999995, Epsilon = 0.4490\n",
            "Episode 1650: Total Reward = -110.99999999999963, Epsilon = 0.4379\n",
            "Episode 1700: Total Reward = -116.2999999999996, Epsilon = 0.4271\n",
            "Episode 1750: Total Reward = -68.19999999999999, Epsilon = 0.4166\n",
            "Episode 1800: Total Reward = -56.20000000000007, Epsilon = 0.4063\n",
            "Episode 1850: Total Reward = -58.20000000000005, Epsilon = 0.3962\n",
            "Episode 1900: Total Reward = -63.99999999999999, Epsilon = 0.3865\n",
            "Episode 1950: Total Reward = -186.1999999999992, Epsilon = 0.3769\n",
            "Episode 2000: Total Reward = -211.79999999999887, Epsilon = 0.3676\n",
            "Episode 2050: Total Reward = -81.89999999999985, Epsilon = 0.3585\n",
            "Episode 2100: Total Reward = -77.49999999999983, Epsilon = 0.3497\n",
            "Episode 2150: Total Reward = -30.30000000000004, Epsilon = 0.3410\n",
            "Episode 2200: Total Reward = -97.69999999999978, Epsilon = 0.3326\n",
            "Episode 2250: Total Reward = -133.5999999999996, Epsilon = 0.3244\n",
            "Episode 2300: Total Reward = -129.39999999999955, Epsilon = 0.3164\n",
            "Episode 2350: Total Reward = -35.600000000000044, Epsilon = 0.3086\n",
            "Episode 2400: Total Reward = -172.79999999999927, Epsilon = 0.3010\n",
            "Episode 2450: Total Reward = -95.09999999999975, Epsilon = 0.2935\n",
            "Episode 2500: Total Reward = -169.49999999999935, Epsilon = 0.2863\n",
            "Episode 2550: Total Reward = -97.69999999999968, Epsilon = 0.2792\n",
            "Episode 2600: Total Reward = -74.99999999999994, Epsilon = 0.2723\n",
            "Episode 2650: Total Reward = -61.00000000000002, Epsilon = 0.2656\n",
            "Episode 2700: Total Reward = -25.30000000000004, Epsilon = 0.2590\n",
            "Episode 2750: Total Reward = -53.4000000000001, Epsilon = 0.2526\n",
            "Episode 2800: Total Reward = -166.2999999999994, Epsilon = 0.2464\n",
            "Episode 2850: Total Reward = -37.50000000000005, Epsilon = 0.2403\n",
            "Episode 2900: Total Reward = -424.0000000000023, Epsilon = 0.2344\n",
            "Episode 2950: Total Reward = -528.0000000000058, Epsilon = 0.2286\n",
            "Episode 3000: Total Reward = -83.89999999999979, Epsilon = 0.2229\n",
            "Episode 3050: Total Reward = -212.89999999999856, Epsilon = 0.2174\n",
            "Episode 3100: Total Reward = -248.69999999999905, Epsilon = 0.2121\n",
            "Episode 3150: Total Reward = -379.80000000000257, Epsilon = 0.2068\n",
            "Episode 3200: Total Reward = -433.90000000000407, Epsilon = 0.2017\n",
            "Episode 3250: Total Reward = -58.10000000000007, Epsilon = 0.1967\n",
            "Episode 3300: Total Reward = -145.59999999999954, Epsilon = 0.1919\n",
            "Episode 3350: Total Reward = -10.60000000000001, Epsilon = 0.1871\n",
            "Episode 3400: Total Reward = -13.200000000000012, Epsilon = 0.1825\n",
            "Episode 3450: Total Reward = -211.89999999999904, Epsilon = 0.1780\n",
            "Episode 3500: Total Reward = -101.1999999999997, Epsilon = 0.1736\n",
            "Episode 3550: Total Reward = -124.79999999999961, Epsilon = 0.1693\n",
            "Episode 3600: Total Reward = -190.59999999999928, Epsilon = 0.1651\n",
            "Episode 3650: Total Reward = -284.09999999999997, Epsilon = 0.1611\n",
            "Episode 3700: Total Reward = -62.00000000000001, Epsilon = 0.1571\n",
            "Episode 3750: Total Reward = -94.99999999999955, Epsilon = 0.1532\n",
            "Episode 3800: Total Reward = -74.8999999999999, Epsilon = 0.1494\n",
            "Episode 3850: Total Reward = -76.49999999999991, Epsilon = 0.1457\n",
            "Episode 3900: Total Reward = -173.09999999999934, Epsilon = 0.1421\n",
            "Episode 3950: Total Reward = -41.10000000000005, Epsilon = 0.1386\n",
            "Episode 4000: Total Reward = -79.19999999999989, Epsilon = 0.1352\n",
            "Episode 4050: Total Reward = -82.39999999999988, Epsilon = 0.1319\n",
            "Episode 4100: Total Reward = -133.19999999999715, Epsilon = 0.1286\n",
            "Episode 4150: Total Reward = -21.100000000000023, Epsilon = 0.1254\n",
            "Episode 4200: Total Reward = -199.79999999999922, Epsilon = 0.1223\n",
            "Episode 4250: Total Reward = -332.70000000000095, Epsilon = 0.1193\n",
            "Episode 4300: Total Reward = -93.79999999999981, Epsilon = 0.1164\n",
            "Episode 4350: Total Reward = -29.800000000000033, Epsilon = 0.1135\n",
            "Episode 4400: Total Reward = -468.9000000000039, Epsilon = 0.1107\n",
            "Episode 4450: Total Reward = -122.99999999999966, Epsilon = 0.1080\n",
            "Episode 4500: Total Reward = -533.700000000006, Epsilon = 0.1053\n",
            "Episode 4550: Total Reward = -107.99999999999974, Epsilon = 0.1027\n",
            "Episode 4600: Total Reward = 7.8, Epsilon = 0.1002\n",
            "Episode 4650: Total Reward = -258.9999999999995, Epsilon = 0.1000\n",
            "Episode 4700: Total Reward = -117.1999999999997, Epsilon = 0.1000\n",
            "Episode 4750: Total Reward = -201.9999999999992, Epsilon = 0.1000\n",
            "Episode 4800: Total Reward = -67.19999999999996, Epsilon = 0.1000\n",
            "Episode 4850: Total Reward = -22.300000000000026, Epsilon = 0.1000\n",
            "Episode 4900: Total Reward = -7.700000000000005, Epsilon = 0.1000\n",
            "Episode 4950: Total Reward = -35.40000000000004, Epsilon = 0.1000\n",
            "Episode 5000: Total Reward = 5.800000000000001, Epsilon = 0.1000\n",
            "Episode 5050: Total Reward = -49.70000000000006, Epsilon = 0.1000\n",
            "Episode 5100: Total Reward = -38.80000000000005, Epsilon = 0.1000\n",
            "Episode 5150: Total Reward = 1.1000000000000032, Epsilon = 0.1000\n",
            "Episode 5200: Total Reward = -145.2999999999995, Epsilon = 0.1000\n",
            "Episode 5250: Total Reward = 5.800000000000001, Epsilon = 0.1000\n",
            "Episode 5300: Total Reward = 8.6, Epsilon = 0.1000\n",
            "Episode 5350: Total Reward = 7.6, Epsilon = 0.1000\n",
            "Episode 5400: Total Reward = 2.6000000000000014, Epsilon = 0.1000\n",
            "Episode 5450: Total Reward = 8.8, Epsilon = 0.1000\n",
            "Episode 5500: Total Reward = 8.8, Epsilon = 0.1000\n",
            "Episode 5550: Total Reward = 6.4, Epsilon = 0.1000\n",
            "Episode 5600: Total Reward = 4.800000000000001, Epsilon = 0.1000\n",
            "Episode 5650: Total Reward = 7.699999999999999, Epsilon = 0.1000\n",
            "Episode 5700: Total Reward = 4.4, Epsilon = 0.1000\n",
            "Episode 5750: Total Reward = 8.8, Epsilon = 0.1000\n",
            "Episode 5800: Total Reward = 2.0000000000000018, Epsilon = 0.1000\n",
            "Episode 5850: Total Reward = 8.6, Epsilon = 0.1000\n",
            "Episode 5900: Total Reward = 5.199999999999999, Epsilon = 0.1000\n",
            "Episode 5950: Total Reward = 8.8, Epsilon = 0.1000\n"
          ]
        }
      ],
      "source": [
        "# Train REINFORCE agent\n",
        "\n",
        "LEARNING_RATE = 0.005\n",
        "GAMMA = 0.99\n",
        "\n",
        "reinforce_agent = ReinforceAgent(lr = LEARNING_RATE, gamma = GAMMA)\n",
        "reinforce_agent.train(episodes=6000, epsilon=1.0, epsilon_decay=0.9995, min_epsilon=0.1)"
      ]
    },
    {
      "cell_type": "code",
      "execution_count": 10,
      "metadata": {
        "colab": {
          "base_uri": "https://localhost:8080/"
        },
        "id": "_u-6R1O0VkW7",
        "outputId": "3eb931a2-f7c6-4eea-9d87-4ca266416d9d"
      },
      "outputs": [
        {
          "output_type": "stream",
          "name": "stdout",
          "text": [
            "Generation 1 completed\n",
            "Generation 2 completed\n",
            "Generation 3 completed\n",
            "Generation 4 completed\n",
            "Generation 5 completed\n",
            "Generation 6 completed\n",
            "Generation 7 completed\n",
            "Generation 8 completed\n",
            "Generation 9 completed\n",
            "Generation 10 completed\n",
            "Generation 11 completed\n",
            "Generation 12 completed\n",
            "Generation 13 completed\n",
            "Generation 14 completed\n",
            "Generation 15 completed\n",
            "Generation 16 completed\n",
            "Generation 17 completed\n",
            "Generation 18 completed\n",
            "Generation 19 completed\n",
            "Generation 20 completed\n",
            "Generation 21 completed\n",
            "Generation 22 completed\n",
            "Generation 23 completed\n",
            "Generation 24 completed\n",
            "Generation 25 completed\n",
            "Generation 26 completed\n",
            "Generation 27 completed\n",
            "Generation 28 completed\n",
            "Generation 29 completed\n",
            "Generation 30 completed\n",
            "Generation 31 completed\n",
            "Generation 32 completed\n",
            "Generation 33 completed\n",
            "Generation 34 completed\n",
            "Generation 35 completed\n",
            "Generation 36 completed\n",
            "Generation 37 completed\n",
            "Generation 38 completed\n",
            "Generation 39 completed\n",
            "Generation 40 completed\n",
            "Generation 41 completed\n",
            "Generation 42 completed\n",
            "Generation 43 completed\n",
            "Generation 44 completed\n",
            "Generation 45 completed\n",
            "Generation 46 completed\n",
            "Generation 47 completed\n",
            "Generation 48 completed\n",
            "Generation 49 completed\n",
            "Generation 50 completed\n",
            "Generation 51 completed\n",
            "Generation 52 completed\n",
            "Generation 53 completed\n",
            "Generation 54 completed\n",
            "Generation 55 completed\n",
            "Generation 56 completed\n",
            "Generation 57 completed\n",
            "Generation 58 completed\n",
            "Generation 59 completed\n",
            "Generation 60 completed\n",
            "Generation 61 completed\n",
            "Generation 62 completed\n",
            "Generation 63 completed\n",
            "Generation 64 completed\n",
            "Generation 65 completed\n",
            "Generation 66 completed\n",
            "Generation 67 completed\n",
            "Generation 68 completed\n",
            "Generation 69 completed\n",
            "Generation 70 completed\n",
            "Generation 71 completed\n",
            "Generation 72 completed\n",
            "Generation 73 completed\n",
            "Generation 74 completed\n",
            "Generation 75 completed\n",
            "Generation 76 completed\n",
            "Generation 77 completed\n",
            "Generation 78 completed\n",
            "Generation 79 completed\n",
            "Generation 80 completed\n",
            "Generation 81 completed\n",
            "Generation 82 completed\n",
            "Generation 83 completed\n",
            "Generation 84 completed\n",
            "Generation 85 completed\n",
            "Generation 86 completed\n",
            "Generation 87 completed\n",
            "Generation 88 completed\n",
            "Generation 89 completed\n",
            "Generation 90 completed\n",
            "Generation 91 completed\n",
            "Generation 92 completed\n",
            "Generation 93 completed\n",
            "Generation 94 completed\n",
            "Generation 95 completed\n",
            "Generation 96 completed\n",
            "Generation 97 completed\n",
            "Generation 98 completed\n",
            "Generation 99 completed\n",
            "Generation 100 completed\n",
            "Generation 101 completed\n",
            "Generation 102 completed\n",
            "Generation 103 completed\n",
            "Generation 104 completed\n",
            "Generation 105 completed\n",
            "Generation 106 completed\n",
            "Generation 107 completed\n",
            "Generation 108 completed\n",
            "Generation 109 completed\n",
            "Generation 110 completed\n",
            "Generation 111 completed\n",
            "Generation 112 completed\n",
            "Generation 113 completed\n",
            "Generation 114 completed\n",
            "Generation 115 completed\n",
            "Generation 116 completed\n",
            "Generation 117 completed\n",
            "Generation 118 completed\n",
            "Generation 119 completed\n",
            "Generation 120 completed\n",
            "Generation 121 completed\n",
            "Generation 122 completed\n",
            "Generation 123 completed\n",
            "Generation 124 completed\n",
            "Generation 125 completed\n",
            "Generation 126 completed\n",
            "Generation 127 completed\n",
            "Generation 128 completed\n",
            "Generation 129 completed\n",
            "Generation 130 completed\n",
            "Generation 131 completed\n",
            "Generation 132 completed\n",
            "Generation 133 completed\n",
            "Generation 134 completed\n",
            "Generation 135 completed\n",
            "Generation 136 completed\n",
            "Generation 137 completed\n",
            "Generation 138 completed\n",
            "Generation 139 completed\n",
            "Generation 140 completed\n",
            "Generation 141 completed\n",
            "Generation 142 completed\n",
            "Generation 143 completed\n",
            "Generation 144 completed\n",
            "Generation 145 completed\n",
            "Generation 146 completed\n",
            "Generation 147 completed\n",
            "Generation 148 completed\n",
            "Generation 149 completed\n",
            "Generation 150 completed\n",
            "Generation 151 completed\n",
            "Generation 152 completed\n",
            "Generation 153 completed\n",
            "Generation 154 completed\n",
            "Generation 155 completed\n",
            "Generation 156 completed\n",
            "Generation 157 completed\n",
            "Generation 158 completed\n",
            "Generation 159 completed\n",
            "Generation 160 completed\n",
            "Generation 161 completed\n",
            "Generation 162 completed\n",
            "Generation 163 completed\n",
            "Generation 164 completed\n",
            "Generation 165 completed\n",
            "Generation 166 completed\n",
            "Generation 167 completed\n",
            "Generation 168 completed\n",
            "Generation 169 completed\n",
            "Generation 170 completed\n",
            "Generation 171 completed\n",
            "Generation 172 completed\n",
            "Generation 173 completed\n",
            "Generation 174 completed\n",
            "Generation 175 completed\n",
            "Generation 176 completed\n",
            "Generation 177 completed\n",
            "Generation 178 completed\n",
            "Generation 179 completed\n",
            "Generation 180 completed\n",
            "Generation 181 completed\n",
            "Generation 182 completed\n",
            "Generation 183 completed\n",
            "Generation 184 completed\n",
            "Generation 185 completed\n",
            "Generation 186 completed\n",
            "Generation 187 completed\n",
            "Generation 188 completed\n",
            "Generation 189 completed\n",
            "Generation 190 completed\n",
            "Generation 191 completed\n",
            "Generation 192 completed\n",
            "Generation 193 completed\n",
            "Generation 194 completed\n",
            "Generation 195 completed\n",
            "Generation 196 completed\n",
            "Generation 197 completed\n",
            "Generation 198 completed\n",
            "Generation 199 completed\n",
            "Generation 200 completed\n",
            "Generation 201 completed\n",
            "Generation 202 completed\n",
            "Generation 203 completed\n",
            "Generation 204 completed\n",
            "Generation 205 completed\n",
            "Generation 206 completed\n",
            "Generation 207 completed\n",
            "Generation 208 completed\n",
            "Generation 209 completed\n",
            "Generation 210 completed\n",
            "Generation 211 completed\n",
            "Generation 212 completed\n",
            "Generation 213 completed\n",
            "Generation 214 completed\n",
            "Generation 215 completed\n",
            "Generation 216 completed\n",
            "Generation 217 completed\n",
            "Generation 218 completed\n",
            "Generation 219 completed\n",
            "Generation 220 completed\n",
            "Generation 221 completed\n",
            "Generation 222 completed\n",
            "Generation 223 completed\n",
            "Generation 224 completed\n",
            "Generation 225 completed\n",
            "Generation 226 completed\n",
            "Generation 227 completed\n",
            "Generation 228 completed\n",
            "Generation 229 completed\n",
            "Generation 230 completed\n",
            "Generation 231 completed\n",
            "Generation 232 completed\n",
            "Generation 233 completed\n",
            "Generation 234 completed\n",
            "Generation 235 completed\n",
            "Generation 236 completed\n",
            "Generation 237 completed\n",
            "Generation 238 completed\n",
            "Generation 239 completed\n",
            "Generation 240 completed\n",
            "Generation 241 completed\n",
            "Generation 242 completed\n",
            "Generation 243 completed\n",
            "Generation 244 completed\n",
            "Generation 245 completed\n",
            "Generation 246 completed\n",
            "Generation 247 completed\n",
            "Generation 248 completed\n",
            "Generation 249 completed\n",
            "Generation 250 completed\n",
            "Generation 251 completed\n",
            "Generation 252 completed\n",
            "Generation 253 completed\n",
            "Generation 254 completed\n",
            "Generation 255 completed\n",
            "Generation 256 completed\n",
            "Generation 257 completed\n",
            "Generation 258 completed\n",
            "Generation 259 completed\n",
            "Generation 260 completed\n",
            "Generation 261 completed\n",
            "Generation 262 completed\n",
            "Generation 263 completed\n",
            "Generation 264 completed\n",
            "Generation 265 completed\n",
            "Generation 266 completed\n",
            "Generation 267 completed\n",
            "Generation 268 completed\n",
            "Generation 269 completed\n",
            "Generation 270 completed\n",
            "Generation 271 completed\n",
            "Generation 272 completed\n",
            "Generation 273 completed\n",
            "Generation 274 completed\n",
            "Generation 275 completed\n",
            "Generation 276 completed\n",
            "Generation 277 completed\n",
            "Generation 278 completed\n",
            "Generation 279 completed\n",
            "Generation 280 completed\n",
            "Generation 281 completed\n",
            "Generation 282 completed\n",
            "Generation 283 completed\n",
            "Generation 284 completed\n",
            "Generation 285 completed\n",
            "Generation 286 completed\n",
            "Generation 287 completed\n",
            "Generation 288 completed\n",
            "Generation 289 completed\n",
            "Generation 290 completed\n",
            "Generation 291 completed\n",
            "Generation 292 completed\n",
            "Generation 293 completed\n",
            "Generation 294 completed\n",
            "Generation 295 completed\n",
            "Generation 296 completed\n",
            "Generation 297 completed\n",
            "Generation 298 completed\n",
            "Generation 299 completed\n",
            "Generation 300 completed\n"
          ]
        }
      ],
      "source": [
        "# Train Genetic Algorithm agent\n",
        "\n",
        "POPULATION_SIZE = 30\n",
        "GENERATIONS = 300\n",
        "MUTATION_RATE = 0.05\n",
        "CROSSOVER_RATE = 0.8\n",
        "\n",
        "policy_network = PolicyNetwork(2, 4, 128)\n",
        "genetic_agent = GeneticAlgorithm(generations=GENERATIONS, population_size=POPULATION_SIZE, mutation_rate=MUTATION_RATE, crossover_rate=CROSSOVER_RATE, policy_network=policy_network, device=device)\n",
        "optimal_genetic_policy = genetic_agent.run()"
      ]
    },
    {
      "cell_type": "markdown",
      "metadata": {
        "id": "SLk5xtH9VkW7"
      },
      "source": [
        "# Visualizing Results (40 Points)"
      ]
    },
    {
      "cell_type": "markdown",
      "metadata": {
        "id": "Es2e9ubnVkW7"
      },
      "source": [
        "Plots the agent’s trajectory in the Grid World."
      ]
    },
    {
      "cell_type": "code",
      "execution_count": 11,
      "metadata": {
        "id": "IEbA7yzOVkW7"
      },
      "outputs": [],
      "source": [
        "def visualize_trajectory(trajectory, title):\n",
        "    plt.figure(figsize=(5, 5))\n",
        "    x_vals, y_vals = zip(*trajectory)\n",
        "    plt.plot(x_vals, y_vals, marker='o', color='blue', linestyle='-', alpha=0.7)\n",
        "    plt.scatter(0, 0, c='green', marker='s', label='Start')\n",
        "    plt.scatter(GOAL[0], GOAL[1], c='red', marker='X', label='Goal')\n",
        "    for i, (px, py) in enumerate(PENALTIES):\n",
        "        if i == 0:\n",
        "            plt.scatter(px, py, c='orange', marker='D', label='Penalty')\n",
        "        else:\n",
        "            plt.scatter(px, py, c='orange', marker='D')\n",
        "    plt.xticks(range(GRID_SIZE))\n",
        "    plt.yticks(range(GRID_SIZE))\n",
        "    plt.title(title)\n",
        "    plt.legend()\n",
        "    plt.grid(True)\n",
        "    plt.show()"
      ]
    },
    {
      "cell_type": "markdown",
      "metadata": {
        "id": "g45-MsSlVkW7"
      },
      "source": [
        "### Results"
      ]
    },
    {
      "cell_type": "code",
      "execution_count": 12,
      "metadata": {
        "colab": {
          "base_uri": "https://localhost:8080/",
          "height": 1000
        },
        "id": "s7q8Cm2AVkW7",
        "outputId": "e4b6358b-1a84-4fdb-c121-57bef7b117c9"
      },
      "outputs": [
        {
          "output_type": "stream",
          "name": "stdout",
          "text": [
            "Final Reward (REINFORCE): 8.8\n",
            "\n"
          ]
        },
        {
          "output_type": "display_data",
          "data": {
            "text/plain": [
              "<Figure size 500x500 with 1 Axes>"
            ],
            "image/png": "[encoded data removed]"
          },
          "metadata": {}
        },
        {
          "output_type": "stream",
          "name": "stdout",
          "text": [
            "\n",
            "--------------------------------------------------------------------------------------\n",
            "\n",
            "Final Reward (Genetic Algorithm): 8.8\n",
            "\n"
          ]
        },
        {
          "output_type": "display_data",
          "data": {
            "text/plain": [
              "<Figure size 500x500 with 1 Axes>"
            ],
            "image/png": "[encoded data removed]"
          },
          "metadata": {}
        }
      ],
      "source": [
        "# Results\n",
        "\n",
        "optimal_reinforce_trajectory, final_reward_reinforce = reinforce_agent.get_optimal_trajectory()\n",
        "print(f\"Final Reward (REINFORCE): {final_reward_reinforce}\\n\")\n",
        "visualize_trajectory(optimal_reinforce_trajectory, \"REINFORCE Optimal Policy\")\n",
        "\n",
        "print(\"\\n--------------------------------------------------------------------------------------\\n\")\n",
        "\n",
        "optimal_genetic_trajectory, final_reward_genetic = genetic_agent.get_optimal_trajectory()\n",
        "print(f\"Final Reward (Genetic Algorithm): {final_reward_genetic}\\n\")\n",
        "visualize_trajectory(optimal_genetic_trajectory, \"Genetic Algorithm Optimal Policy\")"
      ]
    },
    {
      "cell_type": "markdown",
      "metadata": {
        "id": "qT86bSuuVkW7"
      },
      "source": [
        "$\\bullet$ Based on the implementation and results from comparing policy search using Genetic Algorithm (GA) and the REINFORCE algorithm:\n",
        "\n",
        "**Question 1:** (10 points)\n",
        "\n",
        "How do these two methods differ in terms of their effectiveness for solving reinforcement learning tasks?\n",
        "\n",
        "**Question 2:** (15 points)\n",
        "\n",
        "Discuss the key differences in their **performance**, **convergence rates**, and **stability**.\n",
        "\n",
        "**Question 3:** (15 points)\n",
        "\n",
        "Additionally, explore how each method handles exploration and exploitation, and suggest situations where one might be preferred over the other.\n",
        "\n",
        "<br/>\n",
        "............\n",
        "<br/>\n",
        "............\n",
        "<br/>\n",
        "............"
      ]
    }
  ],
  "metadata": {
    "accelerator": "GPU",
    "colab": {
      "gpuType": "T4",
      "provenance": []
    },
    "kernelspec": {
      "display_name": "Python 3",
      "name": "python3"
    },
    "language_info": {
      "codemirror_mode": {
        "name": "ipython",
        "version": 3
      },
      "file_extension": ".py",
      "mimetype": "text/x-python",
      "name": "python",
      "nbconvert_exporter": "python",
      "pygments_lexer": "ipython3",
      "version": "3.11.8"
    }
  },
  "nbformat": 4,
  "nbformat_minor": 0
}