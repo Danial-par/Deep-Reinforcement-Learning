{
 "cells": [
  {
   "cell_type": "markdown",
   "metadata": {
    "id": "UxK08xN_wco-"
   },
   "source": [
    "# HW5: Model Predictive Control\n",
    "\n",
    "> - Full Name: **Danial Parnian**\n",
    "> - Student ID: **401110307**\n",
    "\n",
    "\n",
    "[![Open In Colab](https://colab.research.google.com/assets/colab-badge.svg)](https://colab.research.google.com/github/DeepRLCourse/Homework-5-Questions/blob/main/MPC.ipynb)\n",
    "[![Open In kaggle](https://kaggle.com/static/images/open-in-kaggle.svg)](https://kaggle.com/kernels/welcome?src=https://raw.githubusercontent.com/DeepRLCourse/Homework-5-Questions/main/MPC.ipynb)\n",
    "\n",
    "## Overview\n",
    "Here the goal is to use **MPC** for [gymnasium environments](https://gymnasium.farama.org/).\n",
    "More specificly we focus on the [Pendulum](https://gymnasium.farama.org/environments/classic_control/pendulum/) environment and try to solve it using [mpc.pytorch](https://locuslab.github.io/mpc.pytorch/).\n",
    "\n",
    "\n"
   ]
  },
  {
   "cell_type": "code",
   "metadata": {
    "id": "SBD13rNwmXpx"
   },
   "source": [
    "# @title Imports\n",
    "\n",
    "# Stuff you (might) need\n",
    "import random\n",
    "import numpy as np\n",
    "import gymnasium as gym\n",
    "\n",
    "import torch\n",
    "from torch import nn\n",
    "import torch.autograd\n",
    "from tqdm.notebook import trange\n",
    "import math\n",
    "\n",
    "# Stuff used for visualization\n",
    "from matplotlib import pyplot as plt\n",
    "from gymnasium.wrappers import RecordVideo\n",
    "import base64\n",
    "import imageio\n",
    "from IPython.display import HTML\n",
    "import warnings\n",
    "warnings.filterwarnings(\"ignore\")"
   ],
   "outputs": [],
   "execution_count": null
  },
  {
   "cell_type": "code",
   "metadata": {
    "cellView": "form",
    "id": "Avcbl8VMmgm1"
   },
   "source": [
    "# @title Visualization Functions\n",
    "\n",
    "def embed_mp4(filename):\n",
    "    video = open(filename,'rb').read()\n",
    "    b64 = base64.b64encode(video)\n",
    "    tag = '''\n",
    "    <video width=\"640\" height=\"480\" controls>\n",
    "    <source src=\"data:video/mp4;base64,{0}\" type=\"video/mp4\">\n",
    "    Your browser does not support the video tag.\n",
    "    </video>'''.format(b64.decode())\n",
    "\n",
    "    return HTML(tag)\n",
    "\n",
    "\n",
    "def plot_results(rewards, actions):\n",
    "    plt.plot(rewards, label='Rewards')\n",
    "    plt.plot(actions, label='Actions')\n",
    "    plt.legend()\n",
    "    plt.title(f\"Total reward: {sum(rewards):.2f}\")\n",
    "    plt.show()"
   ],
   "outputs": [],
   "execution_count": null
  },
  {
   "cell_type": "markdown",
   "metadata": {
    "id": "qTS3Lm1nWiMK"
   },
   "source": [
    "# Explore the Environment (25 points)"
   ]
  },
  {
   "cell_type": "markdown",
   "metadata": {
    "id": "yyCz0lxFWsFv"
   },
   "source": [
    "To better understand the environment, let's first see what a random agent does."
   ]
  },
  {
   "cell_type": "code",
   "metadata": {
    "colab": {
     "base_uri": "https://localhost:8080/",
     "height": 534,
     "referenced_widgets": [
      "2f0df7aea18a435da461eb7b4da44462",
      "e6e3f740f4094f03af104caf65a8aa68",
      "e981fe86f79446b792130699d3095536",
      "b353f2c7a25449b2b28faea5490ebe6f",
      "8e729e2dd4ce40ce98364ac689cbf22a",
      "2b39ebdba70e4100aefe004079e2a58a",
      "030c3aba1e5141499dd9fb1fbb821fb7",
      "6320c0f6a2f9499b8fc07a6b7ab32895",
      "6a2f1ca5369548b4bca2186298b098e3",
      "46b01036be4a438480e912f039502a03",
      "c88eb1ee6c77451a8fb98af6c0dcca4b"
     ]
    },
    "id": "xZI6WO4bmgjS",
    "outputId": "85d3f5b9-47cf-43bf-a95c-471c3ff077da"
   },
   "source": [
    "# Initialize the pendulum environment with video recording enabled\n",
    "env = gym.make('Pendulum-v1', render_mode='rgb_array')\n",
    "\n",
    "# Create a directory to save the video\n",
    "video_directory = \"random_videos\"\n",
    "env = RecordVideo(env, video_directory)\n",
    "\n",
    "# Set the number of steps to record\n",
    "num_steps = 500\n",
    "\n",
    "# Reset the environment to get the initial state\n",
    "state, _ = env.reset()\n",
    "\n",
    "for _ in (pbar := trange(num_steps)):\n",
    "    # Sample a random action\n",
    "    action = env.action_space.sample()\n",
    "\n",
    "    # Step the environment\n",
    "    next_state, reward, done, _, _ = env.step(action)\n",
    "\n",
    "    # Render the environment\n",
    "    env.render()\n",
    "\n",
    "    # If done reset and get new state\n",
    "    if done:\n",
    "        state, _ = env.reset()\n",
    "\n",
    "\n",
    "    pbar.set_description(f'Action = {action[0]:.2f} | Reward = {reward:.2f}')\n",
    "\n",
    "# Close the environment to finalize the video\n",
    "env.close()\n",
    "\n",
    "# Show the video\n",
    "embed_mp4(f'{video_directory}/rl-video-episode-0.mp4')"
   ],
   "outputs": [],
   "execution_count": null
  },
  {
   "cell_type": "markdown",
   "metadata": {
    "id": "-8SUlhUHWvbC"
   },
   "source": [
    "The goal of the [Pendulum](https://gymnasium.farama.org/environments/classic_control/pendulum/) environment in [Gymnasium](https://gymnasium.farama.org/) is to swing a pendulum to an upright position and keep it balanced there.\n",
    "In this environment, you control a torque that can be applied to the pendulum.\n",
    "The objective is to apply the right amount of torque to swing the pendulum up and maintain its upright position."
   ]
  },
  {
   "cell_type": "markdown",
   "metadata": {
    "id": "wIGVVtRU2kY4"
   },
   "source": [
    "## Simulation Tools"
   ]
  },
  {
   "cell_type": "markdown",
   "metadata": {
    "id": "s7oVXleZ2rY8"
   },
   "source": [
    "Both the `angle_normalize` function and the `PendulumDynamics` class are fundamental components for accurately simulating, analyzing, and controlling the pendulum system.\n",
    "They ensure consistency in angle representation and provide a realistic model of the pendulum's behavior, enabling effective control strategies.\n",
    "\n",
    "We use the `angle_normalize` function for:\n",
    "\n",
    "*   **Consistency**: When dealing with angles, it's important to keep them within a standard range to ensure consistency in calculations.\n",
    "*   **Handling Wrapping**: Angles can wrap around when they exceed $2\\pi$ or drop below $-2\\pi$. Normalizing angles helps avoid confusion and errors that can arise from angle wrapping.\n",
    "\n",
    "\n",
    "And we use the `PendulumDynamics` class for:\n",
    "\n",
    "*   **Modeling Physical Behavior**: The `PendulumDynamics` class models the physical behavior of the pendulum.\n",
    "*   **Simulation and Control**: This class allows us to simulate the pendulum's response to different actions, which is crucial for designing and testing control algorithms.\n",
    "*   **Optimization**: Understanding the dynamics of the pendulum helps in optimizing the control inputs. The class encapsulates the physics involved, enabling us to apply control techniques like Model Predictive Control (MPC) to achieve the desired behavior.\n",
    "\n",
    "\n"
   ]
  },
  {
   "cell_type": "code",
   "metadata": {
    "id": "N9y8iJ0u2Lgp"
   },
   "source": [
    "class PendulumDynamics(nn.Module):\n",
    "    def forward(self, state, action):\n",
    "        th = state[:, 0].view(-1, 1)\n",
    "        thdot = state[:, 1].view(-1, 1)\n",
    "\n",
    "        g = 10 # default value of the environment (not 9.81)\n",
    "        m = 1\n",
    "        l = 1\n",
    "        dt = 0.05\n",
    "\n",
    "        u = action\n",
    "        u = torch.clamp(u, -2, 2)\n",
    "\n",
    "        newthdot = thdot + (-3 * g / (2 * l) * torch.sin(th + np.pi) + 3. / (m * l ** 2) * u) * dt\n",
    "        newth = th + newthdot * dt\n",
    "        newthdot = torch.clamp(newthdot, -8, 8)\n",
    "\n",
    "        state = torch.cat((angle_normalize(newth), newthdot), dim=1)\n",
    "        return state\n",
    "\n",
    "\n",
    "def angle_normalize(x):\n",
    "    return (((x + math.pi) % (2 * math.pi)) - math.pi)"
   ],
   "outputs": [],
   "execution_count": null
  },
  {
   "cell_type": "markdown",
   "metadata": {
    "id": "eSb9nKlw4Gra"
   },
   "source": [
    "# Model Predictive Control (50 points)"
   ]
  },
  {
   "cell_type": "markdown",
   "metadata": {
    "id": "yc8yKVti4tMp"
   },
   "source": [
    "[mpc.pytorch](https://locuslab.github.io/mpc.pytorch/) is a library that provides a fast and differentiable [Model Predictive Control](https://en.wikipedia.org/wiki/Model_predictive_control) (MPC) solver for PyTorch. It was developed by researchers at [LocusLab](https://locuslab.github.io/) and is designed to integrate seamlessly with PyTorch, allowing for efficient and flexible control of dynamic systems.\n",
    "\n",
    "If you are interested to learn more, check out [OptNet](https://arxiv.org/abs/1703.00443) and [Differentiable MPC](https://arxiv.org/abs/1810.13400)."
   ]
  },
  {
   "cell_type": "markdown",
   "metadata": {
    "id": "PfDVMqgi5kax"
   },
   "source": [
    "## Quick Setup"
   ]
  },
  {
   "cell_type": "markdown",
   "metadata": {
    "id": "qU9dpT0C5nFg"
   },
   "source": [
    "In order to install this library you can use `pip`:"
   ]
  },
  {
   "cell_type": "code",
   "metadata": {
    "id": "HEyJ0SPi4W28",
    "colab": {
     "base_uri": "https://localhost:8080/"
    },
    "outputId": "47ddf2e5-cc6d-4864-89f3-bd7379983064"
   },
   "source": [
    "! pip install mpc"
   ],
   "outputs": [],
   "execution_count": null
  },
  {
   "cell_type": "markdown",
   "metadata": {
    "id": "J9Ev1gLC5uGd"
   },
   "source": [
    "While `mpc` offers a lot, in this notebook we are going to focus only on the core features.\n",
    "To learn more checkout the [GitHub repository](https://github.com/locuslab/mpc.pytorch) of this project."
   ]
  },
  {
   "cell_type": "code",
   "metadata": {
    "id": "euuwSTJ14WO-"
   },
   "source": [
    "from mpc import mpc"
   ],
   "outputs": [],
   "execution_count": null
  },
  {
   "cell_type": "markdown",
   "metadata": {
    "id": "tf0ALVu7Ggsh"
   },
   "source": [
    "## The Cost Function"
   ]
  },
  {
   "cell_type": "markdown",
   "metadata": {
    "id": "l9pgPno8GjFV"
   },
   "source": [
    "The `define_swingup_goal` function creates a cost function that the MPC algorithm uses to determine the optimal control actions to achieve the desired pendulum swing-up task.\n",
    "It considers both the desired state (upright and stationary) and penalizes large control inputs to ensure smooth control actions."
   ]
  },
  {
   "cell_type": "code",
   "metadata": {
    "id": "13hsSR8cGLzA"
   },
   "source": [
    "def define_swingup_goal():\n",
    "    goal_weights = torch.tensor((1., 0.1))  # Weights for theta and theta_dot\n",
    "    goal_state = torch.tensor((0., 0.))  # Desired state (theta=0, theta_dot=0)\n",
    "    ctrl_penalty = 0.001\n",
    "    q = torch.cat((goal_weights, ctrl_penalty * torch.ones(1)))  # Combined weights\n",
    "    px = -torch.sqrt(goal_weights) * goal_state\n",
    "    p = torch.cat((px, torch.zeros(1)))\n",
    "    Q = torch.diag(q).repeat(TIMESTEPS, N_BATCH, 1, 1)  # Cost matrix\n",
    "    p = p.repeat(TIMESTEPS, N_BATCH, 1)\n",
    "    return mpc.QuadCost(Q, p) # Quadratic cost"
   ],
   "outputs": [],
   "execution_count": null
  },
  {
   "cell_type": "markdown",
   "metadata": {
    "id": "4ILZGtcdLeFb"
   },
   "source": [
    "## Running MPC"
   ]
  },
  {
   "cell_type": "markdown",
   "metadata": {
    "id": "JskzIJuLMpoe"
   },
   "source": [
    "To run the MPC, in each iteration:\n",
    "\n",
    "1.   First you obtain the current state of the environment and convert it to a tensor.\n",
    "2.   Then you recreate the MPC controller using the updated `u_init` and calculate the optimal control actions based on the current state, dynamics, and cost function.\n",
    "3.   Next you take the first planned action and update `u_init` with the remaining actions.\n",
    "4.   Finally you take a step in the environment and store the rewards and actions.\n",
    "\n",
    "Remember that `u_init` serves as the initial guess for the control inputs."
   ]
  },
  {
   "cell_type": "code",
   "metadata": {
    "id": "tE45H5NI05Q_",
    "colab": {
     "base_uri": "https://localhost:8080/",
     "height": 484,
     "referenced_widgets": [
      "1fc795640cf44be4bc76d8ab8e306734",
      "498c3d94ca8047bb949543ccaf3bbfe9",
      "bdcb210e2cba44fc970b1293ee2be083",
      "438ab4a543384f42bd5fb468ec59abe7",
      "f76d00aa61874ff3b2d875ece8a27881",
      "49401fa00baa4341829e0fed12aeb915",
      "8dc621bb6c65415db34a205f516ba22a",
      "53aa2529a87e48a498287fcaf2470833",
      "d1c178956fd24215bac6b15b299377a3",
      "39ed564c03b34a58b03e57c27deb7f78",
      "040e76df13854a3ebfdbcb0368639ed0"
     ]
    },
    "outputId": "f65b59ab-0765-4dc2-8285-cf41ffddd3f2"
   },
   "source": [
    "# Select the hyperparameters\n",
    "RUN_ITER = 1000\n",
    "TIMESTEPS = 10\n",
    "N_BATCH = 1\n",
    "LQR_ITER = 10\n",
    "\n",
    "\n",
    "# Setup the environmnet\n",
    "env = gym.make('Pendulum-v1', render_mode='rgb_array')\n",
    "video_directory = \"mpc_videoss\"\n",
    "env = RecordVideo(env, video_directory)\n",
    "env.reset()  # Reset the underlying environment\n",
    "env.unwrapped.state = [np.pi, 1] # Environment must start in downward position\n",
    "\n",
    "\n",
    "# Define the cost function and initialize u\n",
    "cost = define_swingup_goal()\n",
    "u_init = None\n",
    "\n",
    "\n",
    "# Run MPC\n",
    "rewards, actions = [], []\n",
    "for _ in (pbar := trange(RUN_ITER)):\n",
    "    state = env.unwrapped.state.copy()\n",
    "    state = torch.tensor(state, dtype=torch.float32).view(1, -1)\n",
    "    # recreate controller using updated u_init (kind of wasteful right?)\n",
    "    ctrl = mpc.MPC(2, 1, TIMESTEPS, u_lower=-2.0, u_upper=+2.0,\n",
    "                   lqr_iter=LQR_ITER, exit_unconverged=False, eps=1e-2,\n",
    "                   n_batch=N_BATCH, backprop=False, verbose=0, u_init=u_init,\n",
    "                   grad_method=mpc.GradMethods.AUTO_DIFF)\n",
    "\n",
    "    # compute action based on current state, dynamics, and cost\n",
    "    nominal_states, nominal_actions, nominal_objs = ctrl(state, cost, PendulumDynamics())\n",
    "\n",
    "    # Take first planned action\n",
    "    action = nominal_actions[0].view(1, -1)\n",
    "    action = action.detach().numpy()\n",
    "\n",
    "    # Update u_init\n",
    "    u_init = torch.cat((nominal_actions[1:], torch.zeros(1, N_BATCH, 1)), dim=0)\n",
    "\n",
    "    # Take a step in the environment\n",
    "    next_state, reward, done, _, _ = env.step(action)\n",
    "\n",
    "    # Store the latest action and reward\n",
    "    rewards.append(reward[0])\n",
    "    actions.append(action[0][0])\n",
    "\n",
    "    pbar.set_description(f\"Action = {actions[-1]:.2f} | Reward = {rewards[-1]:.2f}\")\n",
    "    env.render()\n",
    "\n",
    "env.close()\n",
    "\n",
    "# Plot the results\n",
    "plot_results(rewards, actions)"
   ],
   "outputs": [],
   "execution_count": null
  },
  {
   "cell_type": "code",
   "metadata": {
    "colab": {
     "base_uri": "https://localhost:8080/",
     "height": 502
    },
    "id": "4FX9ANmENtUO",
    "outputId": "c338f178-c1b5-40bd-fb6a-85ec2a64079c"
   },
   "source": [
    "# Show the policy learned\n",
    "embed_mp4(f'{video_directory}/rl-video-episode-0.mp4')"
   ],
   "outputs": [],
   "execution_count": null
  },
  {
   "cell_type": "markdown",
   "metadata": {
    "id": "jskFvBFHLido"
   },
   "source": [
    "# Questions (25 points)"
   ]
  },
  {
   "cell_type": "markdown",
   "metadata": {
    "id": "9Pk2jwFVNzTZ"
   },
   "source": [
    "Based on your experiments, answer the following questions:\n",
    "\n",
    "\n",
    "\n",
    "*   How does the number of LQR iterations affect the MPC?\n",
    "*   What if we didn't have access to the model dynamics? Could we still use MPC?\n",
    "*   Do `TIMESTEPS` or `N_BATCH` matter here? Explain.\n",
    "*   Why do you think we chose to set the initial state of the environment to the downward position?\n",
    "*   As time progresses (later iterations) what happens to the actions and rewards? Why?\n",
    "\n",
    "`Your Answers:`\n",
    "*   The number of LQR iterations affects the convergence speed and accuracy of the MPC. More iterations generally lead to better control performance, but also increase computation time. Here if we set it too low, some examples might not converge. Additionally increasing it more than 10 doesn't help much.\n",
    "*  If we didn't have access to the model dynamics, we could not use traditional MPC directly. However, we could learn the dynamics model from data and use it for mpc.\n",
    "* Yes, they matter. TIMESTEPS determines how many future steps the MPC looks ahead, and when we set it too low, the agent might not be able to see the future and plan accordingly. According to my experiments, if we set it less than 8 here, the agent won't be able to learn anything. Also N_BATCH determines how many parallel simulations we run, which can speed up the optimization process. However, to use higher N_BATCH, we should change the code a bit to support parallelization (define N different environments and run them in parallel, which I didn't do here).\n",
    "* Setting it to the downward position makes the task more challenging, as the agent needs to learn to swing up from a stable position. This shows the effectiveness of the MPC in a more difficult scenario.\n",
    "* As time progresses, the actions and rewards stabilize. The agent learns to apply the right torque to keep the pendulum upright, and then actions and rewards converge to 0, as you can see in the total reward plot."
   ]
  }
 ],
 "metadata": {
  "colab": {
   "collapsed_sections": [
    "UxK08xN_wco-",
    "qTS3Lm1nWiMK",
    "ErwP00DkW_L6",
    "GJHiYFIiX6OJ"
   ],
   "provenance": []
  },
  "kernelspec": {
   "display_name": "Python 3",
   "name": "python3"
  },
  "language_info": {
   "name": "python"
  },
  "widgets": {
   "application/vnd.jupyter.widget-state+json": {
    "2f0df7aea18a435da461eb7b4da44462": {
     "model_module": "@jupyter-widgets/controls",
     "model_name": "HBoxModel",
     "model_module_version": "1.5.0",
     "state": {
      "_dom_classes": [],
      "_model_module": "@jupyter-widgets/controls",
      "_model_module_version": "1.5.0",
      "_model_name": "HBoxModel",
      "_view_count": null,
      "_view_module": "@jupyter-widgets/controls",
      "_view_module_version": "1.5.0",
      "_view_name": "HBoxView",
      "box_style": "",
      "children": [
       "IPY_MODEL_e6e3f740f4094f03af104caf65a8aa68",
       "IPY_MODEL_e981fe86f79446b792130699d3095536",
       "IPY_MODEL_b353f2c7a25449b2b28faea5490ebe6f"
      ],
      "layout": "IPY_MODEL_8e729e2dd4ce40ce98364ac689cbf22a"
     }
    },
    "e6e3f740f4094f03af104caf65a8aa68": {
     "model_module": "@jupyter-widgets/controls",
     "model_name": "HTMLModel",
     "model_module_version": "1.5.0",
     "state": {
      "_dom_classes": [],
      "_model_module": "@jupyter-widgets/controls",
      "_model_module_version": "1.5.0",
      "_model_name": "HTMLModel",
      "_view_count": null,
      "_view_module": "@jupyter-widgets/controls",
      "_view_module_version": "1.5.0",
      "_view_name": "HTMLView",
      "description": "",
      "description_tooltip": null,
      "layout": "IPY_MODEL_2b39ebdba70e4100aefe004079e2a58a",
      "placeholder": "​",
      "style": "IPY_MODEL_030c3aba1e5141499dd9fb1fbb821fb7",
      "value": "Action = 0.05 | Reward = -2.68: 100%"
     }
    },
    "e981fe86f79446b792130699d3095536": {
     "model_module": "@jupyter-widgets/controls",
     "model_name": "FloatProgressModel",
     "model_module_version": "1.5.0",
     "state": {
      "_dom_classes": [],
      "_model_module": "@jupyter-widgets/controls",
      "_model_module_version": "1.5.0",
      "_model_name": "FloatProgressModel",
      "_view_count": null,
      "_view_module": "@jupyter-widgets/controls",
      "_view_module_version": "1.5.0",
      "_view_name": "ProgressView",
      "bar_style": "success",
      "description": "",
      "description_tooltip": null,
      "layout": "IPY_MODEL_6320c0f6a2f9499b8fc07a6b7ab32895",
      "max": 500,
      "min": 0,
      "orientation": "horizontal",
      "style": "IPY_MODEL_6a2f1ca5369548b4bca2186298b098e3",
      "value": 500
     }
    },
    "b353f2c7a25449b2b28faea5490ebe6f": {
     "model_module": "@jupyter-widgets/controls",
     "model_name": "HTMLModel",
     "model_module_version": "1.5.0",
     "state": {
      "_dom_classes": [],
      "_model_module": "@jupyter-widgets/controls",
      "_model_module_version": "1.5.0",
      "_model_name": "HTMLModel",
      "_view_count": null,
      "_view_module": "@jupyter-widgets/controls",
      "_view_module_version": "1.5.0",
      "_view_name": "HTMLView",
      "description": "",
      "description_tooltip": null,
      "layout": "IPY_MODEL_46b01036be4a438480e912f039502a03",
      "placeholder": "​",
      "style": "IPY_MODEL_c88eb1ee6c77451a8fb98af6c0dcca4b",
      "value": " 500/500 [00:13&lt;00:00, 36.71it/s]"
     }
    },
    "8e729e2dd4ce40ce98364ac689cbf22a": {
     "model_module": "@jupyter-widgets/base",
     "model_name": "LayoutModel",
     "model_module_version": "1.2.0",
     "state": {
      "_model_module": "@jupyter-widgets/base",
      "_model_module_version": "1.2.0",
      "_model_name": "LayoutModel",
      "_view_count": null,
      "_view_module": "@jupyter-widgets/base",
      "_view_module_version": "1.2.0",
      "_view_name": "LayoutView",
      "align_content": null,
      "align_items": null,
      "align_self": null,
      "border": null,
      "bottom": null,
      "display": null,
      "flex": null,
      "flex_flow": null,
      "grid_area": null,
      "grid_auto_columns": null,
      "grid_auto_flow": null,
      "grid_auto_rows": null,
      "grid_column": null,
      "grid_gap": null,
      "grid_row": null,
      "grid_template_areas": null,
      "grid_template_columns": null,
      "grid_template_rows": null,
      "height": null,
      "justify_content": null,
      "justify_items": null,
      "left": null,
      "margin": null,
      "max_height": null,
      "max_width": null,
      "min_height": null,
      "min_width": null,
      "object_fit": null,
      "object_position": null,
      "order": null,
      "overflow": null,
      "overflow_x": null,
      "overflow_y": null,
      "padding": null,
      "right": null,
      "top": null,
      "visibility": null,
      "width": null
     }
    },
    "2b39ebdba70e4100aefe004079e2a58a": {
     "model_module": "@jupyter-widgets/base",
     "model_name": "LayoutModel",
     "model_module_version": "1.2.0",
     "state": {
      "_model_module": "@jupyter-widgets/base",
      "_model_module_version": "1.2.0",
      "_model_name": "LayoutModel",
      "_view_count": null,
      "_view_module": "@jupyter-widgets/base",
      "_view_module_version": "1.2.0",
      "_view_name": "LayoutView",
      "align_content": null,
      "align_items": null,
      "align_self": null,
      "border": null,
      "bottom": null,
      "display": null,
      "flex": null,
      "flex_flow": null,
      "grid_area": null,
      "grid_auto_columns": null,
      "grid_auto_flow": null,
      "grid_auto_rows": null,
      "grid_column": null,
      "grid_gap": null,
      "grid_row": null,
      "grid_template_areas": null,
      "grid_template_columns": null,
      "grid_template_rows": null,
      "height": null,
      "justify_content": null,
      "justify_items": null,
      "left": null,
      "margin": null,
      "max_height": null,
      "max_width": null,
      "min_height": null,
      "min_width": null,
      "object_fit": null,
      "object_position": null,
      "order": null,
      "overflow": null,
      "overflow_x": null,
      "overflow_y": null,
      "padding": null,
      "right": null,
      "top": null,
      "visibility": null,
      "width": null
     }
    },
    "030c3aba1e5141499dd9fb1fbb821fb7": {
     "model_module": "@jupyter-widgets/controls",
     "model_name": "DescriptionStyleModel",
     "model_module_version": "1.5.0",
     "state": {
      "_model_module": "@jupyter-widgets/controls",
      "_model_module_version": "1.5.0",
      "_model_name": "DescriptionStyleModel",
      "_view_count": null,
      "_view_module": "@jupyter-widgets/base",
      "_view_module_version": "1.2.0",
      "_view_name": "StyleView",
      "description_width": ""
     }
    },
    "6320c0f6a2f9499b8fc07a6b7ab32895": {
     "model_module": "@jupyter-widgets/base",
     "model_name": "LayoutModel",
     "model_module_version": "1.2.0",
     "state": {
      "_model_module": "@jupyter-widgets/base",
      "_model_module_version": "1.2.0",
      "_model_name": "LayoutModel",
      "_view_count": null,
      "_view_module": "@jupyter-widgets/base",
      "_view_module_version": "1.2.0",
      "_view_name": "LayoutView",
      "align_content": null,
      "align_items": null,
      "align_self": null,
      "border": null,
      "bottom": null,
      "display": null,
      "flex": null,
      "flex_flow": null,
      "grid_area": null,
      "grid_auto_columns": null,
      "grid_auto_flow": null,
      "grid_auto_rows": null,
      "grid_column": null,
      "grid_gap": null,
      "grid_row": null,
      "grid_template_areas": null,
      "grid_template_columns": null,
      "grid_template_rows": null,
      "height": null,
      "justify_content": null,
      "justify_items": null,
      "left": null,
      "margin": null,
      "max_height": null,
      "max_width": null,
      "min_height": null,
      "min_width": null,
      "object_fit": null,
      "object_position": null,
      "order": null,
      "overflow": null,
      "overflow_x": null,
      "overflow_y": null,
      "padding": null,
      "right": null,
      "top": null,
      "visibility": null,
      "width": null
     }
    },
    "6a2f1ca5369548b4bca2186298b098e3": {
     "model_module": "@jupyter-widgets/controls",
     "model_name": "ProgressStyleModel",
     "model_module_version": "1.5.0",
     "state": {
      "_model_module": "@jupyter-widgets/controls",
      "_model_module_version": "1.5.0",
      "_model_name": "ProgressStyleModel",
      "_view_count": null,
      "_view_module": "@jupyter-widgets/base",
      "_view_module_version": "1.2.0",
      "_view_name": "StyleView",
      "bar_color": null,
      "description_width": ""
     }
    },
    "46b01036be4a438480e912f039502a03": {
     "model_module": "@jupyter-widgets/base",
     "model_name": "LayoutModel",
     "model_module_version": "1.2.0",
     "state": {
      "_model_module": "@jupyter-widgets/base",
      "_model_module_version": "1.2.0",
      "_model_name": "LayoutModel",
      "_view_count": null,
      "_view_module": "@jupyter-widgets/base",
      "_view_module_version": "1.2.0",
      "_view_name": "LayoutView",
      "align_content": null,
      "align_items": null,
      "align_self": null,
      "border": null,
      "bottom": null,
      "display": null,
      "flex": null,
      "flex_flow": null,
      "grid_area": null,
      "grid_auto_columns": null,
      "grid_auto_flow": null,
      "grid_auto_rows": null,
      "grid_column": null,
      "grid_gap": null,
      "grid_row": null,
      "grid_template_areas": null,
      "grid_template_columns": null,
      "grid_template_rows": null,
      "height": null,
      "justify_content": null,
      "justify_items": null,
      "left": null,
      "margin": null,
      "max_height": null,
      "max_width": null,
      "min_height": null,
      "min_width": null,
      "object_fit": null,
      "object_position": null,
      "order": null,
      "overflow": null,
      "overflow_x": null,
      "overflow_y": null,
      "padding": null,
      "right": null,
      "top": null,
      "visibility": null,
      "width": null
     }
    },
    "c88eb1ee6c77451a8fb98af6c0dcca4b": {
     "model_module": "@jupyter-widgets/controls",
     "model_name": "DescriptionStyleModel",
     "model_module_version": "1.5.0",
     "state": {
      "_model_module": "@jupyter-widgets/controls",
      "_model_module_version": "1.5.0",
      "_model_name": "DescriptionStyleModel",
      "_view_count": null,
      "_view_module": "@jupyter-widgets/base",
      "_view_module_version": "1.2.0",
      "_view_name": "StyleView",
      "description_width": ""
     }
    },
    "1fc795640cf44be4bc76d8ab8e306734": {
     "model_module": "@jupyter-widgets/controls",
     "model_name": "HBoxModel",
     "model_module_version": "1.5.0",
     "state": {
      "_dom_classes": [],
      "_model_module": "@jupyter-widgets/controls",
      "_model_module_version": "1.5.0",
      "_model_name": "HBoxModel",
      "_view_count": null,
      "_view_module": "@jupyter-widgets/controls",
      "_view_module_version": "1.5.0",
      "_view_name": "HBoxView",
      "box_style": "",
      "children": [
       "IPY_MODEL_498c3d94ca8047bb949543ccaf3bbfe9",
       "IPY_MODEL_bdcb210e2cba44fc970b1293ee2be083",
       "IPY_MODEL_438ab4a543384f42bd5fb468ec59abe7"
      ],
      "layout": "IPY_MODEL_f76d00aa61874ff3b2d875ece8a27881"
     }
    },
    "498c3d94ca8047bb949543ccaf3bbfe9": {
     "model_module": "@jupyter-widgets/controls",
     "model_name": "HTMLModel",
     "model_module_version": "1.5.0",
     "state": {
      "_dom_classes": [],
      "_model_module": "@jupyter-widgets/controls",
      "_model_module_version": "1.5.0",
      "_model_name": "HTMLModel",
      "_view_count": null,
      "_view_module": "@jupyter-widgets/controls",
      "_view_module_version": "1.5.0",
      "_view_name": "HTMLView",
      "description": "",
      "description_tooltip": null,
      "layout": "IPY_MODEL_49401fa00baa4341829e0fed12aeb915",
      "placeholder": "​",
      "style": "IPY_MODEL_8dc621bb6c65415db34a205f516ba22a",
      "value": "Action = 0.00 | Reward = -0.00: 100%"
     }
    },
    "bdcb210e2cba44fc970b1293ee2be083": {
     "model_module": "@jupyter-widgets/controls",
     "model_name": "FloatProgressModel",
     "model_module_version": "1.5.0",
     "state": {
      "_dom_classes": [],
      "_model_module": "@jupyter-widgets/controls",
      "_model_module_version": "1.5.0",
      "_model_name": "FloatProgressModel",
      "_view_count": null,
      "_view_module": "@jupyter-widgets/controls",
      "_view_module_version": "1.5.0",
      "_view_name": "ProgressView",
      "bar_style": "success",
      "description": "",
      "description_tooltip": null,
      "layout": "IPY_MODEL_53aa2529a87e48a498287fcaf2470833",
      "max": 1000,
      "min": 0,
      "orientation": "horizontal",
      "style": "IPY_MODEL_d1c178956fd24215bac6b15b299377a3",
      "value": 1000
     }
    },
    "438ab4a543384f42bd5fb468ec59abe7": {
     "model_module": "@jupyter-widgets/controls",
     "model_name": "HTMLModel",
     "model_module_version": "1.5.0",
     "state": {
      "_dom_classes": [],
      "_model_module": "@jupyter-widgets/controls",
      "_model_module_version": "1.5.0",
      "_model_name": "HTMLModel",
      "_view_count": null,
      "_view_module": "@jupyter-widgets/controls",
      "_view_module_version": "1.5.0",
      "_view_name": "HTMLView",
      "description": "",
      "description_tooltip": null,
      "layout": "IPY_MODEL_39ed564c03b34a58b03e57c27deb7f78",
      "placeholder": "​",
      "style": "IPY_MODEL_040e76df13854a3ebfdbcb0368639ed0",
      "value": " 1000/1000 [01:09&lt;00:00, 18.17it/s]"
     }
    },
    "f76d00aa61874ff3b2d875ece8a27881": {
     "model_module": "@jupyter-widgets/base",
     "model_name": "LayoutModel",
     "model_module_version": "1.2.0",
     "state": {
      "_model_module": "@jupyter-widgets/base",
      "_model_module_version": "1.2.0",
      "_model_name": "LayoutModel",
      "_view_count": null,
      "_view_module": "@jupyter-widgets/base",
      "_view_module_version": "1.2.0",
      "_view_name": "LayoutView",
      "align_content": null,
      "align_items": null,
      "align_self": null,
      "border": null,
      "bottom": null,
      "display": null,
      "flex": null,
      "flex_flow": null,
      "grid_area": null,
      "grid_auto_columns": null,
      "grid_auto_flow": null,
      "grid_auto_rows": null,
      "grid_column": null,
      "grid_gap": null,
      "grid_row": null,
      "grid_template_areas": null,
      "grid_template_columns": null,
      "grid_template_rows": null,
      "height": null,
      "justify_content": null,
      "justify_items": null,
      "left": null,
      "margin": null,
      "max_height": null,
      "max_width": null,
      "min_height": null,
      "min_width": null,
      "object_fit": null,
      "object_position": null,
      "order": null,
      "overflow": null,
      "overflow_x": null,
      "overflow_y": null,
      "padding": null,
      "right": null,
      "top": null,
      "visibility": null,
      "width": null
     }
    },
    "49401fa00baa4341829e0fed12aeb915": {
     "model_module": "@jupyter-widgets/base",
     "model_name": "LayoutModel",
     "model_module_version": "1.2.0",
     "state": {
      "_model_module": "@jupyter-widgets/base",
      "_model_module_version": "1.2.0",
      "_model_name": "LayoutModel",
      "_view_count": null,
      "_view_module": "@jupyter-widgets/base",
      "_view_module_version": "1.2.0",
      "_view_name": "LayoutView",
      "align_content": null,
      "align_items": null,
      "align_self": null,
      "border": null,
      "bottom": null,
      "display": null,
      "flex": null,
      "flex_flow": null,
      "grid_area": null,
      "grid_auto_columns": null,
      "grid_auto_flow": null,
      "grid_auto_rows": null,
      "grid_column": null,
      "grid_gap": null,
      "grid_row": null,
      "grid_template_areas": null,
      "grid_template_columns": null,
      "grid_template_rows": null,
      "height": null,
      "justify_content": null,
      "justify_items": null,
      "left": null,
      "margin": null,
      "max_height": null,
      "max_width": null,
      "min_height": null,
      "min_width": null,
      "object_fit": null,
      "object_position": null,
      "order": null,
      "overflow": null,
      "overflow_x": null,
      "overflow_y": null,
      "padding": null,
      "right": null,
      "top": null,
      "visibility": null,
      "width": null
     }
    },
    "8dc621bb6c65415db34a205f516ba22a": {
     "model_module": "@jupyter-widgets/controls",
     "model_name": "DescriptionStyleModel",
     "model_module_version": "1.5.0",
     "state": {
      "_model_module": "@jupyter-widgets/controls",
      "_model_module_version": "1.5.0",
      "_model_name": "DescriptionStyleModel",
      "_view_count": null,
      "_view_module": "@jupyter-widgets/base",
      "_view_module_version": "1.2.0",
      "_view_name": "StyleView",
      "description_width": ""
     }
    },
    "53aa2529a87e48a498287fcaf2470833": {
     "model_module": "@jupyter-widgets/base",
     "model_name": "LayoutModel",
     "model_module_version": "1.2.0",
     "state": {
      "_model_module": "@jupyter-widgets/base",
      "_model_module_version": "1.2.0",
      "_model_name": "LayoutModel",
      "_view_count": null,
      "_view_module": "@jupyter-widgets/base",
      "_view_module_version": "1.2.0",
      "_view_name": "LayoutView",
      "align_content": null,
      "align_items": null,
      "align_self": null,
      "border": null,
      "bottom": null,
      "display": null,
      "flex": null,
      "flex_flow": null,
      "grid_area": null,
      "grid_auto_columns": null,
      "grid_auto_flow": null,
      "grid_auto_rows": null,
      "grid_column": null,
      "grid_gap": null,
      "grid_row": null,
      "grid_template_areas": null,
      "grid_template_columns": null,
      "grid_template_rows": null,
      "height": null,
      "justify_content": null,
      "justify_items": null,
      "left": null,
      "margin": null,
      "max_height": null,
      "max_width": null,
      "min_height": null,
      "min_width": null,
      "object_fit": null,
      "object_position": null,
      "order": null,
      "overflow": null,
      "overflow_x": null,
      "overflow_y": null,
      "padding": null,
      "right": null,
      "top": null,
      "visibility": null,
      "width": null
     }
    },
    "d1c178956fd24215bac6b15b299377a3": {
     "model_module": "@jupyter-widgets/controls",
     "model_name": "ProgressStyleModel",
     "model_module_version": "1.5.0",
     "state": {
      "_model_module": "@jupyter-widgets/controls",
      "_model_module_version": "1.5.0",
      "_model_name": "ProgressStyleModel",
      "_view_count": null,
      "_view_module": "@jupyter-widgets/base",
      "_view_module_version": "1.2.0",
      "_view_name": "StyleView",
      "bar_color": null,
      "description_width": ""
     }
    },
    "39ed564c03b34a58b03e57c27deb7f78": {
     "model_module": "@jupyter-widgets/base",
     "model_name": "LayoutModel",
     "model_module_version": "1.2.0",
     "state": {
      "_model_module": "@jupyter-widgets/base",
      "_model_module_version": "1.2.0",
      "_model_name": "LayoutModel",
      "_view_count": null,
      "_view_module": "@jupyter-widgets/base",
      "_view_module_version": "1.2.0",
      "_view_name": "LayoutView",
      "align_content": null,
      "align_items": null,
      "align_self": null,
      "border": null,
      "bottom": null,
      "display": null,
      "flex": null,
      "flex_flow": null,
      "grid_area": null,
      "grid_auto_columns": null,
      "grid_auto_flow": null,
      "grid_auto_rows": null,
      "grid_column": null,
      "grid_gap": null,
      "grid_row": null,
      "grid_template_areas": null,
      "grid_template_columns": null,
      "grid_template_rows": null,
      "height": null,
      "justify_content": null,
      "justify_items": null,
      "left": null,
      "margin": null,
      "max_height": null,
      "max_width": null,
      "min_height": null,
      "min_width": null,
      "object_fit": null,
      "object_position": null,
      "order": null,
      "overflow": null,
      "overflow_x": null,
      "overflow_y": null,
      "padding": null,
      "right": null,
      "top": null,
      "visibility": null,
      "width": null
     }
    },
    "040e76df13854a3ebfdbcb0368639ed0": {
     "model_module": "@jupyter-widgets/controls",
     "model_name": "DescriptionStyleModel",
     "model_module_version": "1.5.0",
     "state": {
      "_model_module": "@jupyter-widgets/controls",
      "_model_module_version": "1.5.0",
      "_model_name": "DescriptionStyleModel",
      "_view_count": null,
      "_view_module": "@jupyter-widgets/base",
      "_view_module_version": "1.2.0",
      "_view_name": "StyleView",
      "description_width": ""
     }
    }
   }
  }
 },
 "nbformat": 4,
 "nbformat_minor": 0
}
