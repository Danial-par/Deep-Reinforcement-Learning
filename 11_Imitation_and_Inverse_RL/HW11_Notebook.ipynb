{
  "metadata": {
    "kernelspec": {
      "name": "python3",
      "display_name": "Python 3"
    },
    "language_info": {
      "name": "python",
      "version": "3.11.13",
      "mimetype": "text/x-python",
      "codemirror_mode": {
        "name": "ipython",
        "version": 3
      },
      "pygments_lexer": "ipython3",
      "nbconvert_exporter": "python",
      "file_extension": ".py"
    },
    "kaggle": {
      "accelerator": "nvidiaTeslaT4",
      "dataSources": [],
      "dockerImageVersionId": 31090,
      "isInternetEnabled": true,
      "language": "python",
      "sourceType": "notebook",
      "isGpuEnabled": true
    },
    "colab": {
      "provenance": [],
      "gpuType": "T4"
    },
    "accelerator": "GPU"
  },
  "nbformat_minor": 5,
  "nbformat": 4,
  "cells": [
    {
      "id": "cfbbc405",
      "cell_type": "markdown",
      "source": [
        "# HW6: Imitation Learning\n",
        "\n",
        "> - Full Name: **Danial Parnian**\n",
        "> - Student ID: **401110307**\n",
        "<!--\n",
        "\n",
        "[![Open In Colab](https://colab.research.google.com/assets/colab-badge.svg)](https://colab.research.google.com/github/DeepRLCourse/Homework-5-Questions/blob/main/RL_HW11_Dyna.ipynb)\n",
        "[![Open In kaggle](https://kaggle.com/static/images/open-in-kaggle.svg)](https://kaggle.com/kernels/welcome?src=https://raw.githubusercontent.com/DeepRLCourse/Homework-11-Questions/main/RL_HW5_Dyna.ipynb) -->\n",
        "\n",
        "## Overview\n",
        "This assignment investigates the strengths and limitations of both reinforcement learning (PPO, A2C) and imitation learning (DAgger, GAIL) by applying them to control tasks. Students train and evaluate agents using expert demonstrations and environment feedback, gaining hands-on experience in designing and comparing learning algorithms across paradigms.\n",
        "\n",
        "\n",
        "### **Exercise 1: Training PPO, A2C, and DAgger on CartPole-v1** (60 Points)\n",
        "\n",
        "This exercise focuses on comparing reinforcement learning (PPO, A2C) and imitation learning (DAgger) techniques on the CartPole-v1 environment. An expert policy is first trained using PPO, then used to guide a DAgger agent. Separately, an A2C agent is trained directly via interaction with the environment. Performance metrics are collected to assess how each approach learns and generalizes.\n",
        "\n",
        "---\n",
        "\n",
        "### **Exercise 2: Training a GAIL Model Using an Expert Policy** (100 Points)\n",
        "\n",
        "In this task, a GAIL (Generative Adversarial Imitation Learning) agent is trained to imitate a pre-trained expert policy in several environments (e.g., CartPole-v1, Pendulum-v0, BipedalWalker-v3). The training process involves configuring the environment, initializing models, and iteratively training the agent to match the expert’s behavior using adversarial learning.\n"
      ],
      "metadata": {
        "id": "cfbbc405"
      }
    },
    {
      "id": "811e8eac-bd35-4e4c-a337-c49dcf1867ce",
      "cell_type": "code",
      "source": [
        "!pip install stable_baselines3"
      ],
      "metadata": {
        "trusted": true,
        "execution": {
          "iopub.status.busy": "2025-08-04T05:14:59.732865Z",
          "iopub.execute_input": "2025-08-04T05:14:59.733136Z",
          "iopub.status.idle": "2025-08-04T05:16:14.387199Z",
          "shell.execute_reply.started": "2025-08-04T05:14:59.733115Z",
          "shell.execute_reply": "2025-08-04T05:16:14.386226Z"
        },
        "collapsed": true,
        "jupyter": {
          "outputs_hidden": true
        },
        "id": "811e8eac-bd35-4e4c-a337-c49dcf1867ce",
        "outputId": "b8824f07-850c-4b37-be32-a201d23ca5a6"
      },
      "outputs": [
        {
          "name": "stdout",
          "text": "Requirement already satisfied: stable_baselines3 in /usr/local/lib/python3.11/dist-packages (2.1.0)\nRequirement already satisfied: gymnasium<0.30,>=0.28.1 in /usr/local/lib/python3.11/dist-packages (from stable_baselines3) (0.29.0)\nRequirement already satisfied: numpy>=1.20 in /usr/local/lib/python3.11/dist-packages (from stable_baselines3) (1.26.4)\nRequirement already satisfied: torch>=1.13 in /usr/local/lib/python3.11/dist-packages (from stable_baselines3) (2.6.0+cu124)\nRequirement already satisfied: cloudpickle in /usr/local/lib/python3.11/dist-packages (from stable_baselines3) (3.1.1)\nRequirement already satisfied: pandas in /usr/local/lib/python3.11/dist-packages (from stable_baselines3) (2.2.3)\nRequirement already satisfied: matplotlib in /usr/local/lib/python3.11/dist-packages (from stable_baselines3) (3.7.2)\nRequirement already satisfied: typing-extensions>=4.3.0 in /usr/local/lib/python3.11/dist-packages (from gymnasium<0.30,>=0.28.1->stable_baselines3) (4.14.0)\nRequirement already satisfied: farama-notifications>=0.0.1 in /usr/local/lib/python3.11/dist-packages (from gymnasium<0.30,>=0.28.1->stable_baselines3) (0.0.4)\nRequirement already satisfied: mkl_fft in /usr/local/lib/python3.11/dist-packages (from numpy>=1.20->stable_baselines3) (1.3.8)\nRequirement already satisfied: mkl_random in /usr/local/lib/python3.11/dist-packages (from numpy>=1.20->stable_baselines3) (1.2.4)\nRequirement already satisfied: mkl_umath in /usr/local/lib/python3.11/dist-packages (from numpy>=1.20->stable_baselines3) (0.1.1)\nRequirement already satisfied: mkl in /usr/local/lib/python3.11/dist-packages (from numpy>=1.20->stable_baselines3) (2025.2.0)\nRequirement already satisfied: tbb4py in /usr/local/lib/python3.11/dist-packages (from numpy>=1.20->stable_baselines3) (2022.2.0)\nRequirement already satisfied: mkl-service in /usr/local/lib/python3.11/dist-packages (from numpy>=1.20->stable_baselines3) (2.4.1)\nRequirement already satisfied: filelock in /usr/local/lib/python3.11/dist-packages (from torch>=1.13->stable_baselines3) (3.18.0)\nRequirement already satisfied: networkx in /usr/local/lib/python3.11/dist-packages (from torch>=1.13->stable_baselines3) (3.5)\nRequirement already satisfied: jinja2 in /usr/local/lib/python3.11/dist-packages (from torch>=1.13->stable_baselines3) (3.1.6)\nRequirement already satisfied: fsspec in /usr/local/lib/python3.11/dist-packages (from torch>=1.13->stable_baselines3) (2025.5.1)\nCollecting nvidia-cuda-nvrtc-cu12==12.4.127 (from torch>=1.13->stable_baselines3)\n  Downloading nvidia_cuda_nvrtc_cu12-12.4.127-py3-none-manylinux2014_x86_64.whl.metadata (1.5 kB)\nCollecting nvidia-cuda-runtime-cu12==12.4.127 (from torch>=1.13->stable_baselines3)\n  Downloading nvidia_cuda_runtime_cu12-12.4.127-py3-none-manylinux2014_x86_64.whl.metadata (1.5 kB)\nCollecting nvidia-cuda-cupti-cu12==12.4.127 (from torch>=1.13->stable_baselines3)\n  Downloading nvidia_cuda_cupti_cu12-12.4.127-py3-none-manylinux2014_x86_64.whl.metadata (1.6 kB)\nCollecting nvidia-cudnn-cu12==9.1.0.70 (from torch>=1.13->stable_baselines3)\n  Downloading nvidia_cudnn_cu12-9.1.0.70-py3-none-manylinux2014_x86_64.whl.metadata (1.6 kB)\nCollecting nvidia-cublas-cu12==12.4.5.8 (from torch>=1.13->stable_baselines3)\n  Downloading nvidia_cublas_cu12-12.4.5.8-py3-none-manylinux2014_x86_64.whl.metadata (1.5 kB)\nCollecting nvidia-cufft-cu12==11.2.1.3 (from torch>=1.13->stable_baselines3)\n  Downloading nvidia_cufft_cu12-11.2.1.3-py3-none-manylinux2014_x86_64.whl.metadata (1.5 kB)\nCollecting nvidia-curand-cu12==10.3.5.147 (from torch>=1.13->stable_baselines3)\n  Downloading nvidia_curand_cu12-10.3.5.147-py3-none-manylinux2014_x86_64.whl.metadata (1.5 kB)\nCollecting nvidia-cusolver-cu12==11.6.1.9 (from torch>=1.13->stable_baselines3)\n  Downloading nvidia_cusolver_cu12-11.6.1.9-py3-none-manylinux2014_x86_64.whl.metadata (1.6 kB)\nCollecting nvidia-cusparse-cu12==12.3.1.170 (from torch>=1.13->stable_baselines3)\n  Downloading nvidia_cusparse_cu12-12.3.1.170-py3-none-manylinux2014_x86_64.whl.metadata (1.6 kB)\nRequirement already satisfied: nvidia-cusparselt-cu12==0.6.2 in /usr/local/lib/python3.11/dist-packages (from torch>=1.13->stable_baselines3) (0.6.2)\nRequirement already satisfied: nvidia-nccl-cu12==2.21.5 in /usr/local/lib/python3.11/dist-packages (from torch>=1.13->stable_baselines3) (2.21.5)\nRequirement already satisfied: nvidia-nvtx-cu12==12.4.127 in /usr/local/lib/python3.11/dist-packages (from torch>=1.13->stable_baselines3) (12.4.127)\nCollecting nvidia-nvjitlink-cu12==12.4.127 (from torch>=1.13->stable_baselines3)\n  Downloading nvidia_nvjitlink_cu12-12.4.127-py3-none-manylinux2014_x86_64.whl.metadata (1.5 kB)\nRequirement already satisfied: triton==3.2.0 in /usr/local/lib/python3.11/dist-packages (from torch>=1.13->stable_baselines3) (3.2.0)\nRequirement already satisfied: sympy==1.13.1 in /usr/local/lib/python3.11/dist-packages (from torch>=1.13->stable_baselines3) (1.13.1)\nRequirement already satisfied: mpmath<1.4,>=1.1.0 in /usr/local/lib/python3.11/dist-packages (from sympy==1.13.1->torch>=1.13->stable_baselines3) (1.3.0)\nRequirement already satisfied: contourpy>=1.0.1 in /usr/local/lib/python3.11/dist-packages (from matplotlib->stable_baselines3) (1.3.2)\nRequirement already satisfied: cycler>=0.10 in /usr/local/lib/python3.11/dist-packages (from matplotlib->stable_baselines3) (0.12.1)\nRequirement already satisfied: fonttools>=4.22.0 in /usr/local/lib/python3.11/dist-packages (from matplotlib->stable_baselines3) (4.58.4)\nRequirement already satisfied: kiwisolver>=1.0.1 in /usr/local/lib/python3.11/dist-packages (from matplotlib->stable_baselines3) (1.4.8)\nRequirement already satisfied: packaging>=20.0 in /usr/local/lib/python3.11/dist-packages (from matplotlib->stable_baselines3) (25.0)\nRequirement already satisfied: pillow>=6.2.0 in /usr/local/lib/python3.11/dist-packages (from matplotlib->stable_baselines3) (11.2.1)\nRequirement already satisfied: pyparsing<3.1,>=2.3.1 in /usr/local/lib/python3.11/dist-packages (from matplotlib->stable_baselines3) (3.0.9)\nRequirement already satisfied: python-dateutil>=2.7 in /usr/local/lib/python3.11/dist-packages (from matplotlib->stable_baselines3) (2.9.0.post0)\nRequirement already satisfied: pytz>=2020.1 in /usr/local/lib/python3.11/dist-packages (from pandas->stable_baselines3) (2025.2)\nRequirement already satisfied: tzdata>=2022.7 in /usr/local/lib/python3.11/dist-packages (from pandas->stable_baselines3) (2025.2)\nRequirement already satisfied: six>=1.5 in /usr/local/lib/python3.11/dist-packages (from python-dateutil>=2.7->matplotlib->stable_baselines3) (1.17.0)\nRequirement already satisfied: MarkupSafe>=2.0 in /usr/local/lib/python3.11/dist-packages (from jinja2->torch>=1.13->stable_baselines3) (3.0.2)\nRequirement already satisfied: intel-openmp<2026,>=2024 in /usr/local/lib/python3.11/dist-packages (from mkl->numpy>=1.20->stable_baselines3) (2024.2.0)\nRequirement already satisfied: tbb==2022.* in /usr/local/lib/python3.11/dist-packages (from mkl->numpy>=1.20->stable_baselines3) (2022.2.0)\nRequirement already satisfied: tcmlib==1.* in /usr/local/lib/python3.11/dist-packages (from tbb==2022.*->mkl->numpy>=1.20->stable_baselines3) (1.4.0)\nRequirement already satisfied: intel-cmplr-lib-rt in /usr/local/lib/python3.11/dist-packages (from mkl_umath->numpy>=1.20->stable_baselines3) (2024.2.0)\nRequirement already satisfied: intel-cmplr-lib-ur==2024.2.0 in /usr/local/lib/python3.11/dist-packages (from intel-openmp<2026,>=2024->mkl->numpy>=1.20->stable_baselines3) (2024.2.0)\nDownloading nvidia_cublas_cu12-12.4.5.8-py3-none-manylinux2014_x86_64.whl (363.4 MB)\n\u001b[2K   \u001b[90m━━━━━━━━━━━━━━━━━━━━━━━━━━━━━━━━━━━━━━━━\u001b[0m \u001b[32m363.4/363.4 MB\u001b[0m \u001b[31m4.9 MB/s\u001b[0m eta \u001b[36m0:00:00\u001b[0m:00:01\u001b[0m00:01\u001b[0m\n\u001b[?25hDownloading nvidia_cuda_cupti_cu12-12.4.127-py3-none-manylinux2014_x86_64.whl (13.8 MB)\n\u001b[2K   \u001b[90m━━━━━━━━━━━━━━━━━━━━━━━━━━━━━━━━━━━━━━━━\u001b[0m \u001b[32m13.8/13.8 MB\u001b[0m \u001b[31m82.1 MB/s\u001b[0m eta \u001b[36m0:00:00\u001b[0m:00:01\u001b[0m00:01\u001b[0m\n\u001b[?25hDownloading nvidia_cuda_nvrtc_cu12-12.4.127-py3-none-manylinux2014_x86_64.whl (24.6 MB)\n\u001b[2K   \u001b[90m━━━━━━━━━━━━━━━━━━━━━━━━━━━━━━━━━━━━━━━━\u001b[0m \u001b[32m24.6/24.6 MB\u001b[0m \u001b[31m64.8 MB/s\u001b[0m eta \u001b[36m0:00:00\u001b[0m:00:01\u001b[0m00:01\u001b[0m\n\u001b[?25hDownloading nvidia_cuda_runtime_cu12-12.4.127-py3-none-manylinux2014_x86_64.whl (883 kB)\n\u001b[2K   \u001b[90m━━━━━━━━━━━━━━━━━━━━━━━━━━━━━━━━━━━━━━━━\u001b[0m \u001b[32m883.7/883.7 kB\u001b[0m \u001b[31m48.4 MB/s\u001b[0m eta \u001b[36m0:00:00\u001b[0m\n\u001b[?25hDownloading nvidia_cudnn_cu12-9.1.0.70-py3-none-manylinux2014_x86_64.whl (664.8 MB)\n\u001b[2K   \u001b[90m━━━━━━━━━━━━━━━━━━━━━━━━━━━━━━━━━━━━━━━━\u001b[0m \u001b[32m664.8/664.8 MB\u001b[0m \u001b[31m2.4 MB/s\u001b[0m eta \u001b[36m0:00:00\u001b[0m:00:01\u001b[0m00:01\u001b[0m\n\u001b[?25hDownloading nvidia_cufft_cu12-11.2.1.3-py3-none-manylinux2014_x86_64.whl (211.5 MB)\n\u001b[2K   \u001b[90m━━━━━━━━━━━━━━━━━━━━━━━━━━━━━━━━━━━━━━━━\u001b[0m \u001b[32m211.5/211.5 MB\u001b[0m \u001b[31m7.7 MB/s\u001b[0m eta \u001b[36m0:00:00\u001b[0m:00:01\u001b[0m00:01\u001b[0m\n\u001b[?25hDownloading nvidia_curand_cu12-10.3.5.147-py3-none-manylinux2014_x86_64.whl (56.3 MB)\n\u001b[2K   \u001b[90m━━━━━━━━━━━━━━━━━━━━━━━━━━━━━━━━━━━━━━━━\u001b[0m \u001b[32m56.3/56.3 MB\u001b[0m \u001b[31m16.7 MB/s\u001b[0m eta \u001b[36m0:00:00\u001b[0m:00:01\u001b[0m00:01\u001b[0m\n\u001b[?25hDownloading nvidia_cusolver_cu12-11.6.1.9-py3-none-manylinux2014_x86_64.whl (127.9 MB)\n\u001b[2K   \u001b[90m━━━━━━━━━━━━━━━━━━━━━━━━━━━━━━━━━━━━━━━━\u001b[0m \u001b[32m127.9/127.9 MB\u001b[0m \u001b[31m12.2 MB/s\u001b[0m eta \u001b[36m0:00:00\u001b[0m00:01\u001b[0m00:01\u001b[0m\n\u001b[?25hDownloading nvidia_cusparse_cu12-12.3.1.170-py3-none-manylinux2014_x86_64.whl (207.5 MB)\n\u001b[2K   \u001b[90m━━━━━━━━━━━━━━━━━━━━━━━━━━━━━━━━━━━━━━━━\u001b[0m \u001b[32m207.5/207.5 MB\u001b[0m \u001b[31m3.4 MB/s\u001b[0m eta \u001b[36m0:00:00\u001b[0m:00:01\u001b[0m00:01\u001b[0m\n\u001b[?25hDownloading nvidia_nvjitlink_cu12-12.4.127-py3-none-manylinux2014_x86_64.whl (21.1 MB)\n\u001b[2K   \u001b[90m━━━━━━━━━━━━━━━━━━━━━━━━━━━━━━━━━━━━━━━━\u001b[0m \u001b[32m21.1/21.1 MB\u001b[0m \u001b[31m5.1 MB/s\u001b[0m eta \u001b[36m0:00:00\u001b[0m:00:01\u001b[0m00:01\u001b[0m\n\u001b[?25hInstalling collected packages: nvidia-nvjitlink-cu12, nvidia-curand-cu12, nvidia-cufft-cu12, nvidia-cuda-runtime-cu12, nvidia-cuda-nvrtc-cu12, nvidia-cuda-cupti-cu12, nvidia-cublas-cu12, nvidia-cusparse-cu12, nvidia-cudnn-cu12, nvidia-cusolver-cu12\n  Attempting uninstall: nvidia-nvjitlink-cu12\n    Found existing installation: nvidia-nvjitlink-cu12 12.5.82\n    Uninstalling nvidia-nvjitlink-cu12-12.5.82:\n      Successfully uninstalled nvidia-nvjitlink-cu12-12.5.82\n  Attempting uninstall: nvidia-curand-cu12\n    Found existing installation: nvidia-curand-cu12 10.3.6.82\n    Uninstalling nvidia-curand-cu12-10.3.6.82:\n      Successfully uninstalled nvidia-curand-cu12-10.3.6.82\n  Attempting uninstall: nvidia-cufft-cu12\n    Found existing installation: nvidia-cufft-cu12 11.2.3.61\n    Uninstalling nvidia-cufft-cu12-11.2.3.61:\n      Successfully uninstalled nvidia-cufft-cu12-11.2.3.61\n  Attempting uninstall: nvidia-cuda-runtime-cu12\n    Found existing installation: nvidia-cuda-runtime-cu12 12.5.82\n    Uninstalling nvidia-cuda-runtime-cu12-12.5.82:\n      Successfully uninstalled nvidia-cuda-runtime-cu12-12.5.82\n  Attempting uninstall: nvidia-cuda-nvrtc-cu12\n    Found existing installation: nvidia-cuda-nvrtc-cu12 12.5.82\n    Uninstalling nvidia-cuda-nvrtc-cu12-12.5.82:\n      Successfully uninstalled nvidia-cuda-nvrtc-cu12-12.5.82\n  Attempting uninstall: nvidia-cuda-cupti-cu12\n    Found existing installation: nvidia-cuda-cupti-cu12 12.5.82\n    Uninstalling nvidia-cuda-cupti-cu12-12.5.82:\n      Successfully uninstalled nvidia-cuda-cupti-cu12-12.5.82\n  Attempting uninstall: nvidia-cublas-cu12\n    Found existing installation: nvidia-cublas-cu12 12.5.3.2\n    Uninstalling nvidia-cublas-cu12-12.5.3.2:\n      Successfully uninstalled nvidia-cublas-cu12-12.5.3.2\n  Attempting uninstall: nvidia-cusparse-cu12\n    Found existing installation: nvidia-cusparse-cu12 12.5.1.3\n    Uninstalling nvidia-cusparse-cu12-12.5.1.3:\n      Successfully uninstalled nvidia-cusparse-cu12-12.5.1.3\n  Attempting uninstall: nvidia-cudnn-cu12\n    Found existing installation: nvidia-cudnn-cu12 9.3.0.75\n    Uninstalling nvidia-cudnn-cu12-9.3.0.75:\n      Successfully uninstalled nvidia-cudnn-cu12-9.3.0.75\n  Attempting uninstall: nvidia-cusolver-cu12\n    Found existing installation: nvidia-cusolver-cu12 11.6.3.83\n    Uninstalling nvidia-cusolver-cu12-11.6.3.83:\n      Successfully uninstalled nvidia-cusolver-cu12-11.6.3.83\nSuccessfully installed nvidia-cublas-cu12-12.4.5.8 nvidia-cuda-cupti-cu12-12.4.127 nvidia-cuda-nvrtc-cu12-12.4.127 nvidia-cuda-runtime-cu12-12.4.127 nvidia-cudnn-cu12-9.1.0.70 nvidia-cufft-cu12-11.2.1.3 nvidia-curand-cu12-10.3.5.147 nvidia-cusolver-cu12-11.6.1.9 nvidia-cusparse-cu12-12.3.1.170 nvidia-nvjitlink-cu12-12.4.127\n",
          "output_type": "stream"
        }
      ],
      "execution_count": null
    },
    {
      "id": "2fdcb13a-9175-4a5e-b77d-63ab5b6e84d9",
      "cell_type": "code",
      "source": [
        "!pip install imitation"
      ],
      "metadata": {
        "trusted": true,
        "execution": {
          "iopub.status.busy": "2025-08-04T05:17:15.608946Z",
          "iopub.execute_input": "2025-08-04T05:17:15.609548Z",
          "iopub.status.idle": "2025-08-04T05:17:21.160526Z",
          "shell.execute_reply.started": "2025-08-04T05:17:15.609522Z",
          "shell.execute_reply": "2025-08-04T05:17:21.159564Z"
        },
        "collapsed": true,
        "jupyter": {
          "outputs_hidden": true
        },
        "id": "2fdcb13a-9175-4a5e-b77d-63ab5b6e84d9",
        "outputId": "fc36976b-ee24-4f26-a9ca-701b513a2e86"
      },
      "outputs": [
        {
          "name": "stdout",
          "text": "Collecting imitation\n  Downloading imitation-1.0.1-py3-none-any.whl.metadata (14 kB)\nRequirement already satisfied: gymnasium~=0.29 in /usr/local/lib/python3.11/dist-packages (from gymnasium[classic-control]~=0.29->imitation) (0.29.0)\nRequirement already satisfied: matplotlib in /usr/local/lib/python3.11/dist-packages (from imitation) (3.7.2)\nRequirement already satisfied: numpy>=1.15 in /usr/local/lib/python3.11/dist-packages (from imitation) (1.26.4)\nRequirement already satisfied: torch>=1.4.0 in /usr/local/lib/python3.11/dist-packages (from imitation) (2.6.0+cu124)\nRequirement already satisfied: tqdm in /usr/local/lib/python3.11/dist-packages (from imitation) (4.67.1)\nRequirement already satisfied: rich in /usr/local/lib/python3.11/dist-packages (from imitation) (14.0.0)\nRequirement already satisfied: scikit-learn>=0.21.2 in /usr/local/lib/python3.11/dist-packages (from imitation) (1.2.2)\nCollecting seals~=0.2.1 (from imitation)\n  Downloading seals-0.2.1-py3-none-any.whl.metadata (8.9 kB)\nCollecting stable-baselines3~=2.2.1 (from imitation)\n  Downloading stable_baselines3-2.2.1-py3-none-any.whl.metadata (5.0 kB)\nCollecting sacred>=0.8.4 (from imitation)\n  Downloading sacred-0.8.7-py2.py3-none-any.whl.metadata (13 kB)\nRequirement already satisfied: tensorboard>=1.14 in /usr/local/lib/python3.11/dist-packages (from imitation) (2.18.0)\nCollecting huggingface-sb3~=3.0 (from imitation)\n  Downloading huggingface_sb3-3.0-py3-none-any.whl.metadata (6.3 kB)\nRequirement already satisfied: optuna>=3.0.1 in /usr/local/lib/python3.11/dist-packages (from imitation) (4.4.0)\nRequirement already satisfied: datasets>=2.8.0 in /usr/local/lib/python3.11/dist-packages (from imitation) (3.6.0)\nRequirement already satisfied: filelock in /usr/local/lib/python3.11/dist-packages (from datasets>=2.8.0->imitation) (3.18.0)\nRequirement already satisfied: pyarrow>=15.0.0 in /usr/local/lib/python3.11/dist-packages (from datasets>=2.8.0->imitation) (19.0.1)\nRequirement already satisfied: dill<0.3.9,>=0.3.0 in /usr/local/lib/python3.11/dist-packages (from datasets>=2.8.0->imitation) (0.3.8)\nRequirement already satisfied: pandas in /usr/local/lib/python3.11/dist-packages (from datasets>=2.8.0->imitation) (2.2.3)\nRequirement already satisfied: requests>=2.32.2 in /usr/local/lib/python3.11/dist-packages (from datasets>=2.8.0->imitation) (2.32.4)\nRequirement already satisfied: xxhash in /usr/local/lib/python3.11/dist-packages (from datasets>=2.8.0->imitation) (3.5.0)\nRequirement already satisfied: multiprocess<0.70.17 in /usr/local/lib/python3.11/dist-packages (from datasets>=2.8.0->imitation) (0.70.16)\nCollecting fsspec<=2025.3.0,>=2023.1.0 (from fsspec[http]<=2025.3.0,>=2023.1.0->datasets>=2.8.0->imitation)\n  Downloading fsspec-2025.3.0-py3-none-any.whl.metadata (11 kB)\nRequirement already satisfied: huggingface-hub>=0.24.0 in /usr/local/lib/python3.11/dist-packages (from datasets>=2.8.0->imitation) (0.33.1)\nRequirement already satisfied: packaging in /usr/local/lib/python3.11/dist-packages (from datasets>=2.8.0->imitation) (25.0)\nRequirement already satisfied: pyyaml>=5.1 in /usr/local/lib/python3.11/dist-packages (from datasets>=2.8.0->imitation) (6.0.2)\nRequirement already satisfied: cloudpickle>=1.2.0 in /usr/local/lib/python3.11/dist-packages (from gymnasium~=0.29->gymnasium[classic-control]~=0.29->imitation) (3.1.1)\nRequirement already satisfied: typing-extensions>=4.3.0 in /usr/local/lib/python3.11/dist-packages (from gymnasium~=0.29->gymnasium[classic-control]~=0.29->imitation) (4.14.0)\nRequirement already satisfied: farama-notifications>=0.0.1 in /usr/local/lib/python3.11/dist-packages (from gymnasium~=0.29->gymnasium[classic-control]~=0.29->imitation) (0.0.4)\nRequirement already satisfied: pygame>=2.1.3 in /usr/local/lib/python3.11/dist-packages (from gymnasium[classic-control]~=0.29->imitation) (2.6.1)\nRequirement already satisfied: wasabi in /usr/local/lib/python3.11/dist-packages (from huggingface-sb3~=3.0->imitation) (1.1.3)\nRequirement already satisfied: mkl_fft in /usr/local/lib/python3.11/dist-packages (from numpy>=1.15->imitation) (1.3.8)\nRequirement already satisfied: mkl_random in /usr/local/lib/python3.11/dist-packages (from numpy>=1.15->imitation) (1.2.4)\nRequirement already satisfied: mkl_umath in /usr/local/lib/python3.11/dist-packages (from numpy>=1.15->imitation) (0.1.1)\nRequirement already satisfied: mkl in /usr/local/lib/python3.11/dist-packages (from numpy>=1.15->imitation) (2025.2.0)\nRequirement already satisfied: tbb4py in /usr/local/lib/python3.11/dist-packages (from numpy>=1.15->imitation) (2022.2.0)\nRequirement already satisfied: mkl-service in /usr/local/lib/python3.11/dist-packages (from numpy>=1.15->imitation) (2.4.1)\nRequirement already satisfied: alembic>=1.5.0 in /usr/local/lib/python3.11/dist-packages (from optuna>=3.0.1->imitation) (1.16.2)\nRequirement already satisfied: colorlog in /usr/local/lib/python3.11/dist-packages (from optuna>=3.0.1->imitation) (6.9.0)\nRequirement already satisfied: sqlalchemy>=1.4.2 in /usr/local/lib/python3.11/dist-packages (from optuna>=3.0.1->imitation) (2.0.41)\nCollecting docopt-ng<1.0,>=0.9 (from sacred>=0.8.4->imitation)\n  Downloading docopt_ng-0.9.0-py3-none-any.whl.metadata (13 kB)\nRequirement already satisfied: jsonpickle>=2.2.0 in /usr/local/lib/python3.11/dist-packages (from sacred>=0.8.4->imitation) (4.1.1)\nCollecting munch<5.0,>=2.5 (from sacred>=0.8.4->imitation)\n  Downloading munch-4.0.0-py2.py3-none-any.whl.metadata (5.9 kB)\nRequirement already satisfied: wrapt<2.0,>=1.0 in /usr/local/lib/python3.11/dist-packages (from sacred>=0.8.4->imitation) (1.17.2)\nRequirement already satisfied: py-cpuinfo>=4.0 in /usr/local/lib/python3.11/dist-packages (from sacred>=0.8.4->imitation) (9.0.0)\nRequirement already satisfied: colorama>=0.4 in /usr/local/lib/python3.11/dist-packages (from sacred>=0.8.4->imitation) (0.4.6)\nRequirement already satisfied: GitPython in /usr/local/lib/python3.11/dist-packages (from sacred>=0.8.4->imitation) (3.1.44)\nRequirement already satisfied: scipy>=1.3.2 in /usr/local/lib/python3.11/dist-packages (from scikit-learn>=0.21.2->imitation) (1.15.3)\nRequirement already satisfied: joblib>=1.1.1 in /usr/local/lib/python3.11/dist-packages (from scikit-learn>=0.21.2->imitation) (1.5.1)\nRequirement already satisfied: threadpoolctl>=2.0.0 in /usr/local/lib/python3.11/dist-packages (from scikit-learn>=0.21.2->imitation) (3.6.0)\nRequirement already satisfied: absl-py>=0.4 in /usr/local/lib/python3.11/dist-packages (from tensorboard>=1.14->imitation) (1.4.0)\nRequirement already satisfied: grpcio>=1.48.2 in /usr/local/lib/python3.11/dist-packages (from tensorboard>=1.14->imitation) (1.73.1)\nRequirement already satisfied: markdown>=2.6.8 in /usr/local/lib/python3.11/dist-packages (from tensorboard>=1.14->imitation) (3.8.2)\nRequirement already satisfied: protobuf!=4.24.0,>=3.19.6 in /usr/local/lib/python3.11/dist-packages (from tensorboard>=1.14->imitation) (3.20.3)\nRequirement already satisfied: setuptools>=41.0.0 in /usr/local/lib/python3.11/dist-packages (from tensorboard>=1.14->imitation) (75.2.0)\nRequirement already satisfied: six>1.9 in /usr/local/lib/python3.11/dist-packages (from tensorboard>=1.14->imitation) (1.17.0)\nRequirement already satisfied: tensorboard-data-server<0.8.0,>=0.7.0 in /usr/local/lib/python3.11/dist-packages (from tensorboard>=1.14->imitation) (0.7.2)\nRequirement already satisfied: werkzeug>=1.0.1 in /usr/local/lib/python3.11/dist-packages (from tensorboard>=1.14->imitation) (3.1.3)\nRequirement already satisfied: networkx in /usr/local/lib/python3.11/dist-packages (from torch>=1.4.0->imitation) (3.5)\nRequirement already satisfied: jinja2 in /usr/local/lib/python3.11/dist-packages (from torch>=1.4.0->imitation) (3.1.6)\nRequirement already satisfied: nvidia-cuda-nvrtc-cu12==12.4.127 in /usr/local/lib/python3.11/dist-packages (from torch>=1.4.0->imitation) (12.4.127)\nRequirement already satisfied: nvidia-cuda-runtime-cu12==12.4.127 in /usr/local/lib/python3.11/dist-packages (from torch>=1.4.0->imitation) (12.4.127)\nRequirement already satisfied: nvidia-cuda-cupti-cu12==12.4.127 in /usr/local/lib/python3.11/dist-packages (from torch>=1.4.0->imitation) (12.4.127)\nRequirement already satisfied: nvidia-cudnn-cu12==9.1.0.70 in /usr/local/lib/python3.11/dist-packages (from torch>=1.4.0->imitation) (9.1.0.70)\nRequirement already satisfied: nvidia-cublas-cu12==12.4.5.8 in /usr/local/lib/python3.11/dist-packages (from torch>=1.4.0->imitation) (12.4.5.8)\nRequirement already satisfied: nvidia-cufft-cu12==11.2.1.3 in /usr/local/lib/python3.11/dist-packages (from torch>=1.4.0->imitation) (11.2.1.3)\nRequirement already satisfied: nvidia-curand-cu12==10.3.5.147 in /usr/local/lib/python3.11/dist-packages (from torch>=1.4.0->imitation) (10.3.5.147)\nRequirement already satisfied: nvidia-cusolver-cu12==11.6.1.9 in /usr/local/lib/python3.11/dist-packages (from torch>=1.4.0->imitation) (11.6.1.9)\nRequirement already satisfied: nvidia-cusparse-cu12==12.3.1.170 in /usr/local/lib/python3.11/dist-packages (from torch>=1.4.0->imitation) (12.3.1.170)\nRequirement already satisfied: nvidia-cusparselt-cu12==0.6.2 in /usr/local/lib/python3.11/dist-packages (from torch>=1.4.0->imitation) (0.6.2)\nRequirement already satisfied: nvidia-nccl-cu12==2.21.5 in /usr/local/lib/python3.11/dist-packages (from torch>=1.4.0->imitation) (2.21.5)\nRequirement already satisfied: nvidia-nvtx-cu12==12.4.127 in /usr/local/lib/python3.11/dist-packages (from torch>=1.4.0->imitation) (12.4.127)\nRequirement already satisfied: nvidia-nvjitlink-cu12==12.4.127 in /usr/local/lib/python3.11/dist-packages (from torch>=1.4.0->imitation) (12.4.127)\nRequirement already satisfied: triton==3.2.0 in /usr/local/lib/python3.11/dist-packages (from torch>=1.4.0->imitation) (3.2.0)\nRequirement already satisfied: sympy==1.13.1 in /usr/local/lib/python3.11/dist-packages (from torch>=1.4.0->imitation) (1.13.1)\nRequirement already satisfied: mpmath<1.4,>=1.1.0 in /usr/local/lib/python3.11/dist-packages (from sympy==1.13.1->torch>=1.4.0->imitation) (1.3.0)\nRequirement already satisfied: contourpy>=1.0.1 in /usr/local/lib/python3.11/dist-packages (from matplotlib->imitation) (1.3.2)\nRequirement already satisfied: cycler>=0.10 in /usr/local/lib/python3.11/dist-packages (from matplotlib->imitation) (0.12.1)\nRequirement already satisfied: fonttools>=4.22.0 in /usr/local/lib/python3.11/dist-packages (from matplotlib->imitation) (4.58.4)\nRequirement already satisfied: kiwisolver>=1.0.1 in /usr/local/lib/python3.11/dist-packages (from matplotlib->imitation) (1.4.8)\nRequirement already satisfied: pillow>=6.2.0 in /usr/local/lib/python3.11/dist-packages (from matplotlib->imitation) (11.2.1)\nRequirement already satisfied: pyparsing<3.1,>=2.3.1 in /usr/local/lib/python3.11/dist-packages (from matplotlib->imitation) (3.0.9)\nRequirement already satisfied: python-dateutil>=2.7 in /usr/local/lib/python3.11/dist-packages (from matplotlib->imitation) (2.9.0.post0)\nRequirement already satisfied: markdown-it-py>=2.2.0 in /usr/local/lib/python3.11/dist-packages (from rich->imitation) (3.0.0)\nRequirement already satisfied: pygments<3.0.0,>=2.13.0 in /usr/local/lib/python3.11/dist-packages (from rich->imitation) (2.19.2)\nRequirement already satisfied: Mako in /usr/local/lib/python3.11/dist-packages (from alembic>=1.5.0->optuna>=3.0.1->imitation) (1.3.10)\nRequirement already satisfied: aiohttp!=4.0.0a0,!=4.0.0a1 in /usr/local/lib/python3.11/dist-packages (from fsspec[http]<=2025.3.0,>=2023.1.0->datasets>=2.8.0->imitation) (3.12.13)\nRequirement already satisfied: hf-xet<2.0.0,>=1.1.2 in /usr/local/lib/python3.11/dist-packages (from huggingface-hub>=0.24.0->datasets>=2.8.0->imitation) (1.1.5)\nRequirement already satisfied: mdurl~=0.1 in /usr/local/lib/python3.11/dist-packages (from markdown-it-py>=2.2.0->rich->imitation) (0.1.2)\nRequirement already satisfied: charset_normalizer<4,>=2 in /usr/local/lib/python3.11/dist-packages (from requests>=2.32.2->datasets>=2.8.0->imitation) (3.4.2)\nRequirement already satisfied: idna<4,>=2.5 in /usr/local/lib/python3.11/dist-packages (from requests>=2.32.2->datasets>=2.8.0->imitation) (3.10)\nRequirement already satisfied: urllib3<3,>=1.21.1 in /usr/local/lib/python3.11/dist-packages (from requests>=2.32.2->datasets>=2.8.0->imitation) (2.5.0)\nRequirement already satisfied: certifi>=2017.4.17 in /usr/local/lib/python3.11/dist-packages (from requests>=2.32.2->datasets>=2.8.0->imitation) (2025.6.15)\nRequirement already satisfied: greenlet>=1 in /usr/local/lib/python3.11/dist-packages (from sqlalchemy>=1.4.2->optuna>=3.0.1->imitation) (3.2.3)\nRequirement already satisfied: MarkupSafe>=2.1.1 in /usr/local/lib/python3.11/dist-packages (from werkzeug>=1.0.1->tensorboard>=1.14->imitation) (3.0.2)\nRequirement already satisfied: gitdb<5,>=4.0.1 in /usr/local/lib/python3.11/dist-packages (from GitPython->sacred>=0.8.4->imitation) (4.0.12)\nRequirement already satisfied: intel-openmp<2026,>=2024 in /usr/local/lib/python3.11/dist-packages (from mkl->numpy>=1.15->imitation) (2024.2.0)\nRequirement already satisfied: tbb==2022.* in /usr/local/lib/python3.11/dist-packages (from mkl->numpy>=1.15->imitation) (2022.2.0)\nRequirement already satisfied: tcmlib==1.* in /usr/local/lib/python3.11/dist-packages (from tbb==2022.*->mkl->numpy>=1.15->imitation) (1.4.0)\nRequirement already satisfied: intel-cmplr-lib-rt in /usr/local/lib/python3.11/dist-packages (from mkl_umath->numpy>=1.15->imitation) (2024.2.0)\nRequirement already satisfied: pytz>=2020.1 in /usr/local/lib/python3.11/dist-packages (from pandas->datasets>=2.8.0->imitation) (2025.2)\nRequirement already satisfied: tzdata>=2022.7 in /usr/local/lib/python3.11/dist-packages (from pandas->datasets>=2.8.0->imitation) (2025.2)\nRequirement already satisfied: aiohappyeyeballs>=2.5.0 in /usr/local/lib/python3.11/dist-packages (from aiohttp!=4.0.0a0,!=4.0.0a1->fsspec[http]<=2025.3.0,>=2023.1.0->datasets>=2.8.0->imitation) (2.6.1)\nRequirement already satisfied: aiosignal>=1.1.2 in /usr/local/lib/python3.11/dist-packages (from aiohttp!=4.0.0a0,!=4.0.0a1->fsspec[http]<=2025.3.0,>=2023.1.0->datasets>=2.8.0->imitation) (1.3.2)\nRequirement already satisfied: attrs>=17.3.0 in /usr/local/lib/python3.11/dist-packages (from aiohttp!=4.0.0a0,!=4.0.0a1->fsspec[http]<=2025.3.0,>=2023.1.0->datasets>=2.8.0->imitation) (25.3.0)\nRequirement already satisfied: frozenlist>=1.1.1 in /usr/local/lib/python3.11/dist-packages (from aiohttp!=4.0.0a0,!=4.0.0a1->fsspec[http]<=2025.3.0,>=2023.1.0->datasets>=2.8.0->imitation) (1.7.0)\nRequirement already satisfied: multidict<7.0,>=4.5 in /usr/local/lib/python3.11/dist-packages (from aiohttp!=4.0.0a0,!=4.0.0a1->fsspec[http]<=2025.3.0,>=2023.1.0->datasets>=2.8.0->imitation) (6.6.3)\nRequirement already satisfied: propcache>=0.2.0 in /usr/local/lib/python3.11/dist-packages (from aiohttp!=4.0.0a0,!=4.0.0a1->fsspec[http]<=2025.3.0,>=2023.1.0->datasets>=2.8.0->imitation) (0.3.2)\nRequirement already satisfied: yarl<2.0,>=1.17.0 in /usr/local/lib/python3.11/dist-packages (from aiohttp!=4.0.0a0,!=4.0.0a1->fsspec[http]<=2025.3.0,>=2023.1.0->datasets>=2.8.0->imitation) (1.20.1)\nRequirement already satisfied: smmap<6,>=3.0.1 in /usr/local/lib/python3.11/dist-packages (from gitdb<5,>=4.0.1->GitPython->sacred>=0.8.4->imitation) (5.0.2)\nRequirement already satisfied: intel-cmplr-lib-ur==2024.2.0 in /usr/local/lib/python3.11/dist-packages (from intel-openmp<2026,>=2024->mkl->numpy>=1.15->imitation) (2024.2.0)\nDownloading imitation-1.0.1-py3-none-any.whl (216 kB)\n\u001b[2K   \u001b[90m━━━━━━━━━━━━━━━━━━━━━━━━━━━━━━━━━━━━━━━━\u001b[0m \u001b[32m216.5/216.5 kB\u001b[0m \u001b[31m5.5 MB/s\u001b[0m eta \u001b[36m0:00:00\u001b[0m00:01\u001b[0m\n\u001b[?25hDownloading huggingface_sb3-3.0-py3-none-any.whl (9.7 kB)\nDownloading sacred-0.8.7-py2.py3-none-any.whl (108 kB)\n\u001b[2K   \u001b[90m━━━━━━━━━━━━━━━━━━━━━━━━━━━━━━━━━━━━━━━━\u001b[0m \u001b[32m108.2/108.2 kB\u001b[0m \u001b[31m9.2 MB/s\u001b[0m eta \u001b[36m0:00:00\u001b[0m\n\u001b[?25hDownloading seals-0.2.1-py3-none-any.whl (35 kB)\nDownloading stable_baselines3-2.2.1-py3-none-any.whl (181 kB)\n\u001b[2K   \u001b[90m━━━━━━━━━━━━━━━━━━━━━━━━━━━━━━━━━━━━━━━━\u001b[0m \u001b[32m181.7/181.7 kB\u001b[0m \u001b[31m15.5 MB/s\u001b[0m eta \u001b[36m0:00:00\u001b[0m\n\u001b[?25hDownloading docopt_ng-0.9.0-py3-none-any.whl (16 kB)\nDownloading fsspec-2025.3.0-py3-none-any.whl (193 kB)\n\u001b[2K   \u001b[90m━━━━━━━━━━━━━━━━━━━━━━━━━━━━━━━━━━━━━━━━\u001b[0m \u001b[32m193.6/193.6 kB\u001b[0m \u001b[31m14.7 MB/s\u001b[0m eta \u001b[36m0:00:00\u001b[0m\n\u001b[?25hDownloading munch-4.0.0-py2.py3-none-any.whl (9.9 kB)\nInstalling collected packages: munch, fsspec, docopt-ng, sacred, stable-baselines3, seals, huggingface-sb3, imitation\n  Attempting uninstall: fsspec\n    Found existing installation: fsspec 2025.5.1\n    Uninstalling fsspec-2025.5.1:\n      Successfully uninstalled fsspec-2025.5.1\n  Attempting uninstall: stable-baselines3\n    Found existing installation: stable-baselines3 2.1.0\n    Uninstalling stable-baselines3-2.1.0:\n      Successfully uninstalled stable-baselines3-2.1.0\n\u001b[31mERROR: pip's dependency resolver does not currently take into account all the packages that are installed. This behaviour is the source of the following dependency conflicts.\nbigframes 2.8.0 requires google-cloud-bigquery-storage<3.0.0,>=2.30.0, which is not installed.\nkaggle-environments 1.17.6 requires stable-baselines3==2.1.0, but you have stable-baselines3 2.2.1 which is incompatible.\ncesium 0.12.4 requires numpy<3.0,>=2.0, but you have numpy 1.26.4 which is incompatible.\ngcsfs 2025.3.2 requires fsspec==2025.3.2, but you have fsspec 2025.3.0 which is incompatible.\nbigframes 2.8.0 requires google-cloud-bigquery[bqstorage,pandas]>=3.31.0, but you have google-cloud-bigquery 3.25.0 which is incompatible.\nbigframes 2.8.0 requires rich<14,>=12.4.4, but you have rich 14.0.0 which is incompatible.\u001b[0m\u001b[31m\n\u001b[0mSuccessfully installed docopt-ng-0.9.0 fsspec-2025.3.0 huggingface-sb3-3.0 imitation-1.0.1 munch-4.0.0 sacred-0.8.7 seals-0.2.1 stable-baselines3-2.2.1\n",
          "output_type": "stream"
        }
      ],
      "execution_count": null
    },
    {
      "id": "1f404622",
      "cell_type": "code",
      "source": [
        "import gymnasium as gym\n",
        "from stable_baselines3 import PPO, DQN\n",
        "from imitation.util.util import make_vec_env\n",
        "from imitation.algorithms.dagger import SimpleDAggerTrainer\n",
        "from imitation.algorithms import bc\n",
        "from imitation.policies.serialize import load_policy\n",
        "import os\n",
        "import json\n",
        "import pickle\n",
        "import argparse\n",
        "import torch\n",
        "import tempfile\n",
        "import numpy as np\n",
        "from stable_baselines3 import PPO,DQN,A2C\n",
        "from stable_baselines3.common.evaluation import evaluate_policy\n",
        "import matplotlib.pyplot as plt"
      ],
      "metadata": {
        "trusted": true,
        "execution": {
          "iopub.status.busy": "2025-08-04T05:17:26.051928Z",
          "iopub.execute_input": "2025-08-04T05:17:26.052219Z",
          "iopub.status.idle": "2025-08-04T05:17:27.157199Z",
          "shell.execute_reply.started": "2025-08-04T05:17:26.052194Z",
          "shell.execute_reply": "2025-08-04T05:17:27.156669Z"
        },
        "id": "1f404622"
      },
      "outputs": [],
      "execution_count": null
    },
    {
      "id": "80429498",
      "cell_type": "markdown",
      "source": [
        "# Training PPO, A2C, and DAgger on the CartPole-v1 Environment\n",
        "\n",
        "In this section, we explore and compare multiple reinforcement learning and imitation learning approaches within the classic **CartPole-v1** environment. The algorithms used include:\n",
        "\n",
        "- **Proximal Policy Optimization (PPO)** – a stable, on-policy RL algorithm.\n",
        "- **Advantage Actor-Critic (A2C)** – another on-policy RL algorithm known for simplicity and efficiency.\n",
        "- **DAgger (Dataset Aggregation)** – an imitation learning algorithm that iteratively refines a policy using expert guidance.\n",
        "\n",
        "---\n",
        "\n",
        "## Main Objectives\n",
        "\n",
        "1. **Train an expert policy using PPO**.\n",
        "2. **Use the PPO expert to train a new agent via DAgger**.\n",
        "3. **Train a separate agent using A2C directly**.\n",
        "4. **Compare performance between PPO, DAgger, and A2C**.\n",
        "\n",
        "This setup allows us to analyze the strengths of:\n",
        "- **Reinforcement learning** (PPO and A2C) that learns from environment feedback.\n",
        "- **Imitation learning** (DAgger) that learns from an expert’s demonstrations and corrections.\n",
        "\n",
        "---"
      ],
      "metadata": {
        "id": "80429498"
      }
    },
    {
      "id": "e8482ab7",
      "cell_type": "markdown",
      "source": [
        "### 1. PPO Expert Training (15 Points)\n",
        "- A PPO agent is trained in the CartPole-v1 environment using `stable-baselines3`.\n",
        "- The model is saved and later reloaded as an expert policy for imitation learning.\n",
        "- Training is done in intervals and evaluated periodically to track average rewards."
      ],
      "metadata": {
        "id": "e8482ab7"
      }
    },
    {
      "id": "05fd824f",
      "cell_type": "code",
      "source": [
        "# Create the CartPole-v1 environment\n",
        "env = gym.make(\"CartPole-v1\")\n",
        "\n",
        "model = PPO(\"MlpPolicy\", env, verbose=1)\n",
        "regular_rewards = []\n",
        "\n",
        "# Training loop\n",
        "total_timesteps = 10000\n",
        "eval_freq = 1000\n",
        "\n",
        "for timestep in range(0, total_timesteps, eval_freq):\n",
        "    model.learn(total_timesteps=eval_freq)\n",
        "\n",
        "    # Evaluate the model and record the reward\n",
        "    reward, _ = evaluate_policy(model, env, n_eval_episodes=10)\n",
        "    regular_rewards.append(reward)\n",
        "\n",
        "    print(f\"Regular Training - Step {timestep + eval_freq}: Mean Reward = {reward}\")\n",
        "\n",
        "model.save(\"CartPole_v1_PPO_model.zip\")\n",
        "env.close()"
      ],
      "metadata": {
        "trusted": true,
        "execution": {
          "iopub.status.busy": "2025-08-04T05:17:35.004050Z",
          "iopub.execute_input": "2025-08-04T05:17:35.004620Z",
          "iopub.status.idle": "2025-08-04T05:18:44.588964Z",
          "shell.execute_reply.started": "2025-08-04T05:17:35.004593Z",
          "shell.execute_reply": "2025-08-04T05:18:44.588114Z"
        },
        "id": "05fd824f",
        "outputId": "e5b8b4a3-155a-436e-8dbf-dd0416825d8f"
      },
      "outputs": [
        {
          "name": "stdout",
          "text": "Using cuda device\nWrapping the env with a `Monitor` wrapper\nWrapping the env in a DummyVecEnv.\n---------------------------------\n| rollout/           |          |\n|    ep_len_mean     | 21.5     |\n|    ep_rew_mean     | 21.5     |\n| time/              |          |\n|    fps             | 646      |\n|    iterations      | 1        |\n|    time_elapsed    | 3        |\n|    total_timesteps | 2048     |\n---------------------------------\n",
          "output_type": "stream"
        },
        {
          "name": "stderr",
          "text": "/usr/local/lib/python3.11/dist-packages/stable_baselines3/common/evaluation.py:67: UserWarning: Evaluation environment is not wrapped with a ``Monitor`` wrapper. This may result in reporting modified episode lengths and rewards, if other wrappers happen to modify these. Consider wrapping environment first with ``Monitor`` wrapper.\n  warnings.warn(\n",
          "output_type": "stream"
        },
        {
          "name": "stdout",
          "text": "Regular Training - Step 1000: Mean Reward = 259.2\n---------------------------------\n| rollout/           |          |\n|    ep_len_mean     | 27.9     |\n|    ep_rew_mean     | 27.9     |\n| time/              |          |\n|    fps             | 779      |\n|    iterations      | 1        |\n|    time_elapsed    | 2        |\n|    total_timesteps | 2048     |\n---------------------------------\nRegular Training - Step 2000: Mean Reward = 170.6\n---------------------------------\n| rollout/           |          |\n|    ep_len_mean     | 37.3     |\n|    ep_rew_mean     | 37.3     |\n| time/              |          |\n|    fps             | 775      |\n|    iterations      | 1        |\n|    time_elapsed    | 2        |\n|    total_timesteps | 2048     |\n---------------------------------\nRegular Training - Step 3000: Mean Reward = 291.2\n---------------------------------\n| rollout/           |          |\n|    ep_len_mean     | 65.1     |\n|    ep_rew_mean     | 65.1     |\n| time/              |          |\n|    fps             | 764      |\n|    iterations      | 1        |\n|    time_elapsed    | 2        |\n|    total_timesteps | 2048     |\n---------------------------------\nRegular Training - Step 4000: Mean Reward = 279.9\n---------------------------------\n| rollout/           |          |\n|    ep_len_mean     | 101      |\n|    ep_rew_mean     | 101      |\n| time/              |          |\n|    fps             | 781      |\n|    iterations      | 1        |\n|    time_elapsed    | 2        |\n|    total_timesteps | 2048     |\n---------------------------------\nRegular Training - Step 5000: Mean Reward = 271.3\n---------------------------------\n| rollout/           |          |\n|    ep_len_mean     | 145      |\n|    ep_rew_mean     | 145      |\n| time/              |          |\n|    fps             | 781      |\n|    iterations      | 1        |\n|    time_elapsed    | 2        |\n|    total_timesteps | 2048     |\n---------------------------------\nRegular Training - Step 6000: Mean Reward = 371.2\n---------------------------------\n| rollout/           |          |\n|    ep_len_mean     | 156      |\n|    ep_rew_mean     | 156      |\n| time/              |          |\n|    fps             | 784      |\n|    iterations      | 1        |\n|    time_elapsed    | 2        |\n|    total_timesteps | 2048     |\n---------------------------------\nRegular Training - Step 7000: Mean Reward = 461.7\n---------------------------------\n| rollout/           |          |\n|    ep_len_mean     | 213      |\n|    ep_rew_mean     | 213      |\n| time/              |          |\n|    fps             | 793      |\n|    iterations      | 1        |\n|    time_elapsed    | 2        |\n|    total_timesteps | 2048     |\n---------------------------------\nRegular Training - Step 8000: Mean Reward = 475.2\n---------------------------------\n| rollout/           |          |\n|    ep_len_mean     | 364      |\n|    ep_rew_mean     | 364      |\n| time/              |          |\n|    fps             | 789      |\n|    iterations      | 1        |\n|    time_elapsed    | 2        |\n|    total_timesteps | 2048     |\n---------------------------------\nRegular Training - Step 9000: Mean Reward = 387.8\n---------------------------------\n| rollout/           |          |\n|    ep_len_mean     | 272      |\n|    ep_rew_mean     | 272      |\n| time/              |          |\n|    fps             | 780      |\n|    iterations      | 1        |\n|    time_elapsed    | 2        |\n|    total_timesteps | 2048     |\n---------------------------------\nRegular Training - Step 10000: Mean Reward = 476.8\n",
          "output_type": "stream"
        }
      ],
      "execution_count": null
    },
    {
      "id": "bb516c6b",
      "cell_type": "markdown",
      "source": [
        "### 2. DAgger Training with the PPO Expert (25 Points)\n",
        "- A `BehaviorCloning` trainer is used to initialize the DAgger process.\n",
        "- A `SimpleDAggerTrainer` collects data from both the expert and the learner during training.\n",
        "- The model is updated incrementally and evaluated periodically.\n",
        "- Performance rewards are stored to track learning progress."
      ],
      "metadata": {
        "id": "bb516c6b"
      }
    },
    {
      "id": "6815b147",
      "cell_type": "code",
      "source": [
        "# Load the PPO model manually using Stable-Baselines3's load method\n",
        "expert = PPO.load(\"CartPole_v1_PPO_model.zip\")\n",
        "\n",
        "# Create vectorized environment for imitation learning\n",
        "rng = np.random.default_rng(0)\n",
        "venv = make_vec_env(\"CartPole-v1\", n_envs=1, rng=rng)\n",
        "\n",
        "# Initialize the Behavior Cloning (BC) trainer\n",
        "bc_trainer = bc.BC(\n",
        "    observation_space=venv.observation_space,\n",
        "    action_space=venv.action_space,\n",
        "    rng=rng,\n",
        "    policy=expert.policy\n",
        ")\n",
        "\n",
        "# Record rewards during DAgger training\n",
        "dagger_rewards = []\n",
        "\n",
        "# Train using DAgger\n",
        "with tempfile.TemporaryDirectory(prefix=\"dagger_example_\") as tmpdir:\n",
        "    dagger_trainer = SimpleDAggerTrainer(\n",
        "        venv=venv,\n",
        "        scratch_dir=tmpdir,\n",
        "        expert_policy=expert,\n",
        "        bc_trainer=bc_trainer,\n",
        "        rng=rng\n",
        "    )\n",
        "\n",
        "    # Training loop for DAgger\n",
        "    total_dagger_timesteps = 8000\n",
        "    eval_freq = 1000\n",
        "    for timestep in range(0, total_dagger_timesteps, eval_freq):\n",
        "        dagger_trainer.train(eval_freq)\n",
        "\n",
        "        # Evaluate the model and record the reward\n",
        "        reward, _ = evaluate_policy(dagger_trainer.policy, venv, n_eval_episodes=10)\n",
        "        dagger_rewards.append(reward)\n",
        "        print(f\"DAgger Training - Step {timestep + eval_freq}: Mean Reward = {reward}\")\n",
        "\n",
        "# Save the DAgger policy\n",
        "dagger_trainer.policy.save(\"CartPole_v1_DAgger_model.zip\")\n",
        "venv.close()"
      ],
      "metadata": {
        "trusted": true,
        "execution": {
          "iopub.status.busy": "2025-08-04T05:25:22.709800Z",
          "iopub.execute_input": "2025-08-04T05:25:22.710298Z",
          "iopub.status.idle": "2025-08-04T05:27:16.082607Z",
          "shell.execute_reply.started": "2025-08-04T05:25:22.710264Z",
          "shell.execute_reply": "2025-08-04T05:27:16.081897Z"
        },
        "colab": {
          "referenced_widgets": [
            "5aec1c02be684909bb27dadcd9e12329",
            "64316ef59a6b4f70a420be6dc5451aea",
            "ddcb9c4b72ff4f08a24e439d0cbc0391",
            "c8257b04617b4676bd5d96dd31e5baf7",
            "51cb671fdc254275b40171bfe84b81b0",
            "9f94df419a75479cbb7850b5eb7454e9",
            "6ee82c4f2654483b8d312189ba0bf890",
            "626fe38885dc41c3b37efcc896f91ee6",
            "5987ca5b239f481abb52e7fdeae0195e",
            "cd1123936c7d4f9d9a69e4393fbbada0",
            "41066238e1f24930a0d4e981c45e9693",
            "db26df9ce97040e487dd61c6a1752952",
            "d7b5f200ede747feb5275c26dc3cb110",
            "f8c2297fb3084e578045b9d7b96a960b",
            "3e5ea4bd45eb42f4b141d2ffc0679975",
            "eb3f556527e84263a7f819293b8724d2",
            "41a4c1cf09084de4ad752ca3e99ffc00",
            "08573c12ba8d42d08d196dc2082d7e34",
            "ad5dbb18ca3b4010a83f07fa859cecdc",
            "fa1f4cd85e1d4e8783b1ea4bdf2e3b93",
            "a9965784606140deb1014605ab245954",
            "517de5d28dfe4e7fa309c8d30a82ca2e",
            "aeeb188d30c347948c7ffb4f495569db",
            "7079840e763041c7a6d7db38f087d02e"
          ]
        },
        "id": "6815b147",
        "outputId": "0d042936-d111-4243-ead5-704fa89205ef"
      },
      "outputs": [
        {
          "output_type": "display_data",
          "data": {
            "text/plain": "Saving the dataset (0/1 shards):   0%|          | 0/1 [00:00<?, ? examples/s]",
            "application/vnd.jupyter.widget-view+json": {
              "version_major": 2,
              "version_minor": 0,
              "model_id": "5aec1c02be684909bb27dadcd9e12329"
            }
          },
          "metadata": {}
        },
        {
          "output_type": "display_data",
          "data": {
            "text/plain": "Saving the dataset (0/1 shards):   0%|          | 0/1 [00:00<?, ? examples/s]",
            "application/vnd.jupyter.widget-view+json": {
              "version_major": 2,
              "version_minor": 0,
              "model_id": "64316ef59a6b4f70a420be6dc5451aea"
            }
          },
          "metadata": {}
        },
        {
          "output_type": "display_data",
          "data": {
            "text/plain": "Saving the dataset (0/1 shards):   0%|          | 0/1 [00:00<?, ? examples/s]",
            "application/vnd.jupyter.widget-view+json": {
              "version_major": 2,
              "version_minor": 0,
              "model_id": "ddcb9c4b72ff4f08a24e439d0cbc0391"
            }
          },
          "metadata": {}
        },
        {
          "name": "stderr",
          "text": "0batch [00:00, ?batch/s]",
          "output_type": "stream"
        },
        {
          "name": "stdout",
          "text": "---------------------------------\n| batch_size        | 32        |\n| bc/               |           |\n|    batch          | 0         |\n|    ent_loss       | -0.000606 |\n|    entropy        | 0.606     |\n|    epoch          | 0         |\n|    l2_loss        | 0         |\n|    l2_norm        | 377       |\n|    loss           | 0.457     |\n|    neglogp        | 0.457     |\n|    prob_true_act  | 0.648     |\n|    samples_so_far | 32        |\n| rollout/          |           |\n|    return_max     | 500       |\n|    return_mean    | 363       |\n|    return_min     | 305       |\n|    return_std     | 71.6      |\n---------------------------------\n",
          "output_type": "stream"
        },
        {
          "name": "stderr",
          "text": "23batch [00:01, 16.56batch/s]\n67batch [00:02, 57.55batch/s]\u001b[A\n112batch [00:02, 105.69batch/s]A\n155batch [00:02, 144.16batch/s]\u001b[A\n168batch [00:02, 64.87batch/s] \u001b[A\n",
          "output_type": "stream"
        },
        {
          "name": "stdout",
          "text": "DAgger Training - Step 1000: Mean Reward = 493.6\n",
          "output_type": "stream"
        },
        {
          "output_type": "display_data",
          "data": {
            "text/plain": "Saving the dataset (0/1 shards):   0%|          | 0/1 [00:00<?, ? examples/s]",
            "application/vnd.jupyter.widget-view+json": {
              "version_major": 2,
              "version_minor": 0,
              "model_id": "c8257b04617b4676bd5d96dd31e5baf7"
            }
          },
          "metadata": {}
        },
        {
          "output_type": "display_data",
          "data": {
            "text/plain": "Saving the dataset (0/1 shards):   0%|          | 0/1 [00:00<?, ? examples/s]",
            "application/vnd.jupyter.widget-view+json": {
              "version_major": 2,
              "version_minor": 0,
              "model_id": "51cb671fdc254275b40171bfe84b81b0"
            }
          },
          "metadata": {}
        },
        {
          "output_type": "display_data",
          "data": {
            "text/plain": "Saving the dataset (0/1 shards):   0%|          | 0/1 [00:00<?, ? examples/s]",
            "application/vnd.jupyter.widget-view+json": {
              "version_major": 2,
              "version_minor": 0,
              "model_id": "9f94df419a75479cbb7850b5eb7454e9"
            }
          },
          "metadata": {}
        },
        {
          "name": "stderr",
          "text": "0batch [00:00, ?batch/s]",
          "output_type": "stream"
        },
        {
          "name": "stdout",
          "text": "---------------------------------\n| batch_size        | 32        |\n| bc/               |           |\n|    batch          | 0         |\n|    ent_loss       | -0.000359 |\n|    entropy        | 0.359     |\n|    epoch          | 0         |\n|    l2_loss        | 0         |\n|    l2_norm        | 392       |\n|    loss           | 0.31      |\n|    neglogp        | 0.31      |\n|    prob_true_act  | 0.768     |\n|    samples_so_far | 32        |\n| rollout/          |           |\n|    return_max     | 500       |\n|    return_mean    | 351       |\n|    return_min     | 192       |\n|    return_std     | 101       |\n---------------------------------\n",
          "output_type": "stream"
        },
        {
          "name": "stderr",
          "text": "89batch [00:02, 84.49batch/s]\n156batch [00:02, 151.19batch/s]A\n267batch [00:02, 201.31batch/s]\u001b[A\n355batch [00:03, 211.74batch/s]\u001b[A\n356batch [00:03, 106.84batch/s]\u001b[A\n",
          "output_type": "stream"
        },
        {
          "name": "stdout",
          "text": "DAgger Training - Step 2000: Mean Reward = 500.0\n",
          "output_type": "stream"
        },
        {
          "output_type": "display_data",
          "data": {
            "text/plain": "Saving the dataset (0/1 shards):   0%|          | 0/1 [00:00<?, ? examples/s]",
            "application/vnd.jupyter.widget-view+json": {
              "version_major": 2,
              "version_minor": 0,
              "model_id": "6ee82c4f2654483b8d312189ba0bf890"
            }
          },
          "metadata": {}
        },
        {
          "output_type": "display_data",
          "data": {
            "text/plain": "Saving the dataset (0/1 shards):   0%|          | 0/1 [00:00<?, ? examples/s]",
            "application/vnd.jupyter.widget-view+json": {
              "version_major": 2,
              "version_minor": 0,
              "model_id": "626fe38885dc41c3b37efcc896f91ee6"
            }
          },
          "metadata": {}
        },
        {
          "output_type": "display_data",
          "data": {
            "text/plain": "Saving the dataset (0/1 shards):   0%|          | 0/1 [00:00<?, ? examples/s]",
            "application/vnd.jupyter.widget-view+json": {
              "version_major": 2,
              "version_minor": 0,
              "model_id": "5987ca5b239f481abb52e7fdeae0195e"
            }
          },
          "metadata": {}
        },
        {
          "name": "stderr",
          "text": "0batch [00:00, ?batch/s]",
          "output_type": "stream"
        },
        {
          "name": "stdout",
          "text": "--------------------------------\n| batch_size        | 32       |\n| bc/               |          |\n|    batch          | 0        |\n|    ent_loss       | -0.00036 |\n|    entropy        | 0.36     |\n|    epoch          | 0        |\n|    l2_loss        | 0        |\n|    l2_norm        | 418      |\n|    loss           | 0.363    |\n|    neglogp        | 0.363    |\n|    prob_true_act  | 0.752    |\n|    samples_so_far | 32       |\n| rollout/          |          |\n|    return_max     | 500      |\n|    return_mean    | 489      |\n|    return_min     | 447      |\n|    return_std     | 20.9     |\n--------------------------------\n",
          "output_type": "stream"
        },
        {
          "name": "stderr",
          "text": "133batch [00:02, 113.36batch/s]\n267batch [00:03, 199.53batch/s]\u001b[A\n399batch [00:04, 211.91batch/s]\u001b[A\n487batch [00:04, 212.70batch/s]\u001b[A",
          "output_type": "stream"
        },
        {
          "name": "stdout",
          "text": "---------------------------------\n| batch_size        | 32        |\n| bc/               |           |\n|    batch          | 500       |\n|    ent_loss       | -0.000297 |\n|    entropy        | 0.297     |\n|    epoch          | 3         |\n|    l2_loss        | 0         |\n|    l2_norm        | 447       |\n|    loss           | 0.217     |\n|    neglogp        | 0.218     |\n|    prob_true_act  | 0.832     |\n|    samples_so_far | 16032     |\n| rollout/          |           |\n|    return_max     | 500       |\n|    return_mean    | 500       |\n|    return_min     | 500       |\n|    return_std     | 0         |\n---------------------------------\n",
          "output_type": "stream"
        },
        {
          "name": "stderr",
          "text": "532batch [00:07, 37.52batch/s] \n540batch [00:07, 75.33batch/s]\u001b[A\n",
          "output_type": "stream"
        },
        {
          "name": "stdout",
          "text": "DAgger Training - Step 3000: Mean Reward = 495.3\n",
          "output_type": "stream"
        },
        {
          "output_type": "display_data",
          "data": {
            "text/plain": "Saving the dataset (0/1 shards):   0%|          | 0/1 [00:00<?, ? examples/s]",
            "application/vnd.jupyter.widget-view+json": {
              "version_major": 2,
              "version_minor": 0,
              "model_id": "cd1123936c7d4f9d9a69e4393fbbada0"
            }
          },
          "metadata": {}
        },
        {
          "output_type": "display_data",
          "data": {
            "text/plain": "Saving the dataset (0/1 shards):   0%|          | 0/1 [00:00<?, ? examples/s]",
            "application/vnd.jupyter.widget-view+json": {
              "version_major": 2,
              "version_minor": 0,
              "model_id": "41066238e1f24930a0d4e981c45e9693"
            }
          },
          "metadata": {}
        },
        {
          "output_type": "display_data",
          "data": {
            "text/plain": "Saving the dataset (0/1 shards):   0%|          | 0/1 [00:00<?, ? examples/s]",
            "application/vnd.jupyter.widget-view+json": {
              "version_major": 2,
              "version_minor": 0,
              "model_id": "db26df9ce97040e487dd61c6a1752952"
            }
          },
          "metadata": {}
        },
        {
          "name": "stderr",
          "text": "0batch [00:00, ?batch/s]",
          "output_type": "stream"
        },
        {
          "name": "stdout",
          "text": "---------------------------------\n| batch_size        | 32        |\n| bc/               |           |\n|    batch          | 0         |\n|    ent_loss       | -0.000142 |\n|    entropy        | 0.142     |\n|    epoch          | 0         |\n|    l2_loss        | 0         |\n|    l2_norm        | 449       |\n|    loss           | 0.0783    |\n|    neglogp        | 0.0785    |\n|    prob_true_act  | 0.934     |\n|    samples_so_far | 32        |\n| rollout/          |           |\n|    return_max     | 500       |\n|    return_mean    | 481       |\n|    return_min     | 423       |\n|    return_std     | 29.8      |\n---------------------------------\n",
          "output_type": "stream"
        },
        {
          "name": "stderr",
          "text": "178batch [00:03, 152.42batch/s]\n353batch [00:03, 208.29batch/s]\u001b[A\n489batch [00:04, 218.50batch/s]\u001b[A",
          "output_type": "stream"
        },
        {
          "name": "stdout",
          "text": "--------------------------------\n| batch_size        | 32       |\n| bc/               |          |\n|    batch          | 500      |\n|    ent_loss       | -0.00017 |\n|    entropy        | 0.17     |\n|    epoch          | 2        |\n|    l2_loss        | 0        |\n|    l2_norm        | 482      |\n|    loss           | 0.181    |\n|    neglogp        | 0.181    |\n|    prob_true_act  | 0.894    |\n|    samples_so_far | 16032    |\n| rollout/          |          |\n|    return_max     | 500      |\n|    return_mean    | 500      |\n|    return_min     | 500      |\n|    return_std     | 0        |\n--------------------------------\n",
          "output_type": "stream"
        },
        {
          "name": "stderr",
          "text": "532batch [00:07, 36.29batch/s] \n718batch [00:08, 169.74batch/s][A\n728batch [00:08, 88.71batch/s] \u001b[A\n",
          "output_type": "stream"
        },
        {
          "name": "stdout",
          "text": "DAgger Training - Step 4000: Mean Reward = 500.0\n",
          "output_type": "stream"
        },
        {
          "output_type": "display_data",
          "data": {
            "text/plain": "Saving the dataset (0/1 shards):   0%|          | 0/1 [00:00<?, ? examples/s]",
            "application/vnd.jupyter.widget-view+json": {
              "version_major": 2,
              "version_minor": 0,
              "model_id": "d7b5f200ede747feb5275c26dc3cb110"
            }
          },
          "metadata": {}
        },
        {
          "output_type": "display_data",
          "data": {
            "text/plain": "Saving the dataset (0/1 shards):   0%|          | 0/1 [00:00<?, ? examples/s]",
            "application/vnd.jupyter.widget-view+json": {
              "version_major": 2,
              "version_minor": 0,
              "model_id": "f8c2297fb3084e578045b9d7b96a960b"
            }
          },
          "metadata": {}
        },
        {
          "output_type": "display_data",
          "data": {
            "text/plain": "Saving the dataset (0/1 shards):   0%|          | 0/1 [00:00<?, ? examples/s]",
            "application/vnd.jupyter.widget-view+json": {
              "version_major": 2,
              "version_minor": 0,
              "model_id": "3e5ea4bd45eb42f4b141d2ffc0679975"
            }
          },
          "metadata": {}
        },
        {
          "name": "stderr",
          "text": "0batch [00:00, ?batch/s]",
          "output_type": "stream"
        },
        {
          "name": "stdout",
          "text": "---------------------------------\n| batch_size        | 32        |\n| bc/               |           |\n|    batch          | 0         |\n|    ent_loss       | -0.000168 |\n|    entropy        | 0.168     |\n|    epoch          | 0         |\n|    l2_loss        | 0         |\n|    l2_norm        | 493       |\n|    loss           | 0.112     |\n|    neglogp        | 0.112     |\n|    prob_true_act  | 0.916     |\n|    samples_so_far | 32        |\n| rollout/          |           |\n|    return_max     | 500       |\n|    return_mean    | 500       |\n|    return_min     | 500       |\n|    return_std     | 0         |\n---------------------------------\n",
          "output_type": "stream"
        },
        {
          "name": "stderr",
          "text": "218batch [00:03, 179.45batch/s]\n444batch [00:04, 221.72batch/s]\u001b[A\n490batch [00:04, 220.16batch/s]\u001b[A",
          "output_type": "stream"
        },
        {
          "name": "stdout",
          "text": "---------------------------------\n| batch_size        | 32        |\n| bc/               |           |\n|    batch          | 500       |\n|    ent_loss       | -0.000245 |\n|    entropy        | 0.245     |\n|    epoch          | 2         |\n|    l2_loss        | 0         |\n|    l2_norm        | 516       |\n|    loss           | 0.217     |\n|    neglogp        | 0.217     |\n|    prob_true_act  | 0.848     |\n|    samples_so_far | 16032     |\n| rollout/          |           |\n|    return_max     | 500       |\n|    return_mean    | 490       |\n|    return_min     | 450       |\n|    return_std     | 20        |\n---------------------------------\n",
          "output_type": "stream"
        },
        {
          "name": "stderr",
          "text": "669batch [00:07, 138.53batch/s]\n894batch [00:08, 217.75batch/s]\u001b[A\n916batch [00:09, 101.77batch/s]\u001b[A\n",
          "output_type": "stream"
        },
        {
          "name": "stdout",
          "text": "DAgger Training - Step 5000: Mean Reward = 500.0\n",
          "output_type": "stream"
        },
        {
          "output_type": "display_data",
          "data": {
            "text/plain": "Saving the dataset (0/1 shards):   0%|          | 0/1 [00:00<?, ? examples/s]",
            "application/vnd.jupyter.widget-view+json": {
              "version_major": 2,
              "version_minor": 0,
              "model_id": "eb3f556527e84263a7f819293b8724d2"
            }
          },
          "metadata": {}
        },
        {
          "output_type": "display_data",
          "data": {
            "text/plain": "Saving the dataset (0/1 shards):   0%|          | 0/1 [00:00<?, ? examples/s]",
            "application/vnd.jupyter.widget-view+json": {
              "version_major": 2,
              "version_minor": 0,
              "model_id": "41a4c1cf09084de4ad752ca3e99ffc00"
            }
          },
          "metadata": {}
        },
        {
          "output_type": "display_data",
          "data": {
            "text/plain": "Saving the dataset (0/1 shards):   0%|          | 0/1 [00:00<?, ? examples/s]",
            "application/vnd.jupyter.widget-view+json": {
              "version_major": 2,
              "version_minor": 0,
              "model_id": "08573c12ba8d42d08d196dc2082d7e34"
            }
          },
          "metadata": {}
        },
        {
          "name": "stderr",
          "text": "0batch [00:00, ?batch/s]",
          "output_type": "stream"
        },
        {
          "name": "stdout",
          "text": "---------------------------------\n| batch_size        | 32        |\n| bc/               |           |\n|    batch          | 0         |\n|    ent_loss       | -0.000208 |\n|    entropy        | 0.208     |\n|    epoch          | 0         |\n|    l2_loss        | 0         |\n|    l2_norm        | 530       |\n|    loss           | 0.278     |\n|    neglogp        | 0.279     |\n|    prob_true_act  | 0.872     |\n|    samples_so_far | 32        |\n| rollout/          |           |\n|    return_max     | 500       |\n|    return_mean    | 500       |\n|    return_min     | 500       |\n|    return_std     | 0         |\n---------------------------------\n",
          "output_type": "stream"
        },
        {
          "name": "stderr",
          "text": "271batch [00:03, 200.25batch/s]\n494batch [00:04, 217.28batch/s]\u001b[A",
          "output_type": "stream"
        },
        {
          "name": "stdout",
          "text": "---------------------------------\n| batch_size        | 32        |\n| bc/               |           |\n|    batch          | 500       |\n|    ent_loss       | -0.000172 |\n|    entropy        | 0.172     |\n|    epoch          | 1         |\n|    l2_loss        | 0         |\n|    l2_norm        | 549       |\n|    loss           | 0.116     |\n|    neglogp        | 0.116     |\n|    prob_true_act  | 0.911     |\n|    samples_so_far | 16032     |\n| rollout/          |           |\n|    return_max     | 500       |\n|    return_mean    | 500       |\n|    return_min     | 500       |\n|    return_std     | 0         |\n---------------------------------\n",
          "output_type": "stream"
        },
        {
          "name": "stderr",
          "text": "539batch [00:07, 38.02batch/s] \n807batch [00:08, 202.41batch/s][A\n987batch [00:09, 218.78batch/s]\u001b[A",
          "output_type": "stream"
        },
        {
          "name": "stdout",
          "text": "---------------------------------\n| batch_size        | 32        |\n| bc/               |           |\n|    batch          | 1000      |\n|    ent_loss       | -0.000201 |\n|    entropy        | 0.201     |\n|    epoch          | 3         |\n|    l2_loss        | 0         |\n|    l2_norm        | 565       |\n|    loss           | 0.234     |\n|    neglogp        | 0.234     |\n|    prob_true_act  | 0.861     |\n|    samples_so_far | 32032     |\n| rollout/          |           |\n|    return_max     | 500       |\n|    return_mean    | 500       |\n|    return_min     | 500       |\n|    return_std     | 0         |\n---------------------------------\n",
          "output_type": "stream"
        },
        {
          "name": "stderr",
          "text": "1099batch [00:12, 83.32batch/s]\n1100batch [00:12, 90.89batch/s]\u001b[A\n",
          "output_type": "stream"
        },
        {
          "name": "stdout",
          "text": "DAgger Training - Step 6000: Mean Reward = 500.0\n",
          "output_type": "stream"
        },
        {
          "output_type": "display_data",
          "data": {
            "text/plain": "Saving the dataset (0/1 shards):   0%|          | 0/1 [00:00<?, ? examples/s]",
            "application/vnd.jupyter.widget-view+json": {
              "version_major": 2,
              "version_minor": 0,
              "model_id": "ad5dbb18ca3b4010a83f07fa859cecdc"
            }
          },
          "metadata": {}
        },
        {
          "output_type": "display_data",
          "data": {
            "text/plain": "Saving the dataset (0/1 shards):   0%|          | 0/1 [00:00<?, ? examples/s]",
            "application/vnd.jupyter.widget-view+json": {
              "version_major": 2,
              "version_minor": 0,
              "model_id": "fa1f4cd85e1d4e8783b1ea4bdf2e3b93"
            }
          },
          "metadata": {}
        },
        {
          "output_type": "display_data",
          "data": {
            "text/plain": "Saving the dataset (0/1 shards):   0%|          | 0/1 [00:00<?, ? examples/s]",
            "application/vnd.jupyter.widget-view+json": {
              "version_major": 2,
              "version_minor": 0,
              "model_id": "a9965784606140deb1014605ab245954"
            }
          },
          "metadata": {}
        },
        {
          "name": "stderr",
          "text": "0batch [00:00, ?batch/s]",
          "output_type": "stream"
        },
        {
          "name": "stdout",
          "text": "---------------------------------\n| batch_size        | 32        |\n| bc/               |           |\n|    batch          | 0         |\n|    ent_loss       | -0.000143 |\n|    entropy        | 0.143     |\n|    epoch          | 0         |\n|    l2_loss        | 0         |\n|    l2_norm        | 568       |\n|    loss           | 0.077     |\n|    neglogp        | 0.0771    |\n|    prob_true_act  | 0.935     |\n|    samples_so_far | 32        |\n| rollout/          |           |\n|    return_max     | 500       |\n|    return_mean    | 500       |\n|    return_min     | 500       |\n|    return_std     | 0         |\n---------------------------------\n",
          "output_type": "stream"
        },
        {
          "name": "stderr",
          "text": "305batch [00:03, 203.57batch/s]\n481batch [00:04, 212.56batch/s]\u001b[A",
          "output_type": "stream"
        },
        {
          "name": "stdout",
          "text": "---------------------------------\n| batch_size        | 32        |\n| bc/               |           |\n|    batch          | 500       |\n|    ent_loss       | -0.000223 |\n|    entropy        | 0.223     |\n|    epoch          | 1         |\n|    l2_loss        | 0         |\n|    l2_norm        | 588       |\n|    loss           | 0.255     |\n|    neglogp        | 0.256     |\n|    prob_true_act  | 0.844     |\n|    samples_so_far | 16032     |\n| rollout/          |           |\n|    return_max     | 500       |\n|    return_mean    | 500       |\n|    return_min     | 500       |\n|    return_std     | 0         |\n---------------------------------\n",
          "output_type": "stream"
        },
        {
          "name": "stderr",
          "text": "635batch [00:07, 118.32batch/s]\n964batch [00:09, 215.93batch/s]\u001b[A\n986batch [00:09, 214.45batch/s]\u001b[A",
          "output_type": "stream"
        },
        {
          "name": "stdout",
          "text": "---------------------------------\n| batch_size        | 32        |\n| bc/               |           |\n|    batch          | 1000      |\n|    ent_loss       | -0.000142 |\n|    entropy        | 0.142     |\n|    epoch          | 3         |\n|    l2_loss        | 0         |\n|    l2_norm        | 607       |\n|    loss           | 0.0839    |\n|    neglogp        | 0.084     |\n|    prob_true_act  | 0.932     |\n|    samples_so_far | 32032     |\n| rollout/          |           |\n|    return_max     | 500       |\n|    return_mean    | 500       |\n|    return_min     | 500       |\n|    return_std     | 0         |\n---------------------------------\n",
          "output_type": "stream"
        },
        {
          "name": "stderr",
          "text": "1276batch [00:13, 197.61batch/s]\n1288batch [00:13, 97.34batch/s] \u001b[A\n",
          "output_type": "stream"
        },
        {
          "name": "stdout",
          "text": "DAgger Training - Step 7000: Mean Reward = 500.0\n",
          "output_type": "stream"
        },
        {
          "output_type": "display_data",
          "data": {
            "text/plain": "Saving the dataset (0/1 shards):   0%|          | 0/1 [00:00<?, ? examples/s]",
            "application/vnd.jupyter.widget-view+json": {
              "version_major": 2,
              "version_minor": 0,
              "model_id": "517de5d28dfe4e7fa309c8d30a82ca2e"
            }
          },
          "metadata": {}
        },
        {
          "output_type": "display_data",
          "data": {
            "text/plain": "Saving the dataset (0/1 shards):   0%|          | 0/1 [00:00<?, ? examples/s]",
            "application/vnd.jupyter.widget-view+json": {
              "version_major": 2,
              "version_minor": 0,
              "model_id": "aeeb188d30c347948c7ffb4f495569db"
            }
          },
          "metadata": {}
        },
        {
          "output_type": "display_data",
          "data": {
            "text/plain": "Saving the dataset (0/1 shards):   0%|          | 0/1 [00:00<?, ? examples/s]",
            "application/vnd.jupyter.widget-view+json": {
              "version_major": 2,
              "version_minor": 0,
              "model_id": "7079840e763041c7a6d7db38f087d02e"
            }
          },
          "metadata": {}
        },
        {
          "name": "stderr",
          "text": "0batch [00:00, ?batch/s]",
          "output_type": "stream"
        },
        {
          "name": "stdout",
          "text": "---------------------------------\n| batch_size        | 32        |\n| bc/               |           |\n|    batch          | 0         |\n|    ent_loss       | -0.000218 |\n|    entropy        | 0.218     |\n|    epoch          | 0         |\n|    l2_loss        | 0         |\n|    l2_norm        | 617       |\n|    loss           | 0.159     |\n|    neglogp        | 0.16      |\n|    prob_true_act  | 0.879     |\n|    samples_so_far | 32        |\n| rollout/          |           |\n|    return_max     | 500       |\n|    return_mean    | 500       |\n|    return_min     | 500       |\n|    return_std     | 0         |\n---------------------------------\n",
          "output_type": "stream"
        },
        {
          "name": "stderr",
          "text": "354batch [00:03, 212.62batch/s]\n486batch [00:04, 208.34batch/s]\u001b[A",
          "output_type": "stream"
        },
        {
          "name": "stdout",
          "text": "--------------------------------\n| batch_size        | 32       |\n| bc/               |          |\n|    batch          | 500      |\n|    ent_loss       | -0.00016 |\n|    entropy        | 0.16     |\n|    epoch          | 1        |\n|    l2_loss        | 0        |\n|    l2_norm        | 638      |\n|    loss           | 0.159    |\n|    neglogp        | 0.16     |\n|    prob_true_act  | 0.903    |\n|    samples_so_far | 16032    |\n| rollout/          |          |\n|    return_max     | 500      |\n|    return_mean    | 500      |\n|    return_min     | 500      |\n|    return_std     | 0        |\n--------------------------------\n",
          "output_type": "stream"
        },
        {
          "name": "stderr",
          "text": "727batch [00:08, 180.49batch/s]\n992batch [00:09, 216.83batch/s]\u001b[A",
          "output_type": "stream"
        },
        {
          "name": "stdout",
          "text": "---------------------------------\n| batch_size        | 32        |\n| bc/               |           |\n|    batch          | 1000      |\n|    ent_loss       | -0.000151 |\n|    entropy        | 0.151     |\n|    epoch          | 2         |\n|    l2_loss        | 0         |\n|    l2_norm        | 657       |\n|    loss           | 0.245     |\n|    neglogp        | 0.245     |\n|    prob_true_act  | 0.869     |\n|    samples_so_far | 32032     |\n| rollout/          |           |\n|    return_max     | 500       |\n|    return_mean    | 496       |\n|    return_min     | 482       |\n|    return_std     | 7.2       |\n---------------------------------\n",
          "output_type": "stream"
        },
        {
          "name": "stderr",
          "text": "1103batch [00:12, 82.73batch/s]\n1457batch [00:13, 215.90batch/s][A\n1476batch [00:13, 106.33batch/s]\u001b[A\n",
          "output_type": "stream"
        },
        {
          "name": "stdout",
          "text": "DAgger Training - Step 8000: Mean Reward = 500.0\n",
          "output_type": "stream"
        }
      ],
      "execution_count": null
    },
    {
      "id": "ca8db856",
      "cell_type": "code",
      "source": [
        "# Plot the rewards for Regular PPO Training and DAgger Training\n",
        "plt.figure(figsize=(10, 6))\n",
        "plt.plot(range(0, 10000, 1000), regular_rewards, label=\"PPO Regular Training\", marker=\"o\")\n",
        "plt.plot(range(0, 8000, 1000), dagger_rewards, label=\"DAgger Training\", marker=\"o\")\n",
        "plt.xlabel(\"Timesteps\")\n",
        "plt.ylabel(\"Mean Reward\")\n",
        "plt.title(\"Comparison of PPO and DAgger Training Rewards\")\n",
        "plt.legend()\n",
        "plt.grid(True)\n",
        "plt.show()"
      ],
      "metadata": {
        "trusted": true,
        "execution": {
          "iopub.status.busy": "2025-08-04T05:28:08.366762Z",
          "iopub.execute_input": "2025-08-04T05:28:08.367550Z",
          "iopub.status.idle": "2025-08-04T05:28:08.712088Z",
          "shell.execute_reply.started": "2025-08-04T05:28:08.367523Z",
          "shell.execute_reply": "2025-08-04T05:28:08.711059Z"
        },
        "id": "ca8db856",
        "outputId": "853f5cc8-196d-48a2-e989-005d275a55a3"
      },
      "outputs": [
        {
          "output_type": "display_data",
          "data": {
            "text/plain": "<Figure size 1000x600 with 1 Axes>",
            "image/png": "[encoded data removed]"
          },
          "metadata": {}
        }
      ],
      "execution_count": null
    },
    {
      "id": "46f18622",
      "cell_type": "markdown",
      "source": [
        "\n",
        "### 3. A2C Agent Training (20 Points)\n",
        "After DAgger training, a third agent is trained using the **Advantage Actor-Critic (A2C)** algorithm."
      ],
      "metadata": {
        "id": "46f18622"
      }
    },
    {
      "id": "c822cdb9",
      "cell_type": "code",
      "source": [
        "# Create the CartPole-v1 environment\n",
        "env = gym.make(\"CartPole-v1\")\n",
        "\n",
        "# Initialize the A2C model\n",
        "model = A2C(\"MlpPolicy\", env, verbose=1)\n",
        "\n",
        "# Record rewards during training\n",
        "regular_rewards = []\n",
        "\n",
        "# Training loop\n",
        "total_timesteps = 10000\n",
        "eval_freq = 1000\n",
        "for timestep in range(0, total_timesteps, eval_freq):\n",
        "    model.learn(total_timesteps=eval_freq)\n",
        "\n",
        "    # Evaluate the model and record the reward\n",
        "    reward, _ = evaluate_policy(model, env, n_eval_episodes=10)\n",
        "    regular_rewards.append(reward)\n",
        "    print(f\"Regular Training - Step {timestep + eval_freq}: Mean Reward = {reward}\")\n",
        "\n",
        "# Save the model after training\n",
        "model.save(\"CartPole_v1_A2C_model.zip\")\n",
        "env.close()"
      ],
      "metadata": {
        "trusted": true,
        "execution": {
          "iopub.status.busy": "2025-08-04T05:31:15.004110Z",
          "iopub.execute_input": "2025-08-04T05:31:15.004419Z",
          "iopub.status.idle": "2025-08-04T05:31:50.799253Z",
          "shell.execute_reply.started": "2025-08-04T05:31:15.004391Z",
          "shell.execute_reply": "2025-08-04T05:31:50.798519Z"
        },
        "id": "c822cdb9",
        "outputId": "d9c6cfac-d199-466f-c97e-b8ab83a800df"
      },
      "outputs": [
        {
          "name": "stdout",
          "text": "Using cuda device\nWrapping the env with a `Monitor` wrapper\nWrapping the env in a DummyVecEnv.\n------------------------------------\n| rollout/              |          |\n|    ep_len_mean        | 13.2     |\n|    ep_rew_mean        | 13.2     |\n| time/                 |          |\n|    fps                | 460      |\n|    iterations         | 100      |\n|    time_elapsed       | 1        |\n|    total_timesteps    | 500      |\n| train/                |          |\n|    entropy_loss       | -0.624   |\n|    explained_variance | -0.215   |\n|    learning_rate      | 0.0007   |\n|    n_updates          | 99       |\n|    policy_loss        | 2.07     |\n|    value_loss         | 10.3     |\n------------------------------------\n------------------------------------\n| rollout/              |          |\n|    ep_len_mean        | 14.2     |\n|    ep_rew_mean        | 14.2     |\n| time/                 |          |\n|    fps                | 460      |\n|    iterations         | 200      |\n|    time_elapsed       | 2        |\n|    total_timesteps    | 1000     |\n| train/                |          |\n|    entropy_loss       | -0.668   |\n|    explained_variance | 0.511    |\n|    learning_rate      | 0.0007   |\n|    n_updates          | 199      |\n|    policy_loss        | 1.05     |\n|    value_loss         | 3.95     |\n------------------------------------\nRegular Training - Step 1000: Mean Reward = 9.3\n------------------------------------\n| rollout/              |          |\n|    ep_len_mean        | 19.8     |\n|    ep_rew_mean        | 19.8     |\n| time/                 |          |\n|    fps                | 470      |\n|    iterations         | 100      |\n|    time_elapsed       | 1        |\n|    total_timesteps    | 500      |\n| train/                |          |\n|    entropy_loss       | -0.669   |\n|    explained_variance | 0.219    |\n|    learning_rate      | 0.0007   |\n|    n_updates          | 299      |\n|    policy_loss        | -8.55    |\n|    value_loss         | 149      |\n------------------------------------\n------------------------------------\n| rollout/              |          |\n|    ep_len_mean        | 23.8     |\n|    ep_rew_mean        | 23.8     |\n| time/                 |          |\n|    fps                | 470      |\n|    iterations         | 200      |\n|    time_elapsed       | 2        |\n|    total_timesteps    | 1000     |\n| train/                |          |\n|    entropy_loss       | -0.684   |\n|    explained_variance | -0.0564  |\n|    learning_rate      | 0.0007   |\n|    n_updates          | 399      |\n|    policy_loss        | 1.47     |\n|    value_loss         | 6.49     |\n------------------------------------\nRegular Training - Step 2000: Mean Reward = 48.3\n------------------------------------\n| rollout/              |          |\n|    ep_len_mean        | 41       |\n|    ep_rew_mean        | 41       |\n| time/                 |          |\n|    fps                | 473      |\n|    iterations         | 100      |\n|    time_elapsed       | 1        |\n|    total_timesteps    | 500      |\n| train/                |          |\n|    entropy_loss       | -0.596   |\n|    explained_variance | 0.0259   |\n|    learning_rate      | 0.0007   |\n|    n_updates          | 499      |\n|    policy_loss        | -8.05    |\n|    value_loss         | 244      |\n------------------------------------\n------------------------------------\n| rollout/              |          |\n|    ep_len_mean        | 51.1     |\n|    ep_rew_mean        | 51.1     |\n| time/                 |          |\n|    fps                | 475      |\n|    iterations         | 200      |\n|    time_elapsed       | 2        |\n|    total_timesteps    | 1000     |\n| train/                |          |\n|    entropy_loss       | -0.461   |\n|    explained_variance | -0.0141  |\n|    learning_rate      | 0.0007   |\n|    n_updates          | 599      |\n|    policy_loss        | 1.59     |\n|    value_loss         | 5.15     |\n------------------------------------\nRegular Training - Step 3000: Mean Reward = 287.0\n------------------------------------\n| rollout/              |          |\n|    ep_len_mean        | 94.4     |\n|    ep_rew_mean        | 94.4     |\n| time/                 |          |\n|    fps                | 464      |\n|    iterations         | 100      |\n|    time_elapsed       | 1        |\n|    total_timesteps    | 500      |\n| train/                |          |\n|    entropy_loss       | -0.634   |\n|    explained_variance | -0.00205 |\n|    learning_rate      | 0.0007   |\n|    n_updates          | 699      |\n|    policy_loss        | 1.02     |\n|    value_loss         | 4.52     |\n------------------------------------\n------------------------------------\n| rollout/              |          |\n|    ep_len_mean        | 65.1     |\n|    ep_rew_mean        | 65.1     |\n| time/                 |          |\n|    fps                | 464      |\n|    iterations         | 200      |\n|    time_elapsed       | 2        |\n|    total_timesteps    | 1000     |\n| train/                |          |\n|    entropy_loss       | -0.535   |\n|    explained_variance | 0.0114   |\n|    learning_rate      | 0.0007   |\n|    n_updates          | 799      |\n|    policy_loss        | 1.67     |\n|    value_loss         | 4        |\n------------------------------------\nRegular Training - Step 4000: Mean Reward = 69.6\n------------------------------------\n| rollout/              |          |\n|    ep_len_mean        | 49.5     |\n|    ep_rew_mean        | 49.5     |\n| time/                 |          |\n|    fps                | 465      |\n|    iterations         | 100      |\n|    time_elapsed       | 1        |\n|    total_timesteps    | 500      |\n| train/                |          |\n|    entropy_loss       | -0.613   |\n|    explained_variance | -0.00204 |\n|    learning_rate      | 0.0007   |\n|    n_updates          | 899      |\n|    policy_loss        | 1.14     |\n|    value_loss         | 3.53     |\n------------------------------------\n------------------------------------\n| rollout/              |          |\n|    ep_len_mean        | 77.2     |\n|    ep_rew_mean        | 77.2     |\n| time/                 |          |\n|    fps                | 467      |\n|    iterations         | 200      |\n|    time_elapsed       | 2        |\n|    total_timesteps    | 1000     |\n| train/                |          |\n|    entropy_loss       | -0.501   |\n|    explained_variance | -0.00194 |\n|    learning_rate      | 0.0007   |\n|    n_updates          | 999      |\n|    policy_loss        | 0.789    |\n|    value_loss         | 3.04     |\n------------------------------------\nRegular Training - Step 5000: Mean Reward = 122.6\n------------------------------------\n| rollout/              |          |\n|    ep_len_mean        | 122      |\n|    ep_rew_mean        | 122      |\n| time/                 |          |\n|    fps                | 468      |\n|    iterations         | 100      |\n|    time_elapsed       | 1        |\n|    total_timesteps    | 500      |\n| train/                |          |\n|    entropy_loss       | -0.557   |\n|    explained_variance | 0.000374 |\n|    learning_rate      | 0.0007   |\n|    n_updates          | 1099     |\n|    policy_loss        | 0.871    |\n|    value_loss         | 2.57     |\n------------------------------------\n------------------------------------\n| rollout/              |          |\n|    ep_len_mean        | 123      |\n|    ep_rew_mean        | 123      |\n| time/                 |          |\n|    fps                | 472      |\n|    iterations         | 200      |\n|    time_elapsed       | 2        |\n|    total_timesteps    | 1000     |\n| train/                |          |\n|    entropy_loss       | -0.493   |\n|    explained_variance | 0.000309 |\n|    learning_rate      | 0.0007   |\n|    n_updates          | 1199     |\n|    policy_loss        | 0.916    |\n|    value_loss         | 2.15     |\n------------------------------------\nRegular Training - Step 6000: Mean Reward = 162.9\n------------------------------------\n| rollout/              |          |\n|    ep_len_mean        | 99.4     |\n|    ep_rew_mean        | 99.4     |\n| time/                 |          |\n|    fps                | 460      |\n|    iterations         | 100      |\n|    time_elapsed       | 1        |\n|    total_timesteps    | 500      |\n| train/                |          |\n|    entropy_loss       | -0.565   |\n|    explained_variance | 0.00321  |\n|    learning_rate      | 0.0007   |\n|    n_updates          | 1299     |\n|    policy_loss        | 0.357    |\n|    value_loss         | 1.76     |\n------------------------------------\n------------------------------------\n| rollout/              |          |\n|    ep_len_mean        | 133      |\n|    ep_rew_mean        | 133      |\n| time/                 |          |\n|    fps                | 462      |\n|    iterations         | 200      |\n|    time_elapsed       | 2        |\n|    total_timesteps    | 1000     |\n| train/                |          |\n|    entropy_loss       | -0.45    |\n|    explained_variance | -8.9e-05 |\n|    learning_rate      | 0.0007   |\n|    n_updates          | 1399     |\n|    policy_loss        | 0.797    |\n|    value_loss         | 1.41     |\n------------------------------------\nRegular Training - Step 7000: Mean Reward = 430.4\n------------------------------------\n| rollout/              |          |\n|    ep_len_mean        | 224      |\n|    ep_rew_mean        | 224      |\n| time/                 |          |\n|    fps                | 463      |\n|    iterations         | 100      |\n|    time_elapsed       | 1        |\n|    total_timesteps    | 500      |\n| train/                |          |\n|    entropy_loss       | -0.599   |\n|    explained_variance | 4.35e-05 |\n|    learning_rate      | 0.0007   |\n|    n_updates          | 1499     |\n|    policy_loss        | 0.591    |\n|    value_loss         | 1.09     |\n------------------------------------\n------------------------------------\n| rollout/              |          |\n|    ep_len_mean        | 233      |\n|    ep_rew_mean        | 233      |\n| time/                 |          |\n|    fps                | 466      |\n|    iterations         | 200      |\n|    time_elapsed       | 2        |\n|    total_timesteps    | 1000     |\n| train/                |          |\n|    entropy_loss       | -0.474   |\n|    explained_variance | 0.00125  |\n|    learning_rate      | 0.0007   |\n|    n_updates          | 1599     |\n|    policy_loss        | 0.595    |\n|    value_loss         | 0.808    |\n------------------------------------\nRegular Training - Step 8000: Mean Reward = 197.2\n-------------------------------------\n| rollout/              |           |\n|    ep_len_mean        | 90        |\n|    ep_rew_mean        | 90        |\n| time/                 |           |\n|    fps                | 463       |\n|    iterations         | 100       |\n|    time_elapsed       | 1         |\n|    total_timesteps    | 500       |\n| train/                |           |\n|    entropy_loss       | -0.539    |\n|    explained_variance | -2.73e-05 |\n|    learning_rate      | 0.0007    |\n|    n_updates          | 1699      |\n|    policy_loss        | 0.24      |\n|    value_loss         | 0.567     |\n-------------------------------------\n------------------------------------\n| rollout/              |          |\n|    ep_len_mean        | 234      |\n|    ep_rew_mean        | 234      |\n| time/                 |          |\n|    fps                | 459      |\n|    iterations         | 200      |\n|    time_elapsed       | 2        |\n|    total_timesteps    | 1000     |\n| train/                |          |\n|    entropy_loss       | -0.49    |\n|    explained_variance | 0        |\n|    learning_rate      | 0.0007   |\n|    n_updates          | 1799     |\n|    policy_loss        | 0.396    |\n|    value_loss         | 0.373    |\n------------------------------------\nRegular Training - Step 9000: Mean Reward = 438.4\n------------------------------------\n| rollout/              |          |\n|    ep_len_mean        | 114      |\n|    ep_rew_mean        | 114      |\n| time/                 |          |\n|    fps                | 471      |\n|    iterations         | 100      |\n|    time_elapsed       | 1        |\n|    total_timesteps    | 500      |\n| train/                |          |\n|    entropy_loss       | -0.505   |\n|    explained_variance | -0.00139 |\n|    learning_rate      | 0.0007   |\n|    n_updates          | 1899     |\n|    policy_loss        | 0.317    |\n|    value_loss         | 0.219    |\n------------------------------------\n------------------------------------\n| rollout/              |          |\n|    ep_len_mean        | 232      |\n|    ep_rew_mean        | 232      |\n| time/                 |          |\n|    fps                | 471      |\n|    iterations         | 200      |\n|    time_elapsed       | 2        |\n|    total_timesteps    | 1000     |\n| train/                |          |\n|    entropy_loss       | -0.458   |\n|    explained_variance | 3.09e-05 |\n|    learning_rate      | 0.0007   |\n|    n_updates          | 1999     |\n|    policy_loss        | 0.178    |\n|    value_loss         | 0.106    |\n------------------------------------\nRegular Training - Step 10000: Mean Reward = 142.9\n",
          "output_type": "stream"
        }
      ],
      "execution_count": null
    },
    {
      "id": "59de5485",
      "cell_type": "code",
      "source": [
        "# Load the A2C model manually using Stable-Baselines3's load method\n",
        "expert = A2C.load(\"CartPole_v1_A2C_model.zip\")\n",
        "\n",
        "# Create vectorized environment for imitation learning\n",
        "rng = np.random.default_rng(0)\n",
        "venv = make_vec_env(\"CartPole-v1\", n_envs=1, rng=rng)\n",
        "\n",
        "# Initialize the Behavior Cloning (BC) trainer\n",
        "bc_trainer = bc.BC(\n",
        "    observation_space=venv.observation_space,\n",
        "    action_space=venv.action_space,\n",
        "    rng=rng,\n",
        "    policy=expert.policy\n",
        ")\n",
        "\n",
        "# Record rewards during DAgger training\n",
        "dagger_rewards = []\n",
        "\n",
        "# Train using DAgger\n",
        "with tempfile.TemporaryDirectory(prefix=\"dagger_example_\") as tmpdir:\n",
        "    dagger_trainer = SimpleDAggerTrainer(\n",
        "        venv=venv,\n",
        "        scratch_dir=tmpdir,\n",
        "        expert_policy=expert,\n",
        "        bc_trainer=bc_trainer,\n",
        "        rng=rng\n",
        "    )\n",
        "\n",
        "    # Training loop for DAgger\n",
        "    total_dagger_timesteps = 8000\n",
        "    eval_freq = 1000\n",
        "    for timestep in range(0, total_dagger_timesteps, eval_freq):\n",
        "        dagger_trainer.train(eval_freq)  # Train the agent for `eval_freq` timesteps\n",
        "\n",
        "        # Evaluate the model and record the reward\n",
        "        reward, _ = evaluate_policy(dagger_trainer.policy, venv, n_eval_episodes=10)\n",
        "        dagger_rewards.append(reward)\n",
        "        print(f\"DAgger Training - Step {timestep + eval_freq}: Mean Reward = {reward}\")\n",
        "\n",
        "# Close the environment after DAgger training\n",
        "venv.close()"
      ],
      "metadata": {
        "trusted": true,
        "execution": {
          "iopub.status.busy": "2025-08-04T05:31:50.800464Z",
          "iopub.execute_input": "2025-08-04T05:31:50.800716Z",
          "iopub.status.idle": "2025-08-04T05:33:16.970204Z",
          "shell.execute_reply.started": "2025-08-04T05:31:50.800698Z",
          "shell.execute_reply": "2025-08-04T05:33:16.969631Z"
        },
        "colab": {
          "referenced_widgets": [
            "2f00d64fc2e9462082ac25d4e26d9e44",
            "7d31a30152684c7896dadede886faf6f",
            "4eadf27fbea441dea98edd6b596188c6",
            "6979312177f74f568b3cadc6d59e1701",
            "45d180d650aa4ebb83fa84a4992cdac1",
            "103992d3325b4d228c34b25898382ec0",
            "b2087683feb24bfd870795cd4b835347",
            "54ba7e0d6e244cb3bba9862db51b881d",
            "5576a5ba1ea045799d520c93ceba98c4",
            "6007b308d188441e8219f721b5e912b1",
            "b4ea65102fac446d9fd57933aad47c6b",
            "bf972e136d8443b8b7883273bd31aa59",
            "d278dd07240e4b449f6494f3773962d9",
            "61ad4edbf7f74026b1ea71227265de79",
            "b8f8b06f942d4e47a4d50b8239db0b06",
            "f125a9730a254d53b0127fb05bedd3fe",
            "8662300f20f54968a46c1655e298dca5",
            "36b410133c804359b2da5b85e0d533cb",
            "5a9c9233776c453a9cbd5609d69e10d6",
            "345cb08fe4ae446d83cda04949fa78bc",
            "6bc036aadaf14abaabe216f3324fc85b",
            "9dbcca7e519d4b6186ff0cbd3beaf163",
            "bfeac30094a9431bb5c8487a642f4e06",
            "de3711ae23404cd38ad67883b7a4cdb5",
            "1481690d87044f5aa19062b923666735",
            "6b45900071044005aea0c4216530a517",
            "bd3950701f4a468cb3c7362e82cfae63",
            "abcc6b65fc354f2ba40a9c793a0fb268",
            "5b8deb21b1d7487caf5fa78d7caac8ba",
            "f748c4814c9c4385a1f14ab7bcf401e9",
            "42f818ff01b8460eb64250def526dd87",
            "205b1086823246f79a51286c1fadf596",
            "72fdf6fa4d7b48aa8032350873f19448",
            "fd356f484929456e90f454deaad06734",
            "5e96595f926d4a488d67a2c2ab281a34",
            "bafa92d9a62b41eba920d7de0257660a",
            "54aa121693224a22b803435eadbf91dd",
            "6afe07e137c74c82a83b96f25b35059c",
            "28f510e7ddb34cb788c57d36bbf5bea8",
            "a67e99850eb6405cb09cd7c9c97810af",
            "3165048f47304ba09ecc1c15221fd59c",
            "46481e5c32be467f857324eb83315a0f",
            "48096bb1604d4c1a96ee740f8f8cc8d0",
            "41e5f6d92c1743e89b55597ce8a59b75",
            "45f816bedce142de81dbb90ace2b727e",
            "74d3bd26e8424c808bf5afecee234dbe",
            "b1f117207023449cbd3800b50d123d96",
            "9f980acddc20416abbe3dd4f8c52297b",
            "67641b7463be4838b5d296658029196c",
            "9d29a5b1f4d94ba7adffa15b88183c24",
            "e884fc67cf8942d08daf54f753a1b127",
            "e03d8e219a29453586a9560ef70b3f62",
            "9db197810b4e49e0af01bc5d9f7fba11",
            "7719f847e9714357adf1ac7273bd4510",
            "13b9ef03dcbe4ab6bc5e8cf4e2dcb589",
            "cd16820e31814bde8749269fef308a0d",
            "e752778571da495e9309987c8a21bf63",
            "1671ccb55d12454c9262d1d3307b1a55",
            "911ae1f0adfe4fb1a85cec1741574e02",
            "e86fc264ecec4e768fb46795c01ec465",
            "be658467abba4886b13ad183616a17b8",
            "8909309c56eb4e6ba978d6478abf3eb4",
            "e35c00f99e7a489dbcfd9d95bb927c5b"
          ]
        },
        "id": "59de5485",
        "outputId": "30b399ff-f417-4c2b-80b5-8b4198d2279f"
      },
      "outputs": [
        {
          "output_type": "display_data",
          "data": {
            "text/plain": "Saving the dataset (0/1 shards):   0%|          | 0/1 [00:00<?, ? examples/s]",
            "application/vnd.jupyter.widget-view+json": {
              "version_major": 2,
              "version_minor": 0,
              "model_id": "2f00d64fc2e9462082ac25d4e26d9e44"
            }
          },
          "metadata": {}
        },
        {
          "output_type": "display_data",
          "data": {
            "text/plain": "Saving the dataset (0/1 shards):   0%|          | 0/1 [00:00<?, ? examples/s]",
            "application/vnd.jupyter.widget-view+json": {
              "version_major": 2,
              "version_minor": 0,
              "model_id": "7d31a30152684c7896dadede886faf6f"
            }
          },
          "metadata": {}
        },
        {
          "output_type": "display_data",
          "data": {
            "text/plain": "Saving the dataset (0/1 shards):   0%|          | 0/1 [00:00<?, ? examples/s]",
            "application/vnd.jupyter.widget-view+json": {
              "version_major": 2,
              "version_minor": 0,
              "model_id": "4eadf27fbea441dea98edd6b596188c6"
            }
          },
          "metadata": {}
        },
        {
          "output_type": "display_data",
          "data": {
            "text/plain": "Saving the dataset (0/1 shards):   0%|          | 0/1 [00:00<?, ? examples/s]",
            "application/vnd.jupyter.widget-view+json": {
              "version_major": 2,
              "version_minor": 0,
              "model_id": "6979312177f74f568b3cadc6d59e1701"
            }
          },
          "metadata": {}
        },
        {
          "name": "stderr",
          "text": "0batch [00:00, ?batch/s]",
          "output_type": "stream"
        },
        {
          "name": "stdout",
          "text": "--------------------------------\n| batch_size        | 32       |\n| bc/               |          |\n|    batch          | 0        |\n|    ent_loss       | -0.00059 |\n|    entropy        | 0.59     |\n|    epoch          | 0        |\n|    l2_loss        | 0        |\n|    l2_norm        | 351      |\n|    loss           | 0.385    |\n|    neglogp        | 0.386    |\n|    prob_true_act  | 0.689    |\n|    samples_so_far | 32       |\n| rollout/          |          |\n|    return_max     | 166      |\n|    return_mean    | 118      |\n|    return_min     | 88       |\n|    return_std     | 28.9     |\n--------------------------------\n",
          "output_type": "stream"
        },
        {
          "name": "stderr",
          "text": "1batch [00:00,  1.75batch/s]\n23batch [00:00, 45.14batch/s][A\n44batch [00:00, 81.17batch/s]\u001b[A\nEpoch 2 of 4                 \u001b[A\n64batch [00:00, 73.11batch/s]\n",
          "output_type": "stream"
        },
        {
          "output_type": "display_data",
          "data": {
            "text/plain": "Saving the dataset (0/1 shards):   0%|          | 0/1 [00:00<?, ? examples/s]",
            "application/vnd.jupyter.widget-view+json": {
              "version_major": 2,
              "version_minor": 0,
              "model_id": "45d180d650aa4ebb83fa84a4992cdac1"
            }
          },
          "metadata": {}
        },
        {
          "output_type": "display_data",
          "data": {
            "text/plain": "Saving the dataset (0/1 shards):   0%|          | 0/1 [00:00<?, ? examples/s]",
            "application/vnd.jupyter.widget-view+json": {
              "version_major": 2,
              "version_minor": 0,
              "model_id": "103992d3325b4d228c34b25898382ec0"
            }
          },
          "metadata": {}
        },
        {
          "output_type": "display_data",
          "data": {
            "text/plain": "Saving the dataset (0/1 shards):   0%|          | 0/1 [00:00<?, ? examples/s]",
            "application/vnd.jupyter.widget-view+json": {
              "version_major": 2,
              "version_minor": 0,
              "model_id": "b2087683feb24bfd870795cd4b835347"
            }
          },
          "metadata": {}
        },
        {
          "output_type": "display_data",
          "data": {
            "text/plain": "Saving the dataset (0/1 shards):   0%|          | 0/1 [00:00<?, ? examples/s]",
            "application/vnd.jupyter.widget-view+json": {
              "version_major": 2,
              "version_minor": 0,
              "model_id": "54ba7e0d6e244cb3bba9862db51b881d"
            }
          },
          "metadata": {}
        },
        {
          "name": "stderr",
          "text": "0batch [00:00, ?batch/s]",
          "output_type": "stream"
        },
        {
          "name": "stdout",
          "text": "--------------------------------\n| batch_size        | 32       |\n| bc/               |          |\n|    batch          | 0        |\n|    ent_loss       | -0.00025 |\n|    entropy        | 0.25     |\n|    epoch          | 0        |\n|    l2_loss        | 0        |\n|    l2_norm        | 361      |\n|    loss           | 0.164    |\n|    neglogp        | 0.165    |\n|    prob_true_act  | 0.873    |\n|    samples_so_far | 32       |\n| rollout/          |          |\n|    return_max     | 199      |\n|    return_mean    | 156      |\n|    return_min     | 124      |\n|    return_std     | 27.8     |\n--------------------------------\n",
          "output_type": "stream"
        },
        {
          "name": "stderr",
          "text": "22batch [00:00, 34.95batch/s]\n64batch [00:01, 97.27batch/s]\u001b[A\n103batch [00:01, 137.37batch/s]A\n123batch [00:01, 152.93batch/s]\u001b[A\n140batch [00:01, 97.60batch/s] \u001b[A\n",
          "output_type": "stream"
        },
        {
          "name": "stdout",
          "text": "DAgger Training - Step 1000: Mean Reward = 152.1\n",
          "output_type": "stream"
        },
        {
          "output_type": "display_data",
          "data": {
            "text/plain": "Saving the dataset (0/1 shards):   0%|          | 0/1 [00:00<?, ? examples/s]",
            "application/vnd.jupyter.widget-view+json": {
              "version_major": 2,
              "version_minor": 0,
              "model_id": "5576a5ba1ea045799d520c93ceba98c4"
            }
          },
          "metadata": {}
        },
        {
          "output_type": "display_data",
          "data": {
            "text/plain": "Saving the dataset (0/1 shards):   0%|          | 0/1 [00:00<?, ? examples/s]",
            "application/vnd.jupyter.widget-view+json": {
              "version_major": 2,
              "version_minor": 0,
              "model_id": "6007b308d188441e8219f721b5e912b1"
            }
          },
          "metadata": {}
        },
        {
          "output_type": "display_data",
          "data": {
            "text/plain": "Saving the dataset (0/1 shards):   0%|          | 0/1 [00:00<?, ? examples/s]",
            "application/vnd.jupyter.widget-view+json": {
              "version_major": 2,
              "version_minor": 0,
              "model_id": "b4ea65102fac446d9fd57933aad47c6b"
            }
          },
          "metadata": {}
        },
        {
          "output_type": "display_data",
          "data": {
            "text/plain": "Saving the dataset (0/1 shards):   0%|          | 0/1 [00:00<?, ? examples/s]",
            "application/vnd.jupyter.widget-view+json": {
              "version_major": 2,
              "version_minor": 0,
              "model_id": "bf972e136d8443b8b7883273bd31aa59"
            }
          },
          "metadata": {}
        },
        {
          "name": "stderr",
          "text": "0batch [00:00, ?batch/s]",
          "output_type": "stream"
        },
        {
          "name": "stdout",
          "text": "---------------------------------\n| batch_size        | 32        |\n| bc/               |           |\n|    batch          | 0         |\n|    ent_loss       | -0.000163 |\n|    entropy        | 0.163     |\n|    epoch          | 0         |\n|    l2_loss        | 0         |\n|    l2_norm        | 374       |\n|    loss           | 0.069     |\n|    neglogp        | 0.0692    |\n|    prob_true_act  | 0.94      |\n|    samples_so_far | 32        |\n| rollout/          |           |\n|    return_max     | 194       |\n|    return_mean    | 168       |\n|    return_min     | 139       |\n|    return_std     | 24.1      |\n---------------------------------\n",
          "output_type": "stream"
        },
        {
          "name": "stderr",
          "text": "44batch [00:00, 65.80batch/s]\n87batch [00:01, 122.69batch/s][A\n153batch [00:01, 177.18batch/s][A\n196batch [00:01, 194.21batch/s]\u001b[A\n208batch [00:01, 117.86batch/s]\u001b[A\n",
          "output_type": "stream"
        },
        {
          "output_type": "display_data",
          "data": {
            "text/plain": "Saving the dataset (0/1 shards):   0%|          | 0/1 [00:00<?, ? examples/s]",
            "application/vnd.jupyter.widget-view+json": {
              "version_major": 2,
              "version_minor": 0,
              "model_id": "d278dd07240e4b449f6494f3773962d9"
            }
          },
          "metadata": {}
        },
        {
          "output_type": "display_data",
          "data": {
            "text/plain": "Saving the dataset (0/1 shards):   0%|          | 0/1 [00:00<?, ? examples/s]",
            "application/vnd.jupyter.widget-view+json": {
              "version_major": 2,
              "version_minor": 0,
              "model_id": "61ad4edbf7f74026b1ea71227265de79"
            }
          },
          "metadata": {}
        },
        {
          "output_type": "display_data",
          "data": {
            "text/plain": "Saving the dataset (0/1 shards):   0%|          | 0/1 [00:00<?, ? examples/s]",
            "application/vnd.jupyter.widget-view+json": {
              "version_major": 2,
              "version_minor": 0,
              "model_id": "b8f8b06f942d4e47a4d50b8239db0b06"
            }
          },
          "metadata": {}
        },
        {
          "output_type": "display_data",
          "data": {
            "text/plain": "Saving the dataset (0/1 shards):   0%|          | 0/1 [00:00<?, ? examples/s]",
            "application/vnd.jupyter.widget-view+json": {
              "version_major": 2,
              "version_minor": 0,
              "model_id": "f125a9730a254d53b0127fb05bedd3fe"
            }
          },
          "metadata": {}
        },
        {
          "name": "stderr",
          "text": "0batch [00:00, ?batch/s]",
          "output_type": "stream"
        },
        {
          "name": "stdout",
          "text": "---------------------------------\n| batch_size        | 32        |\n| bc/               |           |\n|    batch          | 0         |\n|    ent_loss       | -7.45e-05 |\n|    entropy        | 0.0745    |\n|    epoch          | 0         |\n|    l2_loss        | 0         |\n|    l2_norm        | 386       |\n|    loss           | 0.0581    |\n|    neglogp        | 0.0582    |\n|    prob_true_act  | 0.956     |\n|    samples_so_far | 32        |\n| rollout/          |           |\n|    return_max     | 180       |\n|    return_mean    | 143       |\n|    return_min     | 121       |\n|    return_std     | 21        |\n---------------------------------\n",
          "output_type": "stream"
        },
        {
          "name": "stderr",
          "text": "67batch [00:00, 106.31batch/s]\n133batch [00:01, 170.29batch/s][A\n196batch [00:01, 186.26batch/s]\u001b[A\n258batch [00:01, 191.93batch/s]\u001b[A\n272batch [00:02, 135.67batch/s]\u001b[A\n",
          "output_type": "stream"
        },
        {
          "name": "stdout",
          "text": "DAgger Training - Step 2000: Mean Reward = 152.5\n",
          "output_type": "stream"
        },
        {
          "output_type": "display_data",
          "data": {
            "text/plain": "Saving the dataset (0/1 shards):   0%|          | 0/1 [00:00<?, ? examples/s]",
            "application/vnd.jupyter.widget-view+json": {
              "version_major": 2,
              "version_minor": 0,
              "model_id": "8662300f20f54968a46c1655e298dca5"
            }
          },
          "metadata": {}
        },
        {
          "output_type": "display_data",
          "data": {
            "text/plain": "Saving the dataset (0/1 shards):   0%|          | 0/1 [00:00<?, ? examples/s]",
            "application/vnd.jupyter.widget-view+json": {
              "version_major": 2,
              "version_minor": 0,
              "model_id": "36b410133c804359b2da5b85e0d533cb"
            }
          },
          "metadata": {}
        },
        {
          "output_type": "display_data",
          "data": {
            "text/plain": "Saving the dataset (0/1 shards):   0%|          | 0/1 [00:00<?, ? examples/s]",
            "application/vnd.jupyter.widget-view+json": {
              "version_major": 2,
              "version_minor": 0,
              "model_id": "5a9c9233776c453a9cbd5609d69e10d6"
            }
          },
          "metadata": {}
        },
        {
          "output_type": "display_data",
          "data": {
            "text/plain": "Saving the dataset (0/1 shards):   0%|          | 0/1 [00:00<?, ? examples/s]",
            "application/vnd.jupyter.widget-view+json": {
              "version_major": 2,
              "version_minor": 0,
              "model_id": "345cb08fe4ae446d83cda04949fa78bc"
            }
          },
          "metadata": {}
        },
        {
          "name": "stderr",
          "text": "0batch [00:00, ?batch/s]",
          "output_type": "stream"
        },
        {
          "name": "stdout",
          "text": "---------------------------------\n| batch_size        | 32        |\n| bc/               |           |\n|    batch          | 0         |\n|    ent_loss       | -6.55e-05 |\n|    entropy        | 0.0655    |\n|    epoch          | 0         |\n|    l2_loss        | 0         |\n|    l2_norm        | 395       |\n|    loss           | 0.0371    |\n|    neglogp        | 0.0372    |\n|    prob_true_act  | 0.97      |\n|    samples_so_far | 32        |\n| rollout/          |           |\n|    return_max     | 211       |\n|    return_mean    | 166       |\n|    return_min     | 131       |\n|    return_std     | 30        |\n---------------------------------\n",
          "output_type": "stream"
        },
        {
          "name": "stderr",
          "text": "67batch [00:01, 96.79batch/s]\n154batch [00:01, 175.85batch/s]A\n244batch [00:01, 209.19batch/s]\u001b[A\n334batch [00:02, 218.01batch/s]\u001b[A\n344batch [00:02, 143.58batch/s]\u001b[A\n",
          "output_type": "stream"
        },
        {
          "output_type": "display_data",
          "data": {
            "text/plain": "Saving the dataset (0/1 shards):   0%|          | 0/1 [00:00<?, ? examples/s]",
            "application/vnd.jupyter.widget-view+json": {
              "version_major": 2,
              "version_minor": 0,
              "model_id": "6bc036aadaf14abaabe216f3324fc85b"
            }
          },
          "metadata": {}
        },
        {
          "output_type": "display_data",
          "data": {
            "text/plain": "Saving the dataset (0/1 shards):   0%|          | 0/1 [00:00<?, ? examples/s]",
            "application/vnd.jupyter.widget-view+json": {
              "version_major": 2,
              "version_minor": 0,
              "model_id": "9dbcca7e519d4b6186ff0cbd3beaf163"
            }
          },
          "metadata": {}
        },
        {
          "output_type": "display_data",
          "data": {
            "text/plain": "Saving the dataset (0/1 shards):   0%|          | 0/1 [00:00<?, ? examples/s]",
            "application/vnd.jupyter.widget-view+json": {
              "version_major": 2,
              "version_minor": 0,
              "model_id": "bfeac30094a9431bb5c8487a642f4e06"
            }
          },
          "metadata": {}
        },
        {
          "output_type": "display_data",
          "data": {
            "text/plain": "Saving the dataset (0/1 shards):   0%|          | 0/1 [00:00<?, ? examples/s]",
            "application/vnd.jupyter.widget-view+json": {
              "version_major": 2,
              "version_minor": 0,
              "model_id": "de3711ae23404cd38ad67883b7a4cdb5"
            }
          },
          "metadata": {}
        },
        {
          "name": "stderr",
          "text": "0batch [00:00, ?batch/s]",
          "output_type": "stream"
        },
        {
          "name": "stdout",
          "text": "---------------------------------\n| batch_size        | 32        |\n| bc/               |           |\n|    batch          | 0         |\n|    ent_loss       | -3.69e-05 |\n|    entropy        | 0.0369    |\n|    epoch          | 0         |\n|    l2_loss        | 0         |\n|    l2_norm        | 404       |\n|    loss           | 0.0171    |\n|    neglogp        | 0.0172    |\n|    prob_true_act  | 0.985     |\n|    samples_so_far | 32        |\n| rollout/          |           |\n|    return_max     | 156       |\n|    return_mean    | 146       |\n|    return_min     | 133       |\n|    return_std     | 7.87      |\n---------------------------------\n",
          "output_type": "stream"
        },
        {
          "name": "stderr",
          "text": "89batch [00:01, 132.41batch/s]\n198batch [00:01, 196.06batch/s][A\n307batch [00:02, 211.27batch/s]\u001b[A\n419batch [00:02, 218.23batch/s]\u001b[A\n420batch [00:02, 159.08batch/s]\u001b[A\n",
          "output_type": "stream"
        },
        {
          "name": "stdout",
          "text": "DAgger Training - Step 3000: Mean Reward = 133.6\n",
          "output_type": "stream"
        },
        {
          "output_type": "display_data",
          "data": {
            "text/plain": "Saving the dataset (0/1 shards):   0%|          | 0/1 [00:00<?, ? examples/s]",
            "application/vnd.jupyter.widget-view+json": {
              "version_major": 2,
              "version_minor": 0,
              "model_id": "1481690d87044f5aa19062b923666735"
            }
          },
          "metadata": {}
        },
        {
          "output_type": "display_data",
          "data": {
            "text/plain": "Saving the dataset (0/1 shards):   0%|          | 0/1 [00:00<?, ? examples/s]",
            "application/vnd.jupyter.widget-view+json": {
              "version_major": 2,
              "version_minor": 0,
              "model_id": "6b45900071044005aea0c4216530a517"
            }
          },
          "metadata": {}
        },
        {
          "output_type": "display_data",
          "data": {
            "text/plain": "Saving the dataset (0/1 shards):   0%|          | 0/1 [00:00<?, ? examples/s]",
            "application/vnd.jupyter.widget-view+json": {
              "version_major": 2,
              "version_minor": 0,
              "model_id": "bd3950701f4a468cb3c7362e82cfae63"
            }
          },
          "metadata": {}
        },
        {
          "name": "stderr",
          "text": "0batch [00:00, ?batch/s]",
          "output_type": "stream"
        },
        {
          "name": "stdout",
          "text": "---------------------------------\n| batch_size        | 32        |\n| bc/               |           |\n|    batch          | 0         |\n|    ent_loss       | -2.16e-06 |\n|    entropy        | 0.00216   |\n|    epoch          | 0         |\n|    l2_loss        | 0         |\n|    l2_norm        | 412       |\n|    loss           | 0.00038   |\n|    neglogp        | 0.000382  |\n|    prob_true_act  | 1         |\n|    samples_so_far | 32        |\n| rollout/          |           |\n|    return_max     | 212       |\n|    return_mean    | 154       |\n|    return_min     | 113       |\n|    return_std     | 32.9      |\n---------------------------------\n",
          "output_type": "stream"
        },
        {
          "name": "stderr",
          "text": "111batch [00:01, 150.42batch/s]\n221batch [00:01, 203.29batch/s]\u001b[A\n353batch [00:02, 203.79batch/s]\u001b[A\n483batch [00:03, 208.96batch/s]\u001b[A\n484batch [00:03, 159.84batch/s]\u001b[A\n",
          "output_type": "stream"
        },
        {
          "output_type": "display_data",
          "data": {
            "text/plain": "Saving the dataset (0/1 shards):   0%|          | 0/1 [00:00<?, ? examples/s]",
            "application/vnd.jupyter.widget-view+json": {
              "version_major": 2,
              "version_minor": 0,
              "model_id": "abcc6b65fc354f2ba40a9c793a0fb268"
            }
          },
          "metadata": {}
        },
        {
          "output_type": "display_data",
          "data": {
            "text/plain": "Saving the dataset (0/1 shards):   0%|          | 0/1 [00:00<?, ? examples/s]",
            "application/vnd.jupyter.widget-view+json": {
              "version_major": 2,
              "version_minor": 0,
              "model_id": "5b8deb21b1d7487caf5fa78d7caac8ba"
            }
          },
          "metadata": {}
        },
        {
          "output_type": "display_data",
          "data": {
            "text/plain": "Saving the dataset (0/1 shards):   0%|          | 0/1 [00:00<?, ? examples/s]",
            "application/vnd.jupyter.widget-view+json": {
              "version_major": 2,
              "version_minor": 0,
              "model_id": "f748c4814c9c4385a1f14ab7bcf401e9"
            }
          },
          "metadata": {}
        },
        {
          "output_type": "display_data",
          "data": {
            "text/plain": "Saving the dataset (0/1 shards):   0%|          | 0/1 [00:00<?, ? examples/s]",
            "application/vnd.jupyter.widget-view+json": {
              "version_major": 2,
              "version_minor": 0,
              "model_id": "42f818ff01b8460eb64250def526dd87"
            }
          },
          "metadata": {}
        },
        {
          "name": "stderr",
          "text": "0batch [00:00, ?batch/s]",
          "output_type": "stream"
        },
        {
          "name": "stdout",
          "text": "---------------------------------\n| batch_size        | 32        |\n| bc/               |           |\n|    batch          | 0         |\n|    ent_loss       | -2.75e-05 |\n|    entropy        | 0.0275    |\n|    epoch          | 0         |\n|    l2_loss        | 0         |\n|    l2_norm        | 418       |\n|    loss           | 0.0116    |\n|    neglogp        | 0.0116    |\n|    prob_true_act  | 0.99      |\n|    samples_so_far | 32        |\n| rollout/          |           |\n|    return_max     | 239       |\n|    return_mean    | 161       |\n|    return_min     | 135       |\n|    return_std     | 39.6      |\n---------------------------------\n",
          "output_type": "stream"
        },
        {
          "name": "stderr",
          "text": "131batch [00:01, 160.81batch/s]\n263batch [00:01, 210.08batch/s]\u001b[A\n398batch [00:02, 219.00batch/s]\u001b[A\n488batch [00:03, 219.06batch/s]\u001b[A",
          "output_type": "stream"
        },
        {
          "name": "stdout",
          "text": "---------------------------------\n| batch_size        | 32        |\n| bc/               |           |\n|    batch          | 500       |\n|    ent_loss       | -4.89e-06 |\n|    entropy        | 0.00489   |\n|    epoch          | 3         |\n|    l2_loss        | 0         |\n|    l2_norm        | 423       |\n|    loss           | 0.00086   |\n|    neglogp        | 0.000865  |\n|    prob_true_act  | 0.999     |\n|    samples_so_far | 16032     |\n| rollout/          |           |\n|    return_max     | 253       |\n|    return_mean    | 166       |\n|    return_min     | 124       |\n|    return_std     | 48.6      |\n---------------------------------\n",
          "output_type": "stream"
        },
        {
          "name": "stderr",
          "text": "533batch [00:04, 84.07batch/s] \n552batch [00:04, 134.22batch/s][A\n",
          "output_type": "stream"
        },
        {
          "name": "stdout",
          "text": "DAgger Training - Step 4000: Mean Reward = 147.5\n",
          "output_type": "stream"
        },
        {
          "output_type": "display_data",
          "data": {
            "text/plain": "Saving the dataset (0/1 shards):   0%|          | 0/1 [00:00<?, ? examples/s]",
            "application/vnd.jupyter.widget-view+json": {
              "version_major": 2,
              "version_minor": 0,
              "model_id": "205b1086823246f79a51286c1fadf596"
            }
          },
          "metadata": {}
        },
        {
          "output_type": "display_data",
          "data": {
            "text/plain": "Saving the dataset (0/1 shards):   0%|          | 0/1 [00:00<?, ? examples/s]",
            "application/vnd.jupyter.widget-view+json": {
              "version_major": 2,
              "version_minor": 0,
              "model_id": "72fdf6fa4d7b48aa8032350873f19448"
            }
          },
          "metadata": {}
        },
        {
          "output_type": "display_data",
          "data": {
            "text/plain": "Saving the dataset (0/1 shards):   0%|          | 0/1 [00:00<?, ? examples/s]",
            "application/vnd.jupyter.widget-view+json": {
              "version_major": 2,
              "version_minor": 0,
              "model_id": "fd356f484929456e90f454deaad06734"
            }
          },
          "metadata": {}
        },
        {
          "output_type": "display_data",
          "data": {
            "text/plain": "Saving the dataset (0/1 shards):   0%|          | 0/1 [00:00<?, ? examples/s]",
            "application/vnd.jupyter.widget-view+json": {
              "version_major": 2,
              "version_minor": 0,
              "model_id": "5e96595f926d4a488d67a2c2ab281a34"
            }
          },
          "metadata": {}
        },
        {
          "name": "stderr",
          "text": "0batch [00:00, ?batch/s]",
          "output_type": "stream"
        },
        {
          "name": "stdout",
          "text": "---------------------------------\n| batch_size        | 32        |\n| bc/               |           |\n|    batch          | 0         |\n|    ent_loss       | -7.22e-05 |\n|    entropy        | 0.0722    |\n|    epoch          | 0         |\n|    l2_loss        | 0         |\n|    l2_norm        | 425       |\n|    loss           | 0.104     |\n|    neglogp        | 0.104     |\n|    prob_true_act  | 0.943     |\n|    samples_so_far | 32        |\n| rollout/          |           |\n|    return_max     | 209       |\n|    return_mean    | 158       |\n|    return_min     | 138       |\n|    return_std     | 26.9      |\n---------------------------------\n",
          "output_type": "stream"
        },
        {
          "name": "stderr",
          "text": "153batch [00:01, 180.31batch/s]\n307batch [00:02, 210.83batch/s]\u001b[A\n459batch [00:02, 207.66batch/s]\u001b[A\n481batch [00:03, 209.24batch/s]\u001b[A",
          "output_type": "stream"
        },
        {
          "name": "stdout",
          "text": "---------------------------------\n| batch_size        | 32        |\n| bc/               |           |\n|    batch          | 500       |\n|    ent_loss       | -3.18e-05 |\n|    entropy        | 0.0318    |\n|    epoch          | 3         |\n|    l2_loss        | 0         |\n|    l2_norm        | 426       |\n|    loss           | 0.0145    |\n|    neglogp        | 0.0145    |\n|    prob_true_act  | 0.987     |\n|    samples_so_far | 16032     |\n| rollout/          |           |\n|    return_max     | 170       |\n|    return_mean    | 139       |\n|    return_min     | 118       |\n|    return_std     | 18.6      |\n---------------------------------\n",
          "output_type": "stream"
        },
        {
          "name": "stderr",
          "text": "614batch [00:04, 163.94batch/s]\n628batch [00:04, 144.20batch/s]\u001b[A\n",
          "output_type": "stream"
        },
        {
          "output_type": "display_data",
          "data": {
            "text/plain": "Saving the dataset (0/1 shards):   0%|          | 0/1 [00:00<?, ? examples/s]",
            "application/vnd.jupyter.widget-view+json": {
              "version_major": 2,
              "version_minor": 0,
              "model_id": "bafa92d9a62b41eba920d7de0257660a"
            }
          },
          "metadata": {}
        },
        {
          "output_type": "display_data",
          "data": {
            "text/plain": "Saving the dataset (0/1 shards):   0%|          | 0/1 [00:00<?, ? examples/s]",
            "application/vnd.jupyter.widget-view+json": {
              "version_major": 2,
              "version_minor": 0,
              "model_id": "54aa121693224a22b803435eadbf91dd"
            }
          },
          "metadata": {}
        },
        {
          "output_type": "display_data",
          "data": {
            "text/plain": "Saving the dataset (0/1 shards):   0%|          | 0/1 [00:00<?, ? examples/s]",
            "application/vnd.jupyter.widget-view+json": {
              "version_major": 2,
              "version_minor": 0,
              "model_id": "6afe07e137c74c82a83b96f25b35059c"
            }
          },
          "metadata": {}
        },
        {
          "output_type": "display_data",
          "data": {
            "text/plain": "Saving the dataset (0/1 shards):   0%|          | 0/1 [00:00<?, ? examples/s]",
            "application/vnd.jupyter.widget-view+json": {
              "version_major": 2,
              "version_minor": 0,
              "model_id": "28f510e7ddb34cb788c57d36bbf5bea8"
            }
          },
          "metadata": {}
        },
        {
          "name": "stderr",
          "text": "0batch [00:00, ?batch/s]",
          "output_type": "stream"
        },
        {
          "name": "stdout",
          "text": "---------------------------------\n| batch_size        | 32        |\n| bc/               |           |\n|    batch          | 0         |\n|    ent_loss       | -4.94e-06 |\n|    entropy        | 0.00494   |\n|    epoch          | 0         |\n|    l2_loss        | 0         |\n|    l2_norm        | 427       |\n|    loss           | 0.000946  |\n|    neglogp        | 0.000951  |\n|    prob_true_act  | 0.999     |\n|    samples_so_far | 32        |\n| rollout/          |           |\n|    return_max     | 212       |\n|    return_mean    | 154       |\n|    return_min     | 125       |\n|    return_std     | 30.3      |\n---------------------------------\n",
          "output_type": "stream"
        },
        {
          "name": "stderr",
          "text": "158batch [00:01, 185.12batch/s]\n336batch [00:02, 215.59batch/s]\u001b[A\n490batch [00:02, 213.20batch/s]\u001b[A",
          "output_type": "stream"
        },
        {
          "name": "stdout",
          "text": "---------------------------------\n| batch_size        | 32        |\n| bc/               |           |\n|    batch          | 500       |\n|    ent_loss       | -6.73e-06 |\n|    entropy        | 0.00673   |\n|    epoch          | 2         |\n|    l2_loss        | 0         |\n|    l2_norm        | 429       |\n|    loss           | 0.00145   |\n|    neglogp        | 0.00146   |\n|    prob_true_act  | 0.999     |\n|    samples_so_far | 16032     |\n| rollout/          |           |\n|    return_max     | 159       |\n|    return_mean    | 147       |\n|    return_min     | 134       |\n|    return_std     | 10.6      |\n---------------------------------\n",
          "output_type": "stream"
        },
        {
          "name": "stderr",
          "text": "512batch [00:03, 70.22batch/s] \n688batch [00:04, 191.86batch/s][A\n692batch [00:04, 149.52batch/s]\u001b[A\n",
          "output_type": "stream"
        },
        {
          "name": "stdout",
          "text": "DAgger Training - Step 5000: Mean Reward = 144.2\n",
          "output_type": "stream"
        },
        {
          "output_type": "display_data",
          "data": {
            "text/plain": "Saving the dataset (0/1 shards):   0%|          | 0/1 [00:00<?, ? examples/s]",
            "application/vnd.jupyter.widget-view+json": {
              "version_major": 2,
              "version_minor": 0,
              "model_id": "a67e99850eb6405cb09cd7c9c97810af"
            }
          },
          "metadata": {}
        },
        {
          "output_type": "display_data",
          "data": {
            "text/plain": "Saving the dataset (0/1 shards):   0%|          | 0/1 [00:00<?, ? examples/s]",
            "application/vnd.jupyter.widget-view+json": {
              "version_major": 2,
              "version_minor": 0,
              "model_id": "3165048f47304ba09ecc1c15221fd59c"
            }
          },
          "metadata": {}
        },
        {
          "output_type": "display_data",
          "data": {
            "text/plain": "Saving the dataset (0/1 shards):   0%|          | 0/1 [00:00<?, ? examples/s]",
            "application/vnd.jupyter.widget-view+json": {
              "version_major": 2,
              "version_minor": 0,
              "model_id": "46481e5c32be467f857324eb83315a0f"
            }
          },
          "metadata": {}
        },
        {
          "output_type": "display_data",
          "data": {
            "text/plain": "Saving the dataset (0/1 shards):   0%|          | 0/1 [00:00<?, ? examples/s]",
            "application/vnd.jupyter.widget-view+json": {
              "version_major": 2,
              "version_minor": 0,
              "model_id": "48096bb1604d4c1a96ee740f8f8cc8d0"
            }
          },
          "metadata": {}
        },
        {
          "name": "stderr",
          "text": "0batch [00:00, ?batch/s]",
          "output_type": "stream"
        },
        {
          "name": "stdout",
          "text": "---------------------------------\n| batch_size        | 32        |\n| bc/               |           |\n|    batch          | 0         |\n|    ent_loss       | -6.41e-06 |\n|    entropy        | 0.00641   |\n|    epoch          | 0         |\n|    l2_loss        | 0         |\n|    l2_norm        | 430       |\n|    loss           | 0.00133   |\n|    neglogp        | 0.00133   |\n|    prob_true_act  | 0.999     |\n|    samples_so_far | 32        |\n| rollout/          |           |\n|    return_max     | 150       |\n|    return_mean    | 137       |\n|    return_min     | 120       |\n|    return_std     | 13.2      |\n---------------------------------\n",
          "output_type": "stream"
        },
        {
          "name": "stderr",
          "text": "177batch [00:01, 195.33batch/s]\n375batch [00:02, 213.71batch/s]\u001b[A\n485batch [00:02, 214.75batch/s]\u001b[A",
          "output_type": "stream"
        },
        {
          "name": "stdout",
          "text": "---------------------------------\n| batch_size        | 32        |\n| bc/               |           |\n|    batch          | 500       |\n|    ent_loss       | -8.21e-06 |\n|    entropy        | 0.00821   |\n|    epoch          | 2         |\n|    l2_loss        | 0         |\n|    l2_norm        | 433       |\n|    loss           | 0.00236   |\n|    neglogp        | 0.00237   |\n|    prob_true_act  | 0.998     |\n|    samples_so_far | 16032     |\n| rollout/          |           |\n|    return_max     | 194       |\n|    return_mean    | 154       |\n|    return_min     | 126       |\n|    return_std     | 23.6      |\n---------------------------------\n",
          "output_type": "stream"
        },
        {
          "name": "stderr",
          "text": "574batch [00:04, 125.79batch/s]\n748batch [00:04, 203.83batch/s]\u001b[A\n768batch [00:04, 154.94batch/s]\u001b[A\n",
          "output_type": "stream"
        },
        {
          "output_type": "display_data",
          "data": {
            "text/plain": "Saving the dataset (0/1 shards):   0%|          | 0/1 [00:00<?, ? examples/s]",
            "application/vnd.jupyter.widget-view+json": {
              "version_major": 2,
              "version_minor": 0,
              "model_id": "41e5f6d92c1743e89b55597ce8a59b75"
            }
          },
          "metadata": {}
        },
        {
          "output_type": "display_data",
          "data": {
            "text/plain": "Saving the dataset (0/1 shards):   0%|          | 0/1 [00:00<?, ? examples/s]",
            "application/vnd.jupyter.widget-view+json": {
              "version_major": 2,
              "version_minor": 0,
              "model_id": "45f816bedce142de81dbb90ace2b727e"
            }
          },
          "metadata": {}
        },
        {
          "output_type": "display_data",
          "data": {
            "text/plain": "Saving the dataset (0/1 shards):   0%|          | 0/1 [00:00<?, ? examples/s]",
            "application/vnd.jupyter.widget-view+json": {
              "version_major": 2,
              "version_minor": 0,
              "model_id": "74d3bd26e8424c808bf5afecee234dbe"
            }
          },
          "metadata": {}
        },
        {
          "output_type": "display_data",
          "data": {
            "text/plain": "Saving the dataset (0/1 shards):   0%|          | 0/1 [00:00<?, ? examples/s]",
            "application/vnd.jupyter.widget-view+json": {
              "version_major": 2,
              "version_minor": 0,
              "model_id": "b1f117207023449cbd3800b50d123d96"
            }
          },
          "metadata": {}
        },
        {
          "name": "stderr",
          "text": "0batch [00:00, ?batch/s]",
          "output_type": "stream"
        },
        {
          "name": "stdout",
          "text": "---------------------------------\n| batch_size        | 32        |\n| bc/               |           |\n|    batch          | 0         |\n|    ent_loss       | -8.21e-07 |\n|    entropy        | 0.000821  |\n|    epoch          | 0         |\n|    l2_loss        | 0         |\n|    l2_norm        | 434       |\n|    loss           | 0.000113  |\n|    neglogp        | 0.000114  |\n|    prob_true_act  | 1         |\n|    samples_so_far | 32        |\n| rollout/          |           |\n|    return_max     | 191       |\n|    return_mean    | 160       |\n|    return_min     | 127       |\n|    return_std     | 26.4      |\n---------------------------------\n",
          "output_type": "stream"
        },
        {
          "name": "stderr",
          "text": "202batch [00:01, 200.01batch/s]\n401batch [00:02, 217.10batch/s]\u001b[A\n492batch [00:03, 219.16batch/s]\u001b[A",
          "output_type": "stream"
        },
        {
          "name": "stdout",
          "text": "---------------------------------\n| batch_size        | 32        |\n| bc/               |           |\n|    batch          | 500       |\n|    ent_loss       | -4.93e-06 |\n|    entropy        | 0.00493   |\n|    epoch          | 2         |\n|    l2_loss        | 0         |\n|    l2_norm        | 438       |\n|    loss           | 0.000845  |\n|    neglogp        | 0.00085   |\n|    prob_true_act  | 0.999     |\n|    samples_so_far | 16032     |\n| rollout/          |           |\n|    return_max     | 138       |\n|    return_mean    | 132       |\n|    return_min     | 127       |\n|    return_std     | 3.58      |\n---------------------------------\n",
          "output_type": "stream"
        },
        {
          "name": "stderr",
          "text": "621batch [00:04, 163.90batch/s]\n820batch [00:05, 210.23batch/s]\u001b[A\n832batch [00:05, 158.47batch/s]\u001b[A\n",
          "output_type": "stream"
        },
        {
          "name": "stdout",
          "text": "DAgger Training - Step 6000: Mean Reward = 138.3\n",
          "output_type": "stream"
        },
        {
          "output_type": "display_data",
          "data": {
            "text/plain": "Saving the dataset (0/1 shards):   0%|          | 0/1 [00:00<?, ? examples/s]",
            "application/vnd.jupyter.widget-view+json": {
              "version_major": 2,
              "version_minor": 0,
              "model_id": "9f980acddc20416abbe3dd4f8c52297b"
            }
          },
          "metadata": {}
        },
        {
          "output_type": "display_data",
          "data": {
            "text/plain": "Saving the dataset (0/1 shards):   0%|          | 0/1 [00:00<?, ? examples/s]",
            "application/vnd.jupyter.widget-view+json": {
              "version_major": 2,
              "version_minor": 0,
              "model_id": "67641b7463be4838b5d296658029196c"
            }
          },
          "metadata": {}
        },
        {
          "output_type": "display_data",
          "data": {
            "text/plain": "Saving the dataset (0/1 shards):   0%|          | 0/1 [00:00<?, ? examples/s]",
            "application/vnd.jupyter.widget-view+json": {
              "version_major": 2,
              "version_minor": 0,
              "model_id": "9d29a5b1f4d94ba7adffa15b88183c24"
            }
          },
          "metadata": {}
        },
        {
          "output_type": "display_data",
          "data": {
            "text/plain": "Saving the dataset (0/1 shards):   0%|          | 0/1 [00:00<?, ? examples/s]",
            "application/vnd.jupyter.widget-view+json": {
              "version_major": 2,
              "version_minor": 0,
              "model_id": "e884fc67cf8942d08daf54f753a1b127"
            }
          },
          "metadata": {}
        },
        {
          "name": "stderr",
          "text": "0batch [00:00, ?batch/s]",
          "output_type": "stream"
        },
        {
          "name": "stdout",
          "text": "---------------------------------\n| batch_size        | 32        |\n| bc/               |           |\n|    batch          | 0         |\n|    ent_loss       | -9.32e-06 |\n|    entropy        | 0.00932   |\n|    epoch          | 0         |\n|    l2_loss        | 0         |\n|    l2_norm        | 439       |\n|    loss           | 0.00181   |\n|    neglogp        | 0.00182   |\n|    prob_true_act  | 0.998     |\n|    samples_so_far | 32        |\n| rollout/          |           |\n|    return_max     | 153       |\n|    return_mean    | 134       |\n|    return_min     | 118       |\n|    return_std     | 14        |\n---------------------------------\n",
          "output_type": "stream"
        },
        {
          "name": "stderr",
          "text": "205batch [00:01, 204.86batch/s]\n449batch [00:02, 215.68batch/s]\u001b[A\n493batch [00:02, 213.12batch/s]\u001b[A",
          "output_type": "stream"
        },
        {
          "name": "stdout",
          "text": "---------------------------------\n| batch_size        | 32        |\n| bc/               |           |\n|    batch          | 500       |\n|    ent_loss       | -1.64e-05 |\n|    entropy        | 0.0164    |\n|    epoch          | 2         |\n|    l2_loss        | 0         |\n|    l2_norm        | 442       |\n|    loss           | 0.0476    |\n|    neglogp        | 0.0476    |\n|    prob_true_act  | 0.976     |\n|    samples_so_far | 16032     |\n| rollout/          |           |\n|    return_max     | 176       |\n|    return_mean    | 135       |\n|    return_min     | 119       |\n|    return_std     | 20.9      |\n---------------------------------\n",
          "output_type": "stream"
        },
        {
          "name": "stderr",
          "text": "669batch [00:04, 184.71batch/s]\n888batch [00:05, 212.69batch/s]\u001b[A\n908batch [00:05, 165.96batch/s]\u001b[A\n",
          "output_type": "stream"
        },
        {
          "output_type": "display_data",
          "data": {
            "text/plain": "Saving the dataset (0/1 shards):   0%|          | 0/1 [00:00<?, ? examples/s]",
            "application/vnd.jupyter.widget-view+json": {
              "version_major": 2,
              "version_minor": 0,
              "model_id": "e03d8e219a29453586a9560ef70b3f62"
            }
          },
          "metadata": {}
        },
        {
          "output_type": "display_data",
          "data": {
            "text/plain": "Saving the dataset (0/1 shards):   0%|          | 0/1 [00:00<?, ? examples/s]",
            "application/vnd.jupyter.widget-view+json": {
              "version_major": 2,
              "version_minor": 0,
              "model_id": "9db197810b4e49e0af01bc5d9f7fba11"
            }
          },
          "metadata": {}
        },
        {
          "output_type": "display_data",
          "data": {
            "text/plain": "Saving the dataset (0/1 shards):   0%|          | 0/1 [00:00<?, ? examples/s]",
            "application/vnd.jupyter.widget-view+json": {
              "version_major": 2,
              "version_minor": 0,
              "model_id": "7719f847e9714357adf1ac7273bd4510"
            }
          },
          "metadata": {}
        },
        {
          "output_type": "display_data",
          "data": {
            "text/plain": "Saving the dataset (0/1 shards):   0%|          | 0/1 [00:00<?, ? examples/s]",
            "application/vnd.jupyter.widget-view+json": {
              "version_major": 2,
              "version_minor": 0,
              "model_id": "13b9ef03dcbe4ab6bc5e8cf4e2dcb589"
            }
          },
          "metadata": {}
        },
        {
          "name": "stderr",
          "text": "0batch [00:00, ?batch/s]",
          "output_type": "stream"
        },
        {
          "name": "stdout",
          "text": "---------------------------------\n| batch_size        | 32        |\n| bc/               |           |\n|    batch          | 0         |\n|    ent_loss       | -4.63e-05 |\n|    entropy        | 0.0463    |\n|    epoch          | 0         |\n|    l2_loss        | 0         |\n|    l2_norm        | 445       |\n|    loss           | 0.0267    |\n|    neglogp        | 0.0268    |\n|    prob_true_act  | 0.978     |\n|    samples_so_far | 32        |\n| rollout/          |           |\n|    return_max     | 183       |\n|    return_mean    | 155       |\n|    return_min     | 136       |\n|    return_std     | 17.5      |\n---------------------------------\n",
          "output_type": "stream"
        },
        {
          "name": "stderr",
          "text": "240batch [00:01, 208.28batch/s]\n482batch [00:02, 214.66batch/s]\u001b[A\nEpoch 1 of 4                   \u001b[A",
          "output_type": "stream"
        },
        {
          "name": "stdout",
          "text": "---------------------------------\n| batch_size        | 32        |\n| bc/               |           |\n|    batch          | 500       |\n|    ent_loss       | -2.83e-05 |\n|    entropy        | 0.0283    |\n|    epoch          | 2         |\n|    l2_loss        | 0         |\n|    l2_norm        | 450       |\n|    loss           | 0.0164    |\n|    neglogp        | 0.0165    |\n|    prob_true_act  | 0.987     |\n|    samples_so_far | 16032     |\n| rollout/          |           |\n|    return_max     | 185       |\n|    return_mean    | 148       |\n|    return_min     | 115       |\n|    return_std     | 22.4      |\n---------------------------------\n",
          "output_type": "stream"
        },
        {
          "name": "stderr",
          "text": "719batch [00:04, 200.25batch/s]\n962batch [00:05, 215.00batch/s]\u001b[A\n980batch [00:06, 161.92batch/s]\u001b[A\n",
          "output_type": "stream"
        },
        {
          "name": "stdout",
          "text": "DAgger Training - Step 7000: Mean Reward = 135.6\n",
          "output_type": "stream"
        },
        {
          "output_type": "display_data",
          "data": {
            "text/plain": "Saving the dataset (0/1 shards):   0%|          | 0/1 [00:00<?, ? examples/s]",
            "application/vnd.jupyter.widget-view+json": {
              "version_major": 2,
              "version_minor": 0,
              "model_id": "cd16820e31814bde8749269fef308a0d"
            }
          },
          "metadata": {}
        },
        {
          "output_type": "display_data",
          "data": {
            "text/plain": "Saving the dataset (0/1 shards):   0%|          | 0/1 [00:00<?, ? examples/s]",
            "application/vnd.jupyter.widget-view+json": {
              "version_major": 2,
              "version_minor": 0,
              "model_id": "e752778571da495e9309987c8a21bf63"
            }
          },
          "metadata": {}
        },
        {
          "output_type": "display_data",
          "data": {
            "text/plain": "Saving the dataset (0/1 shards):   0%|          | 0/1 [00:00<?, ? examples/s]",
            "application/vnd.jupyter.widget-view+json": {
              "version_major": 2,
              "version_minor": 0,
              "model_id": "1671ccb55d12454c9262d1d3307b1a55"
            }
          },
          "metadata": {}
        },
        {
          "output_type": "display_data",
          "data": {
            "text/plain": "Saving the dataset (0/1 shards):   0%|          | 0/1 [00:00<?, ? examples/s]",
            "application/vnd.jupyter.widget-view+json": {
              "version_major": 2,
              "version_minor": 0,
              "model_id": "911ae1f0adfe4fb1a85cec1741574e02"
            }
          },
          "metadata": {}
        },
        {
          "name": "stderr",
          "text": "0batch [00:00, ?batch/s]",
          "output_type": "stream"
        },
        {
          "name": "stdout",
          "text": "---------------------------------\n| batch_size        | 32        |\n| bc/               |           |\n|    batch          | 0         |\n|    ent_loss       | -2.81e-05 |\n|    entropy        | 0.0281    |\n|    epoch          | 0         |\n|    l2_loss        | 0         |\n|    l2_norm        | 453       |\n|    loss           | 0.0287    |\n|    neglogp        | 0.0287    |\n|    prob_true_act  | 0.98      |\n|    samples_so_far | 32        |\n| rollout/          |           |\n|    return_max     | 200       |\n|    return_mean    | 141       |\n|    return_min     | 114       |\n|    return_std     | 30.3      |\n---------------------------------\n",
          "output_type": "stream"
        },
        {
          "name": "stderr",
          "text": "245batch [00:01, 199.45batch/s]\n486batch [00:02, 210.36batch/s]\u001b[A",
          "output_type": "stream"
        },
        {
          "name": "stdout",
          "text": "---------------------------------\n| batch_size        | 32        |\n| bc/               |           |\n|    batch          | 500       |\n|    ent_loss       | -9.41e-06 |\n|    entropy        | 0.00941   |\n|    epoch          | 1         |\n|    l2_loss        | 0         |\n|    l2_norm        | 457       |\n|    loss           | 0.00218   |\n|    neglogp        | 0.00219   |\n|    prob_true_act  | 0.998     |\n|    samples_so_far | 16032     |\n| rollout/          |           |\n|    return_max     | 149       |\n|    return_mean    | 133       |\n|    return_min     | 119       |\n|    return_std     | 9.57      |\n---------------------------------\n",
          "output_type": "stream"
        },
        {
          "name": "stderr",
          "text": "530batch [00:03, 92.94batch/s] \n795batch [00:05, 213.35batch/s][A\n993batch [00:05, 216.75batch/s]\u001b[A",
          "output_type": "stream"
        },
        {
          "name": "stdout",
          "text": "---------------------------------\n| batch_size        | 32        |\n| bc/               |           |\n|    batch          | 1000      |\n|    ent_loss       | -9.14e-07 |\n|    entropy        | 0.000914  |\n|    epoch          | 3         |\n|    l2_loss        | 0         |\n|    l2_norm        | 461       |\n|    loss           | 0.000142  |\n|    neglogp        | 0.000143  |\n|    prob_true_act  | 1         |\n|    samples_so_far | 32032     |\n| rollout/          |           |\n|    return_max     | 148       |\n|    return_mean    | 136       |\n|    return_min     | 124       |\n|    return_std     | 8.95      |\n---------------------------------\n",
          "output_type": "stream"
        },
        {
          "name": "stderr",
          "text": "1059batch [00:06, 111.67batch/s]\n1060batch [00:06, 153.03batch/s]\u001b[A\n",
          "output_type": "stream"
        },
        {
          "output_type": "display_data",
          "data": {
            "text/plain": "Saving the dataset (0/1 shards):   0%|          | 0/1 [00:00<?, ? examples/s]",
            "application/vnd.jupyter.widget-view+json": {
              "version_major": 2,
              "version_minor": 0,
              "model_id": "e86fc264ecec4e768fb46795c01ec465"
            }
          },
          "metadata": {}
        },
        {
          "output_type": "display_data",
          "data": {
            "text/plain": "Saving the dataset (0/1 shards):   0%|          | 0/1 [00:00<?, ? examples/s]",
            "application/vnd.jupyter.widget-view+json": {
              "version_major": 2,
              "version_minor": 0,
              "model_id": "be658467abba4886b13ad183616a17b8"
            }
          },
          "metadata": {}
        },
        {
          "output_type": "display_data",
          "data": {
            "text/plain": "Saving the dataset (0/1 shards):   0%|          | 0/1 [00:00<?, ? examples/s]",
            "application/vnd.jupyter.widget-view+json": {
              "version_major": 2,
              "version_minor": 0,
              "model_id": "8909309c56eb4e6ba978d6478abf3eb4"
            }
          },
          "metadata": {}
        },
        {
          "output_type": "display_data",
          "data": {
            "text/plain": "Saving the dataset (0/1 shards):   0%|          | 0/1 [00:00<?, ? examples/s]",
            "application/vnd.jupyter.widget-view+json": {
              "version_major": 2,
              "version_minor": 0,
              "model_id": "e35c00f99e7a489dbcfd9d95bb927c5b"
            }
          },
          "metadata": {}
        },
        {
          "name": "stderr",
          "text": "0batch [00:00, ?batch/s]",
          "output_type": "stream"
        },
        {
          "name": "stdout",
          "text": "---------------------------------\n| batch_size        | 32        |\n| bc/               |           |\n|    batch          | 0         |\n|    ent_loss       | -1.53e-05 |\n|    entropy        | 0.0153    |\n|    epoch          | 0         |\n|    l2_loss        | 0         |\n|    l2_norm        | 462       |\n|    loss           | 0.00657   |\n|    neglogp        | 0.00658   |\n|    prob_true_act  | 0.994     |\n|    samples_so_far | 32        |\n| rollout/          |           |\n|    return_max     | 167       |\n|    return_mean    | 147       |\n|    return_min     | 119       |\n|    return_std     | 17.4      |\n---------------------------------\n",
          "output_type": "stream"
        },
        {
          "name": "stderr",
          "text": "265batch [00:01, 200.49batch/s]\n485batch [00:02, 216.04batch/s]\u001b[A",
          "output_type": "stream"
        },
        {
          "name": "stdout",
          "text": "---------------------------------\n| batch_size        | 32        |\n| bc/               |           |\n|    batch          | 500       |\n|    ent_loss       | -2.11e-06 |\n|    entropy        | 0.00211   |\n|    epoch          | 1         |\n|    l2_loss        | 0         |\n|    l2_norm        | 466       |\n|    loss           | 0.000387  |\n|    neglogp        | 0.000389  |\n|    prob_true_act  | 1         |\n|    samples_so_far | 16032     |\n| rollout/          |           |\n|    return_max     | 196       |\n|    return_mean    | 154       |\n|    return_min     | 130       |\n|    return_std     | 22.6      |\n---------------------------------\n",
          "output_type": "stream"
        },
        {
          "name": "stderr",
          "text": "551batch [00:03, 106.69batch/s]\n831batch [00:05, 198.34batch/s]\u001b[A\n985batch [00:06, 213.79batch/s]\u001b[A",
          "output_type": "stream"
        },
        {
          "name": "stdout",
          "text": "---------------------------------\n| batch_size        | 32        |\n| bc/               |           |\n|    batch          | 1000      |\n|    ent_loss       | -8.95e-07 |\n|    entropy        | 0.000895  |\n|    epoch          | 3         |\n|    l2_loss        | 0         |\n|    l2_norm        | 470       |\n|    loss           | 0.000116  |\n|    neglogp        | 0.000117  |\n|    prob_true_act  | 1         |\n|    samples_so_far | 32032     |\n| rollout/          |           |\n|    return_max     | 204       |\n|    return_mean    | 176       |\n|    return_min     | 138       |\n|    return_std     | 26.9      |\n---------------------------------\n",
          "output_type": "stream"
        },
        {
          "name": "stderr",
          "text": "1136batch [00:07, 162.55batch/s]\n1136batch [00:07, 148.66batch/s]\u001b[A\n",
          "output_type": "stream"
        },
        {
          "name": "stdout",
          "text": "DAgger Training - Step 8000: Mean Reward = 155.4\n",
          "output_type": "stream"
        }
      ],
      "execution_count": null
    },
    {
      "id": "b3e844a7",
      "cell_type": "code",
      "source": [
        "# Plot the rewards for Regular A2C Training and DAgger Training\n",
        "plt.figure(figsize=(10, 6))\n",
        "plt.plot(range(0, 10000, 1000), regular_rewards, label=\"A2C Regular Training\", marker=\"o\")\n",
        "plt.plot(range(0, 8000, 1000), dagger_rewards, label=\"DAgger Training\", marker=\"o\")\n",
        "\n",
        "plt.xlabel(\"Timesteps\")\n",
        "plt.ylabel(\"Mean Reward\")\n",
        "plt.title(\"Comparison of A2C and DAgger Training Rewards\")\n",
        "plt.legend()\n",
        "\n",
        "plt.grid(True)\n",
        "plt.show()"
      ],
      "metadata": {
        "trusted": true,
        "execution": {
          "iopub.status.busy": "2025-08-04T05:33:16.970902Z",
          "iopub.execute_input": "2025-08-04T05:33:16.971142Z",
          "iopub.status.idle": "2025-08-04T05:33:17.144011Z",
          "shell.execute_reply.started": "2025-08-04T05:33:16.971123Z",
          "shell.execute_reply": "2025-08-04T05:33:17.143330Z"
        },
        "id": "b3e844a7",
        "outputId": "507a1abf-9d86-492c-a4d6-66e11e3e40d1"
      },
      "outputs": [
        {
          "output_type": "display_data",
          "data": {
            "text/plain": "<Figure size 1000x600 with 1 Axes>",
            "image/png": "[encoded data removed]"
          },
          "metadata": {}
        }
      ],
      "execution_count": null
    },
    {
      "id": "efd02210",
      "cell_type": "markdown",
      "source": [
        "# Training a GAIL Model Using an Expert Policy\n",
        "\n",
        "In this section, we walk through the process of setting up and training a **Generative Adversarial Imitation Learning (GAIL)** model using a pre-trained expert in environments such as `CartPole-v1`, `Pendulum-v0`, and `BipedalWalker-v3`.\n",
        "\n",
        "The full pipeline includes:\n",
        "- Setting up directories and configurations,\n",
        "- Loading and validating the environment,\n",
        "- Initializing expert and GAIL models,\n",
        "- Training GAIL using the expert’s behavior,\n",
        "- Saving the final results and model weights.\n",
        "\n",
        "## Summary\n",
        "\n",
        "This pipeline implements a complete imitation learning workflow using GAIL. The process involves:\n",
        "- Setting up a Gym-compatible environment,\n",
        "- Loading a pre-trained expert model,\n",
        "- Training a GAIL agent to mimic the expert,\n",
        "- Storing the training results and model artifacts.\n",
        "\n",
        "By following this structure, we can compare GAIL's performance to reinforcement learning approaches like PPO or A2C, and evaluate the efficiency of learning from demonstrations.\n",
        "\n",
        "---\n"
      ],
      "metadata": {
        "id": "efd02210"
      }
    },
    {
      "id": "4cf3e0d3",
      "cell_type": "markdown",
      "source": [
        "### **1. `setup_directories(env_name)`** (5 Points)\n",
        "\n",
        "```python\n",
        "This function handles directory setup and expert configuration:\n",
        "- Creates a base checkpoint directory (`ckpts/`).\n",
        "- Validates if the provided environment name is supported.\n",
        "- Loads the expert model configuration from a JSON file.\n",
        "- Creates a subdirectory for storing environment-specific checkpoints.\n",
        "\n",
        "**Purpose:** Prepare the file system and load settings for the expert model."
      ],
      "metadata": {
        "id": "4cf3e0d3"
      }
    },
    {
      "id": "6bf4252e-20fd-444d-a5fa-13e51d16d66b",
      "cell_type": "code",
      "source": [
        "import os\n",
        "import json\n",
        "import pickle\n",
        "import argparse\n",
        "import torch\n",
        "import gym\n",
        "import sys\n",
        "import matplotlib.pyplot as plt\n",
        "import zipfile\n",
        "\n",
        "# First, unzip the utils folder\n",
        "with zipfile.ZipFile('utils.zip', 'r') as zip_ref:\n",
        "    zip_ref.extractall('.')\n",
        "\n",
        "# Add utils directory to Python path and import necessary modules\n",
        "sys.path.append('./utils')\n",
        "\n",
        "from nets import *\n",
        "from gail import *\n",
        "from funcs import *"
      ],
      "metadata": {
        "trusted": true,
        "id": "6bf4252e-20fd-444d-a5fa-13e51d16d66b"
      },
      "outputs": [],
      "execution_count": 13
    },
    {
      "id": "6a08ebd1",
      "cell_type": "code",
      "source": [
        "def setup_directories(env_name):\n",
        "    # Create checkpoint directory\n",
        "    ckpt_path = \"ckpts\"\n",
        "    if not os.path.isdir(ckpt_path):\n",
        "        os.mkdir(ckpt_path)\n",
        "\n",
        "    # Validate environment name\n",
        "    if env_name not in [\"CartPole-v1\", \"Pendulum-v0\", \"BipedalWalker-v3\"]:\n",
        "        print(\"The environment name is wrong!\")\n",
        "        return None\n",
        "\n",
        "    # Set expert checkpoint path to utils directory\n",
        "    expert_ckpt_path = \"./utils\"\n",
        "\n",
        "    # Load expert config from utils/config.json\n",
        "    expert_config_file = os.path.join(expert_ckpt_path, \"config.json\")\n",
        "    if not os.path.exists(expert_config_file):\n",
        "        print(f\"Expert config file not found at {expert_config_file}\")\n",
        "        return None\n",
        "\n",
        "    with open(expert_config_file, 'r') as f:\n",
        "        expert_config = json.load(f)\n",
        "\n",
        "    # Create environment-specific checkpoint directory\n",
        "    ckpt_path = os.path.join(ckpt_path, env_name)\n",
        "    if not os.path.isdir(ckpt_path):\n",
        "        os.makedirs(ckpt_path)\n",
        "\n",
        "    print(f\"Setup complete - using expert config from {expert_config_file}\")\n",
        "    return expert_ckpt_path, expert_config, ckpt_path"
      ],
      "metadata": {
        "id": "6a08ebd1"
      },
      "outputs": [],
      "execution_count": 14
    },
    {
      "id": "47a4cda3",
      "cell_type": "markdown",
      "source": [
        "### **2. `load_and_save_configs(expert_ckpt_path, ckpt_path, env_name)`** (10 Points)\n",
        "- Loads a general configuration file (`config.json`) that contains training hyperparameters specific to the environment.\n",
        "- Saves these configurations to the current checkpoint folder for logging and reproducibility.\n",
        "\n",
        "**Purpose:** Fetch and store hyperparameters needed for training the GAIL model."
      ],
      "metadata": {
        "id": "47a4cda3"
      }
    },
    {
      "id": "9551c18e",
      "cell_type": "code",
      "source": [
        "def load_and_save_configs(expert_ckpt_path, ckpt_path, env_name):\n",
        "    # Load the config.json file from utils directory\n",
        "    config_file = os.path.join(expert_ckpt_path, \"config.json\")\n",
        "    if not os.path.exists(config_file):\n",
        "        print(f\"Config file not found at {config_file}\")\n",
        "        return None\n",
        "\n",
        "    with open(config_file, 'r') as f:\n",
        "        config = json.load(f)\n",
        "\n",
        "    # Save the config to the checkpoint directory for reproducibility\n",
        "    config_save_path = os.path.join(ckpt_path, \"config.json\")\n",
        "    with open(config_save_path, 'w') as f:\n",
        "        json.dump(config, f, indent=4)\n",
        "\n",
        "    print(f\"Configuration loaded from {config_file} and saved to {config_save_path}\")\n",
        "    return config"
      ],
      "metadata": {
        "id": "9551c18e"
      },
      "outputs": [],
      "execution_count": 15
    },
    {
      "id": "57da1775",
      "cell_type": "markdown",
      "source": [
        "### **3. `setup_environment(env_name)`** (10 Points)\n",
        "\n",
        "- Initializes the chosen environment using OpenAI Gym.\n",
        "- Extracts the dimensions of the state and action spaces.\n",
        "- Checks whether the action space is discrete (e.g., CartPole) or continuous (e.g., Pendulum).\n",
        "\n",
        "**Purpose:** Provide key environment information for model initialization.\n"
      ],
      "metadata": {
        "id": "57da1775"
      }
    },
    {
      "id": "9305537e",
      "cell_type": "code",
      "source": [
        "def setup_environment(env_name):\n",
        "    # Create the environment\n",
        "    env = gym.make(env_name)\n",
        "\n",
        "    # Get state dimension\n",
        "    state_dim = env.observation_space.shape[0]\n",
        "\n",
        "    # Check if action space is discrete or continuous and get action dimension\n",
        "    if hasattr(env.action_space, 'n'):  # Discrete action space\n",
        "        action_dim = env.action_space.n\n",
        "        discrete = True\n",
        "    else:  # Continuous action space\n",
        "        action_dim = env.action_space.shape[0]\n",
        "        discrete = False\n",
        "\n",
        "    return env, state_dim, action_dim, discrete"
      ],
      "metadata": {
        "id": "9305537e"
      },
      "outputs": [],
      "execution_count": 16
    },
    {
      "id": "45678fbc",
      "cell_type": "markdown",
      "source": [
        "### **4. `setup_device()`** (+5 Points for running on GPU)\n",
        "- Checks if a GPU (`cuda`) is available.\n",
        "- Falls back to CPU if GPU is not detected.\n",
        "\n",
        "**Purpose:** Ensure the training runs on the optimal hardware available.\n"
      ],
      "metadata": {
        "id": "45678fbc"
      }
    },
    {
      "id": "97a6533c",
      "cell_type": "code",
      "source": [
        "def setup_device():\n",
        "    # Check if CUDA is available and set device accordingly\n",
        "    if torch.cuda.is_available():\n",
        "        device = torch.device(\"cuda\")\n",
        "        print(f\"Using GPU: {torch.cuda.get_device_name(0)}\")\n",
        "    else:\n",
        "        device = torch.device(\"cpu\")\n",
        "        print(\"CUDA not available. Using CPU.\")\n",
        "\n",
        "    return device"
      ],
      "metadata": {
        "id": "97a6533c"
      },
      "outputs": [],
      "execution_count": 17
    },
    {
      "id": "b1c6e95b",
      "cell_type": "markdown",
      "source": [
        "### **5. `initialize_expert(...)`** (15 Points)\n",
        "\n",
        "- Initializes an `Expert` model using its architecture config and environment dimensions.\n",
        "- Loads pre-trained policy weights (`policy.ckpt`) from the expert checkpoint.\n",
        "\n",
        "**Purpose:** Prepare a high-performance expert model whose behavior GAIL will learn to imitate."
      ],
      "metadata": {
        "id": "b1c6e95b"
      }
    },
    {
      "id": "7cde7652",
      "cell_type": "code",
      "source": [
        "def initialize_expert(expert_ckpt_path, state_dim, action_dim, discrete, expert_config, device, env_name):\n",
        "    # Get the environment-specific config\n",
        "    if env_name in expert_config:\n",
        "        train_config = expert_config[env_name]\n",
        "    else:\n",
        "        print(f\"No configuration found for environment: {env_name}\")\n",
        "        return None\n",
        "\n",
        "    # Initialize the Expert model with the correct parameters\n",
        "    expert = Expert(\n",
        "        state_dim=state_dim,\n",
        "        action_dim=action_dim,\n",
        "        discrete=discrete,\n",
        "        train_config=train_config\n",
        "    ).to(device)\n",
        "\n",
        "    # Load the policy checkpoint for the expert\n",
        "    policy_checkpoint_path = os.path.join(expert_ckpt_path, \"policy.ckpt\")\n",
        "    if not os.path.exists(policy_checkpoint_path):\n",
        "        print(f\"Expert policy checkpoint not found at {policy_checkpoint_path}\")\n",
        "        return None\n",
        "\n",
        "    # Load the trained weights\n",
        "    expert.pi.load_state_dict(torch.load(policy_checkpoint_path, map_location=device))\n",
        "    expert.eval()  # Set to evaluation mode\n",
        "\n",
        "    print(f\"Expert model loaded from {policy_checkpoint_path}\")\n",
        "    return expert"
      ],
      "metadata": {
        "id": "7cde7652"
      },
      "outputs": [],
      "execution_count": 18
    },
    {
      "id": "95af9d8f",
      "cell_type": "markdown",
      "source": [
        "### **6. `initialize_gail_model(...)`** (15 Points)\n",
        "- Initializes the `GAIL` model using environment specs and configuration parameters.\n",
        "- The model includes a policy, value function, and discriminator.\n",
        "\n",
        "**Purpose:** Set up the GAIL agent that learns by interacting with the environment and distinguishing between expert and learner behavior.\n"
      ],
      "metadata": {
        "id": "95af9d8f"
      }
    },
    {
      "id": "b86d7ec1",
      "cell_type": "code",
      "source": [
        "def initialize_gail_model(state_dim, action_dim, discrete, config, device):\n",
        "    # Initialize the GAIL model with the correct parameters\n",
        "    model = GAIL(\n",
        "        state_dim=state_dim,\n",
        "        action_dim=action_dim,\n",
        "        discrete=discrete,\n",
        "        train_config=config\n",
        "    ).to(device)\n",
        "\n",
        "    print(f\"GAIL model initialized with state_dim={state_dim}, action_dim={action_dim}, discrete={discrete}\")\n",
        "    return model"
      ],
      "metadata": {
        "id": "b86d7ec1"
      },
      "outputs": [],
      "execution_count": 19
    },
    {
      "id": "3967f575",
      "cell_type": "markdown",
      "source": [
        "### **7. `train_gail_model(model, env, expert)`** (20 Points)\n",
        "- Runs the training loop for the GAIL agent.\n",
        "- The GAIL model tries to imitate the expert by fooling the discriminator into thinking the learner’s actions come from the expert.\n",
        "\n",
        "**Purpose:** Train the policy using imitation learning via adversarial training.\n"
      ],
      "metadata": {
        "id": "3967f575"
      }
    },
    {
      "id": "bb6cc0c0",
      "cell_type": "code",
      "source": [
        "def train_gail_model(model, env, expert):\n",
        "    # Verify the training loop is functioning as expected\n",
        "    results = model.train(env, expert)\n",
        "    return results"
      ],
      "metadata": {
        "id": "bb6cc0c0"
      },
      "outputs": [],
      "execution_count": 20
    },
    {
      "id": "a94c5b6d",
      "cell_type": "markdown",
      "source": [
        "### **8. `save_results_and_checkpoints(...)`** (+5 Points)\n",
        "- Saves training results (e.g., episode returns) as a pickle file.\n",
        "- Saves the weights of the trained components: policy, value network, and discriminator.\n",
        "\n",
        "**Purpose:** Store the final model and results for evaluation and future use.\n"
      ],
      "metadata": {
        "id": "a94c5b6d"
      }
    },
    {
      "id": "0e18dafa",
      "cell_type": "code",
      "source": [
        "def save_results_and_checkpoints(ckpt_path, results, model):\n",
        "    # Save training results as a pickle file\n",
        "    results_path = os.path.join(ckpt_path, \"results.pkl\")\n",
        "    with open(results_path, 'wb') as f:\n",
        "        pickle.dump(results, f)\n",
        "    print(f\"Training results saved to {results_path}\")\n",
        "\n",
        "    # Save model weights for each component\n",
        "    # Save policy network\n",
        "    policy_path = os.path.join(ckpt_path, \"policy.ckpt\")\n",
        "    torch.save(model.pi.state_dict(), policy_path)\n",
        "\n",
        "    # Save value network\n",
        "    value_path = os.path.join(ckpt_path, \"value.ckpt\")\n",
        "    torch.save(model.v.state_dict(), value_path)\n",
        "\n",
        "    # Save discriminator network\n",
        "    discriminator_path = os.path.join(ckpt_path, \"discriminator.ckpt\")\n",
        "    torch.save(model.d.state_dict(), discriminator_path)\n",
        "\n",
        "    print(f\"Model checkpoints saved:\")\n",
        "    print(f\"  - Policy: {policy_path}\")\n",
        "    print(f\"  - Value: {value_path}\")\n",
        "    print(f\"  - Discriminator: {discriminator_path}\")"
      ],
      "metadata": {
        "id": "0e18dafa"
      },
      "outputs": [],
      "execution_count": 21
    },
    {
      "id": "3c10ba5b",
      "cell_type": "markdown",
      "source": [
        "### 9. **`main()`** (25 Points)\n",
        "- The main function orchestrates the entire GAIL training process.\n",
        "- It calls all the above functions in sequence to set up directories, load configurations, initialize models, train the GAIL agent, and save results.\n"
      ],
      "metadata": {
        "id": "3c10ba5b"
      }
    },
    {
      "id": "7ca58aa5",
      "cell_type": "code",
      "source": [
        "def main(env_name):\n",
        "    # Set up directories and validate environment\n",
        "    expert_ckpt_path, expert_config, ckpt_path = setup_directories(env_name)\n",
        "    if not expert_ckpt_path:\n",
        "        return\n",
        "    # Load and save configuration files\n",
        "    config = load_and_save_configs(expert_ckpt_path, ckpt_path, env_name)\n",
        "    # Set up environment and get dimensions\n",
        "    env, state_dim, action_dim, discrete = setup_environment(env_name)\n",
        "    # Set up the device (CPU or GPU)\n",
        "    device = setup_device()\n",
        "    # Initialize expert model\n",
        "    expert = initialize_expert(expert_ckpt_path, state_dim, action_dim, discrete, expert_config, device, env_name)\n",
        "    if expert is None:\n",
        "        print(\"Failed to initialize expert model. Exiting.\")\n",
        "        return\n",
        "    # Initialize GAIL model\n",
        "    model = initialize_gail_model(state_dim, action_dim, discrete, config[env_name], device)\n",
        "    # Train the GAIL model\n",
        "    results = train_gail_model(model, env, expert)\n",
        "    # Close the environment\n",
        "    env.close()\n",
        "    # Save results and model checkpoints\n",
        "    save_results_and_checkpoints(ckpt_path, results, model)"
      ],
      "metadata": {
        "id": "7ca58aa5"
      },
      "outputs": [],
      "execution_count": 22
    },
    {
      "id": "33ca5295",
      "cell_type": "markdown",
      "source": [
        "### 10. **`run_gail(env_name)`** (+5 Points if using parse_args)\n",
        "- This function serves as the entry point for running the GAIL training pipeline.\n",
        "- It accepts an environment name as input and executes the entire GAIL training process.\n"
      ],
      "metadata": {
        "id": "33ca5295"
      }
    },
    {
      "id": "2c3c91df",
      "cell_type": "code",
      "source": [
        "# Fix for newer NumPy versions\n",
        "if not hasattr(np, 'bool8'):\n",
        "    np.bool8 = np.bool_\n",
        "if not hasattr(np, 'int0'):\n",
        "    np.int0 = np.intp\n",
        "\n",
        "# Ensure that the command-line arguments are parsed correctly\n",
        "parser = argparse.ArgumentParser(description='Train GAIL model with expert policy')\n",
        "parser.add_argument('--env', type=str, default='CartPole-v1',\n",
        "                    choices=['CartPole-v1', 'Pendulum-v0', 'BipedalWalker-v3'],\n",
        "                    help='Environment name for GAIL training')\n",
        "\n",
        "# For Jupyter notebook, we need to handle the case where no command line args exist\n",
        "try:\n",
        "    args = parser.parse_args()\n",
        "except SystemExit:\n",
        "    # If running in Jupyter, use default arguments\n",
        "    args = argparse.Namespace(env='CartPole-v1')\n",
        "\n",
        "# Run the Main Function\n",
        "# Verify that the correct environment name is passed to the main function\n",
        "main(args.env)"
      ],
      "metadata": {
        "id": "2c3c91df",
        "colab": {
          "base_uri": "https://localhost:8080/"
        },
        "outputId": "84727232-3166-48fa-888f-aff4f376c22b"
      },
      "outputs": [
        {
          "output_type": "stream",
          "name": "stderr",
          "text": [
            "usage: colab_kernel_launcher.py [-h]\n",
            "                                [--env {CartPole-v1,Pendulum-v0,BipedalWalker-v3}]\n",
            "colab_kernel_launcher.py: error: unrecognized arguments: -f /root/.local/share/jupyter/runtime/kernel-2943b63c-ce2e-4f17-8783-a73418d61ab5.json\n",
            "/usr/local/lib/python3.11/dist-packages/gym/core.py:317: DeprecationWarning: \u001b[33mWARN: Initializing wrapper in old step API which returns one bool instead of two. It is recommended to set `new_step_api=True` to use new step API. This will be the default behaviour in future.\u001b[0m\n",
            "  deprecation(\n",
            "/usr/local/lib/python3.11/dist-packages/gym/wrappers/step_api_compatibility.py:39: DeprecationWarning: \u001b[33mWARN: Initializing environment in old step API which returns one bool instead of two. It is recommended to set `new_step_api=True` to use new step API. This will be the default behaviour in future.\u001b[0m\n",
            "  deprecation(\n"
          ]
        },
        {
          "output_type": "stream",
          "name": "stdout",
          "text": [
            "Setup complete - using expert config from ./utils/config.json\n",
            "Configuration loaded from ./utils/config.json and saved to ckpts/CartPole-v1/config.json\n",
            "Using GPU: Tesla T4\n",
            "Expert model loaded from ./utils/policy.ckpt\n",
            "GAIL model initialized with state_dim=4, action_dim=2, discrete=True\n",
            "Expert Reward Mean: 500.0\n",
            "Iterations: 1,   Reward Mean: 23.058139534883722\n",
            "Iterations: 2,   Reward Mean: 24.25925925925926\n",
            "Iterations: 3,   Reward Mean: 34.89473684210526\n",
            "Iterations: 4,   Reward Mean: 50.61538461538461\n",
            "Iterations: 5,   Reward Mean: 74.96\n",
            "Iterations: 6,   Reward Mean: 170.8181818181818\n",
            "Iterations: 7,   Reward Mean: 164.91666666666666\n",
            "Iterations: 8,   Reward Mean: 232.625\n",
            "Iterations: 9,   Reward Mean: 317.5\n",
            "Iterations: 10,   Reward Mean: 313.5\n",
            "Iterations: 11,   Reward Mean: 422.75\n",
            "Iterations: 12,   Reward Mean: 311.5\n",
            "Iterations: 13,   Reward Mean: 375.6\n",
            "Iterations: 14,   Reward Mean: 316.5\n",
            "Iterations: 15,   Reward Mean: 457.25\n",
            "Iterations: 16,   Reward Mean: 488.5\n",
            "Iterations: 17,   Reward Mean: 490.0\n",
            "Iterations: 18,   Reward Mean: 447.25\n",
            "Iterations: 19,   Reward Mean: 394.2\n",
            "Iterations: 20,   Reward Mean: 454.0\n",
            "Iterations: 21,   Reward Mean: 500.0\n",
            "Iterations: 22,   Reward Mean: 490.5\n",
            "Iterations: 23,   Reward Mean: 481.5\n",
            "Iterations: 24,   Reward Mean: 482.25\n",
            "Iterations: 25,   Reward Mean: 500.0\n",
            "Iterations: 26,   Reward Mean: 361.6\n",
            "Iterations: 27,   Reward Mean: 470.25\n",
            "Iterations: 28,   Reward Mean: 413.5\n",
            "Iterations: 29,   Reward Mean: 472.25\n",
            "Iterations: 30,   Reward Mean: 466.0\n",
            "Iterations: 31,   Reward Mean: 500.0\n",
            "Iterations: 32,   Reward Mean: 500.0\n",
            "Iterations: 33,   Reward Mean: 500.0\n",
            "Iterations: 34,   Reward Mean: 476.5\n",
            "Iterations: 35,   Reward Mean: 483.0\n",
            "Iterations: 36,   Reward Mean: 422.75\n",
            "Iterations: 37,   Reward Mean: 437.25\n",
            "Iterations: 38,   Reward Mean: 387.4\n",
            "Iterations: 39,   Reward Mean: 313.1666666666667\n",
            "Iterations: 40,   Reward Mean: 308.5\n",
            "Iterations: 41,   Reward Mean: 378.8\n",
            "Iterations: 42,   Reward Mean: 443.75\n",
            "Iterations: 43,   Reward Mean: 500.0\n",
            "Iterations: 44,   Reward Mean: 408.25\n",
            "Iterations: 45,   Reward Mean: 500.0\n",
            "Iterations: 46,   Reward Mean: 500.0\n",
            "Iterations: 47,   Reward Mean: 500.0\n",
            "Iterations: 48,   Reward Mean: 475.25\n",
            "Iterations: 49,   Reward Mean: 489.25\n",
            "Iterations: 50,   Reward Mean: 454.5\n",
            "Iterations: 51,   Reward Mean: 499.75\n",
            "Iterations: 52,   Reward Mean: 471.75\n",
            "Iterations: 53,   Reward Mean: 500.0\n",
            "Iterations: 54,   Reward Mean: 366.6\n",
            "Iterations: 55,   Reward Mean: 399.0\n",
            "Iterations: 56,   Reward Mean: 374.8\n",
            "Iterations: 57,   Reward Mean: 500.0\n",
            "Iterations: 58,   Reward Mean: 269.6666666666667\n",
            "Iterations: 59,   Reward Mean: 377.8\n",
            "Iterations: 60,   Reward Mean: 435.25\n",
            "Iterations: 61,   Reward Mean: 436.75\n",
            "Iterations: 62,   Reward Mean: 484.0\n",
            "Iterations: 63,   Reward Mean: 500.0\n",
            "Iterations: 64,   Reward Mean: 497.25\n",
            "Iterations: 65,   Reward Mean: 500.0\n",
            "Iterations: 66,   Reward Mean: 500.0\n",
            "Iterations: 67,   Reward Mean: 370.8\n",
            "Iterations: 68,   Reward Mean: 412.0\n",
            "Iterations: 69,   Reward Mean: 249.875\n",
            "Iterations: 70,   Reward Mean: 399.75\n",
            "Iterations: 71,   Reward Mean: 500.0\n",
            "Iterations: 72,   Reward Mean: 500.0\n",
            "Iterations: 73,   Reward Mean: 356.8\n",
            "Iterations: 74,   Reward Mean: 327.8\n",
            "Iterations: 75,   Reward Mean: 438.5\n",
            "Iterations: 76,   Reward Mean: 500.0\n",
            "Iterations: 77,   Reward Mean: 500.0\n",
            "Iterations: 78,   Reward Mean: 310.0\n",
            "Iterations: 79,   Reward Mean: 500.0\n",
            "Iterations: 80,   Reward Mean: 461.0\n",
            "Iterations: 81,   Reward Mean: 500.0\n",
            "Iterations: 82,   Reward Mean: 491.75\n",
            "Iterations: 83,   Reward Mean: 500.0\n",
            "Iterations: 84,   Reward Mean: 500.0\n",
            "Iterations: 85,   Reward Mean: 500.0\n",
            "Iterations: 86,   Reward Mean: 500.0\n",
            "Iterations: 87,   Reward Mean: 492.25\n",
            "Iterations: 88,   Reward Mean: 500.0\n",
            "Iterations: 89,   Reward Mean: 500.0\n",
            "Iterations: 90,   Reward Mean: 500.0\n",
            "Iterations: 91,   Reward Mean: 500.0\n",
            "Iterations: 92,   Reward Mean: 500.0\n",
            "Iterations: 93,   Reward Mean: 500.0\n",
            "Iterations: 94,   Reward Mean: 500.0\n",
            "Iterations: 95,   Reward Mean: 500.0\n",
            "Iterations: 96,   Reward Mean: 500.0\n",
            "Iterations: 97,   Reward Mean: 500.0\n",
            "Iterations: 98,   Reward Mean: 500.0\n",
            "Iterations: 99,   Reward Mean: 493.5\n",
            "Iterations: 100,   Reward Mean: 500.0\n",
            "Iterations: 101,   Reward Mean: 500.0\n",
            "Iterations: 102,   Reward Mean: 500.0\n",
            "Iterations: 103,   Reward Mean: 418.5\n",
            "Iterations: 104,   Reward Mean: 500.0\n",
            "Iterations: 105,   Reward Mean: 474.0\n",
            "Iterations: 106,   Reward Mean: 500.0\n",
            "Iterations: 107,   Reward Mean: 500.0\n",
            "Iterations: 108,   Reward Mean: 500.0\n",
            "Iterations: 109,   Reward Mean: 277.6666666666667\n",
            "Iterations: 110,   Reward Mean: 500.0\n",
            "Iterations: 111,   Reward Mean: 500.0\n",
            "Iterations: 112,   Reward Mean: 349.6\n",
            "Iterations: 113,   Reward Mean: 500.0\n",
            "Iterations: 114,   Reward Mean: 394.8\n",
            "Iterations: 115,   Reward Mean: 500.0\n",
            "Iterations: 116,   Reward Mean: 500.0\n",
            "Iterations: 117,   Reward Mean: 500.0\n",
            "Iterations: 118,   Reward Mean: 500.0\n",
            "Iterations: 119,   Reward Mean: 500.0\n",
            "Iterations: 120,   Reward Mean: 500.0\n",
            "Iterations: 121,   Reward Mean: 500.0\n",
            "Iterations: 122,   Reward Mean: 500.0\n",
            "Iterations: 123,   Reward Mean: 500.0\n",
            "Iterations: 124,   Reward Mean: 380.75\n",
            "Iterations: 125,   Reward Mean: 500.0\n",
            "Iterations: 126,   Reward Mean: 500.0\n",
            "Iterations: 127,   Reward Mean: 500.0\n",
            "Iterations: 128,   Reward Mean: 500.0\n",
            "Iterations: 129,   Reward Mean: 500.0\n",
            "Iterations: 130,   Reward Mean: 500.0\n",
            "Iterations: 131,   Reward Mean: 306.2\n",
            "Iterations: 132,   Reward Mean: 500.0\n",
            "Iterations: 133,   Reward Mean: 500.0\n",
            "Iterations: 134,   Reward Mean: 500.0\n",
            "Iterations: 135,   Reward Mean: 308.2\n",
            "Iterations: 136,   Reward Mean: 500.0\n",
            "Iterations: 137,   Reward Mean: 500.0\n",
            "Iterations: 138,   Reward Mean: 500.0\n",
            "Iterations: 139,   Reward Mean: 500.0\n",
            "Iterations: 140,   Reward Mean: 410.0\n",
            "Iterations: 141,   Reward Mean: 500.0\n",
            "Iterations: 142,   Reward Mean: 500.0\n",
            "Iterations: 143,   Reward Mean: 500.0\n",
            "Iterations: 144,   Reward Mean: 500.0\n",
            "Iterations: 145,   Reward Mean: 500.0\n",
            "Iterations: 146,   Reward Mean: 500.0\n",
            "Iterations: 147,   Reward Mean: 500.0\n",
            "Iterations: 148,   Reward Mean: 500.0\n",
            "Iterations: 149,   Reward Mean: 500.0\n",
            "Iterations: 150,   Reward Mean: 500.0\n",
            "Iterations: 151,   Reward Mean: 500.0\n",
            "Iterations: 152,   Reward Mean: 500.0\n",
            "Iterations: 153,   Reward Mean: 500.0\n",
            "Iterations: 154,   Reward Mean: 500.0\n",
            "Iterations: 155,   Reward Mean: 500.0\n",
            "Iterations: 156,   Reward Mean: 500.0\n",
            "Iterations: 157,   Reward Mean: 403.0\n",
            "Iterations: 158,   Reward Mean: 500.0\n",
            "Iterations: 159,   Reward Mean: 500.0\n",
            "Iterations: 160,   Reward Mean: 500.0\n",
            "Iterations: 161,   Reward Mean: 500.0\n",
            "Iterations: 162,   Reward Mean: 500.0\n",
            "Iterations: 163,   Reward Mean: 500.0\n",
            "Iterations: 164,   Reward Mean: 500.0\n",
            "Iterations: 165,   Reward Mean: 500.0\n",
            "Iterations: 166,   Reward Mean: 500.0\n",
            "Iterations: 167,   Reward Mean: 480.25\n",
            "Iterations: 168,   Reward Mean: 500.0\n",
            "Iterations: 169,   Reward Mean: 500.0\n",
            "Iterations: 170,   Reward Mean: 483.0\n",
            "Iterations: 171,   Reward Mean: 500.0\n",
            "Iterations: 172,   Reward Mean: 500.0\n",
            "Iterations: 173,   Reward Mean: 500.0\n",
            "Iterations: 174,   Reward Mean: 500.0\n",
            "Iterations: 175,   Reward Mean: 496.0\n",
            "Iterations: 176,   Reward Mean: 494.75\n",
            "Iterations: 177,   Reward Mean: 485.0\n",
            "Iterations: 178,   Reward Mean: 462.25\n",
            "Iterations: 179,   Reward Mean: 422.25\n",
            "Iterations: 180,   Reward Mean: 414.5\n",
            "Iterations: 181,   Reward Mean: 430.25\n",
            "Iterations: 182,   Reward Mean: 483.75\n",
            "Iterations: 183,   Reward Mean: 477.75\n",
            "Iterations: 184,   Reward Mean: 492.0\n",
            "Iterations: 185,   Reward Mean: 481.75\n",
            "Iterations: 186,   Reward Mean: 487.0\n",
            "Iterations: 187,   Reward Mean: 497.5\n",
            "Iterations: 188,   Reward Mean: 491.25\n",
            "Iterations: 189,   Reward Mean: 480.0\n",
            "Iterations: 190,   Reward Mean: 500.0\n",
            "Iterations: 191,   Reward Mean: 429.75\n",
            "Iterations: 192,   Reward Mean: 441.5\n",
            "Iterations: 193,   Reward Mean: 433.0\n",
            "Iterations: 194,   Reward Mean: 494.25\n"
          ]
        }
      ],
      "execution_count": null
    },
    {
      "id": "e071ed43",
      "cell_type": "markdown",
      "source": [
        "provide a plot like below:"
      ],
      "metadata": {
        "id": "e071ed43"
      }
    },
    {
      "id": "012ef355",
      "cell_type": "markdown",
      "source": [
        "![image.png](attachment:image.png)"
      ],
      "metadata": {
        "id": "012ef355"
      }
    },
    {
      "cell_type": "code",
      "source": [
        "# Load the results from the saved pickle file\n",
        "results_path = os.path.join(\"ckpts\", \"CartPole-v1\", \"results.pkl\")\n",
        "with open(results_path, \"rb\") as f:\n",
        "    results = pickle.load(f)\n",
        "\n",
        "# Extract results from GAIL training and rename variables\n",
        "expert_reward_mean, gail_reward_iterations = results\n",
        "\n",
        "# Create the plot\n",
        "plt.figure(figsize=(12, 8))\n",
        "\n",
        "# Plot the GAIL training progress\n",
        "iterations = range(1, len(gail_reward_iterations) + 1)\n",
        "plt.plot(iterations, gail_reward_iterations, 'b-', linewidth=2, marker='o', markersize=6, label='GAIL Agent Reward')\n",
        "\n",
        "# Add horizontal line for expert performance\n",
        "plt.axhline(y=expert_reward_mean, color='r', linestyle='--', linewidth=2, label=f'Expert Reward (Mean: {expert_reward_mean:.2f})')\n",
        "\n",
        "# Customize the plot\n",
        "plt.xlabel('Training Iterations', fontsize=12)\n",
        "plt.ylabel('Average Reward', fontsize=12)\n",
        "plt.title('GAIL Training Progress vs Expert Performance', fontsize=14, fontweight='bold')\n",
        "plt.legend(fontsize=11)\n",
        "plt.grid(True, alpha=0.3)\n",
        "\n",
        "# Add some styling\n",
        "plt.tight_layout()\n",
        "plt.show()\n",
        "\n",
        "# Print summary statistics\n",
        "print(f\"\\nTraining Summary:\")\n",
        "print(f\"Expert Average Reward: {expert_reward_mean:.2f}\")\n",
        "print(f\"GAIL Final Average Reward: {gail_reward_iterations[-1]:.2f}\")\n",
        "print(f\"Performance Gap: {abs(expert_reward_mean - gail_reward_iterations[-1]):.2f}\")"
      ],
      "metadata": {
        "colab": {
          "base_uri": "https://localhost:8080/",
          "height": 894
        },
        "id": "Yc1cwv1k-Hjg",
        "outputId": "b19fc9d4-8f6e-4391-d785-4cd3344b75ed"
      },
      "id": "Yc1cwv1k-Hjg",
      "execution_count": 25,
      "outputs": [
        {
          "output_type": "display_data",
          "data": {
            "text/plain": [
              "<Figure size 1200x800 with 1 Axes>"
            ],
            "image/png": "[encoded data removed]"
          },
          "metadata": {}
        },
        {
          "output_type": "stream",
          "name": "stdout",
          "text": [
            "\n",
            "Training Summary:\n",
            "Expert Average Reward: 500.00\n",
            "GAIL Final Average Reward: 500.00\n",
            "Performance Gap: 0.00\n"
          ]
        }
      ]
    }
  ]
}